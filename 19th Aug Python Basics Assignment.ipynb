{
 "cells": [
  {
   "cell_type": "markdown",
   "id": "a23f3cc2",
   "metadata": {},
   "source": [
    "#1. Declare two variables, `x` and `y`, and assign them integer values. Swap the values of these variables without using any temporary variable."
   ]
  },
  {
   "cell_type": "code",
   "execution_count": 61,
   "id": "1a50c4a6",
   "metadata": {},
   "outputs": [],
   "source": [
    "x = 1\n",
    "y = 10\n",
    "\n",
    "x = x + y\n",
    "y = x - y\n",
    "x= x - y\n",
    "\n",
    "print(x,y)"
   ]
  },
  {
   "cell_type": "markdown",
   "id": "c35a6760",
   "metadata": {},
   "source": [
    "#2. Create a program that calculates the area of a rectangle. Take the length and width as inputs from the user and store them in variables. Calculate and display the area."
   ]
  },
  {
   "cell_type": "code",
   "execution_count": 65,
   "id": "90a34117",
   "metadata": {},
   "outputs": [
    {
     "name": "stdout",
     "output_type": "stream",
     "text": [
      "Enter the length of Rectangle: 333\n",
      "Enter the width of Rectangle: 5455\n",
      "The area of the rectangle is  1816515.0\n"
     ]
    }
   ],
   "source": [
    "length= float(input(\"Enter the length of Rectangle: \"))\n",
    "width = float(input(\"Enter the width of Rectangle: \"))\n",
    "\n",
    "area = length * width\n",
    "\n",
    "print(\"The area of the rectangle is \",area)"
   ]
  },
  {
   "cell_type": "markdown",
   "id": "109603c6",
   "metadata": {},
   "source": [
    "#3. Write a Python program that converts temperatures from Celsius to Fahrenheit. Take the temperature in Celsius as input, store it in a variable, convert it to Fahrenheit, and display the result.\n"
   ]
  },
  {
   "cell_type": "code",
   "execution_count": 71,
   "id": "52b664b5",
   "metadata": {},
   "outputs": [
    {
     "name": "stdout",
     "output_type": "stream",
     "text": [
      "Enter the temparature in Celsius: 36\n",
      "The temparature in Celsius:  96.8\n"
     ]
    }
   ],
   "source": [
    "Celsius = float(input(\"Enter the temparature in Celsius: \"))\n",
    "\n",
    "Fahrenheit = (Celsius * 9/5) + 32\n",
    "print(\"The temparature in Celsius: \", Fahrenheit)"
   ]
  },
  {
   "cell_type": "markdown",
   "id": "61557d40",
   "metadata": {},
   "source": [
    "1. Write a Python program that takes a string as input and prints the length of the string."
   ]
  },
  {
   "cell_type": "code",
   "execution_count": 77,
   "id": "3084d354",
   "metadata": {},
   "outputs": [
    {
     "name": "stdout",
     "output_type": "stream",
     "text": [
      "Enter String: Satyaaaaa\n",
      "The length of the word is:  9\n"
     ]
    }
   ],
   "source": [
    "word=str(input(\"Enter String: \"))\n",
    "\n",
    "print(\"The length of the word is: \", len(word))"
   ]
  },
  {
   "cell_type": "markdown",
   "id": "f3319d5e",
   "metadata": {},
   "source": [
    "2. Create a program that takes a sentence from the user and counts the number of vowels (a, e, i, o, u) in the string.\n"
   ]
  },
  {
   "cell_type": "code",
   "execution_count": 86,
   "id": "46e7d925",
   "metadata": {},
   "outputs": [
    {
     "name": "stdout",
     "output_type": "stream",
     "text": [
      "Enter a sentence: counts the number of vowelsdffdsssaaa\n",
      "counts the number of vowels is  11\n"
     ]
    }
   ],
   "source": [
    "sentence = str(input(\"Enter a sentence: \"))\n",
    "\n",
    "c= sentence.count (\"a\") + sentence.count (\"e\") + sentence.count (\"i\") + sentence.count (\"o\") + sentence.count (\"u\") + sentence.count (\"A\") + sentence.count (\"E\") + sentence.count (\"I\") + sentence.count (\"O\") + sentence.count (\"U\")\n",
    "\n",
    "print(\"counts the number of vowels is \",c)\n"
   ]
  },
  {
   "cell_type": "markdown",
   "id": "01667a29",
   "metadata": {},
   "source": [
    "3. Given a string, reverse the order of characters using string slicing and print the reversed string.\n"
   ]
  },
  {
   "cell_type": "code",
   "execution_count": 92,
   "id": "44d5f085",
   "metadata": {},
   "outputs": [
    {
     "data": {
      "text/plain": [
       "'ggnirts'"
      ]
     },
     "execution_count": 92,
     "metadata": {},
     "output_type": "execute_result"
    }
   ],
   "source": [
    "s = \"stringg\"\n",
    " \n",
    "s[::-1]"
   ]
  },
  {
   "cell_type": "markdown",
   "id": "30baafad",
   "metadata": {},
   "source": [
    "4. Write a program that takes a string as input and checks if it is a palindrome (reads the same forwards and backwards)."
   ]
  },
  {
   "cell_type": "code",
   "execution_count": 102,
   "id": "7004012b",
   "metadata": {},
   "outputs": [
    {
     "name": "stdout",
     "output_type": "stream",
     "text": [
      "Enter a word: AAA\n",
      " The Word is a palindrome\n"
     ]
    }
   ],
   "source": [
    "word = str(input(\"Enter a word: \"))\n",
    "\n",
    "if word == word[::-1]:\n",
    "    print(\" The Word is a palindrome\")\n",
    "else :\n",
    "    print(\"The Word is not a palindrome\")"
   ]
  },
  {
   "cell_type": "markdown",
   "id": "66ffc6e0",
   "metadata": {},
   "source": [
    "5. Create a program that takes a string as input and removes all the spaces from it. Print the modified string without spaces."
   ]
  },
  {
   "cell_type": "code",
   "execution_count": 104,
   "id": "cb32cc5a",
   "metadata": {},
   "outputs": [
    {
     "name": "stdout",
     "output_type": "stream",
     "text": [
      "Enter a word: Sa  tya brat  \n"
     ]
    },
    {
     "data": {
      "text/plain": [
       "'Satyabrat'"
      ]
     },
     "execution_count": 104,
     "metadata": {},
     "output_type": "execute_result"
    }
   ],
   "source": [
    "word = str(input(\"Enter a word: \"))\n",
    "\n",
    "word.replace(\" \", \"\")\n"
   ]
  },
  {
   "cell_type": "code",
   "execution_count": null,
   "id": "4e26d832",
   "metadata": {},
   "outputs": [],
   "source": []
  }
 ],
 "metadata": {
  "kernelspec": {
   "display_name": "Python 3 (ipykernel)",
   "language": "python",
   "name": "python3"
  },
  "language_info": {
   "codemirror_mode": {
    "name": "ipython",
    "version": 3
   },
   "file_extension": ".py",
   "mimetype": "text/x-python",
   "name": "python",
   "nbconvert_exporter": "python",
   "pygments_lexer": "ipython3",
   "version": "3.8.13"
  }
 },
 "nbformat": 4,
 "nbformat_minor": 5
}
