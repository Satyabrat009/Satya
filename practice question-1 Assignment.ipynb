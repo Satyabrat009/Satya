{
 "cells": [
  {
   "cell_type": "raw",
   "id": "d98379cc",
   "metadata": {},
   "source": [
    "'''\n",
    "TOPIC: String Based Assignment Problem\n",
    "\n",
    "1. Write a program to reverse a string.\n",
    "2. Check if a string is a palindrome.\n",
    "3. Convert a string to uppercase.\n",
    "4. Convert a string to lowercase.\n",
    "5. Count the number of vowels in a string.\n",
    "6. Count the number of consonants in a string.\n",
    "7. Remove all whitespaces from a string.\n",
    "8. Find the length of a string without using the `len()` function.\n",
    "9. Check if a string contains a specific word.\n",
    "10. Replace a word in a string with another word.\n",
    "11. Count the occurrences of a word in a string.\n",
    "12. Find the first occurrence of a word in a string.\n",
    "13. Find the last occurrence of a word in a string.\n",
    "14. Split a string into a list of words.\n",
    "15. Join a list of words into a string.\n",
    "16. Convert a string where words are separated by spaces to one where words\n",
    "are separated by underscores.\n",
    "17. Check if a string starts with a specific word or phrase.\n",
    "18. Check if a string ends with a specific word or phrase.\n",
    "19. Convert a string to title case (e.g., \"hello world\" to \"Hello World\").\n",
    "20. Find the longest word in a string.\n",
    "21. Find the shortest word in a string.\n",
    "22. Reverse the order of words in a string.\n",
    "23. Check if a string is alphanumeric.\n",
    "24. Extract all digits from a string.\n",
    "25. Extract all alphabets from a string.\n",
    "26. Count the number of uppercase letters in a string.\n",
    "27. Count the number of lowercase letters in a string.\n",
    "28. Swap the case of each character in a string.\n",
    "29. Remove a specific word from a string.\n",
    "30. Check if a string is a valid email address.\n",
    "31. Extract the username from an email address string.\n",
    "32. Extract the domain name from an email address string.\n",
    "33. Replace multiple spaces in a string with a single space.\n",
    "34. Check if a string is a valid URL.\n",
    "35. Extract the protocol (http or https) from a URL string.\n",
    "36. Find the frequency of each character in a string.\n",
    "37. Remove all punctuation from a string.\n",
    "38. Check if a string contains only digits.\n",
    "39. Check if a string contains only alphabets.\n",
    "40. Convert a string to a list of characters.\n",
    "41. Check if two strings are anagrams.\n",
    "42. Encode a string using a Caesar cipher.\n",
    "43. Decode a Caesar cipher encoded string.\n",
    "44. Find the most frequent word in a string.\n",
    "45. Find all unique words in a string.\n",
    "46. Count the number of syllables in a string.\n",
    "47. Check if a string contains any special characters.\n",
    "48. Remove the nth word from a string.\n",
    "49. Insert a word at the nth position in a string.\n",
    "50. Convert a CSV string to a list of lists.'''"
   ]
  },
  {
   "cell_type": "code",
   "execution_count": 1,
   "id": "aec57038",
   "metadata": {},
   "outputs": [
    {
     "data": {
      "text/plain": [
       "'sssgnirtS'"
      ]
     },
     "execution_count": 1,
     "metadata": {},
     "output_type": "execute_result"
    }
   ],
   "source": [
    "# '1. Write a program to reverse a string.'\n",
    "s=\"Stringsss\"\n",
    "s[::-1]"
   ]
  },
  {
   "cell_type": "code",
   "execution_count": 2,
   "id": "eab0757c",
   "metadata": {},
   "outputs": [
    {
     "name": "stdout",
     "output_type": "stream",
     "text": [
      "Enter a string: bob\n",
      "string is a palindrome\n"
     ]
    }
   ],
   "source": [
    "# '2. Check if a string is a palindrome.'\n",
    "s=str(input(\"Enter a string: \"))\n",
    "if s == s[::-1]:\n",
    "    print(\"string is a palindrome\")\n",
    "else:\n",
    "    print(\"string is not a palindrome\")\n",
    "    "
   ]
  },
  {
   "cell_type": "code",
   "execution_count": 3,
   "id": "0d384c0e",
   "metadata": {},
   "outputs": [
    {
     "data": {
      "text/plain": [
       "' THIS IS A STRING'"
      ]
     },
     "execution_count": 3,
     "metadata": {},
     "output_type": "execute_result"
    }
   ],
   "source": [
    "# '3. Convert a string to uppercase.'\n",
    "s=\" this is a string\"\n",
    "s.upper()"
   ]
  },
  {
   "cell_type": "code",
   "execution_count": 4,
   "id": "fcd7aba7",
   "metadata": {},
   "outputs": [
    {
     "data": {
      "text/plain": [
       "' this is also a string'"
      ]
     },
     "execution_count": 4,
     "metadata": {},
     "output_type": "execute_result"
    }
   ],
   "source": [
    "# '4. Convert a string to lowercase.'\n",
    "s=\" This IS ALSO a string\"\n",
    "s.lower()"
   ]
  },
  {
   "cell_type": "code",
   "execution_count": 5,
   "id": "478f466e",
   "metadata": {},
   "outputs": [
    {
     "data": {
      "text/plain": [
       "14"
      ]
     },
     "execution_count": 5,
     "metadata": {},
     "output_type": "execute_result"
    }
   ],
   "source": [
    "# '5. Count the number of vowels in a string.'\n",
    "s=\"This is a string and we need to count the voewls\"\n",
    "k=\"aeiouAEIOU\"\n",
    "\n",
    "count=0\n",
    "for i in s:\n",
    "    if i in k:\n",
    "        count=count+1\n",
    "count"
   ]
  },
  {
   "cell_type": "code",
   "execution_count": 6,
   "id": "0007f435",
   "metadata": {},
   "outputs": [
    {
     "data": {
      "text/plain": [
       "34"
      ]
     },
     "execution_count": 6,
     "metadata": {},
     "output_type": "execute_result"
    }
   ],
   "source": [
    "# 6. Count the number of consonants in a string.\n",
    "s=\"This is a string and we need to count the voewls\"\n",
    "k=\"aeiouAEIOU\"\n",
    "\n",
    "count=0\n",
    "for i in s:\n",
    "    if i not in k:\n",
    "        count=count+1\n",
    "count"
   ]
  },
  {
   "cell_type": "code",
   "execution_count": 7,
   "id": "b71503ac",
   "metadata": {},
   "outputs": [
    {
     "data": {
      "text/plain": [
       "'ThisisastringandweneedtoRemoveallwhitespacesfromit'"
      ]
     },
     "execution_count": 7,
     "metadata": {},
     "output_type": "execute_result"
    }
   ],
   "source": [
    "# 7. Remove all whitespaces from a string\n",
    "s=\"This is a string and we need to Remove all whitespaces from     it   \"\n",
    "s.replace(\" \",\"\")"
   ]
  },
  {
   "cell_type": "code",
   "execution_count": 8,
   "id": "b67d2794",
   "metadata": {},
   "outputs": [
    {
     "data": {
      "text/plain": [
       "63"
      ]
     },
     "execution_count": 8,
     "metadata": {},
     "output_type": "execute_result"
    }
   ],
   "source": [
    "#8. Find the length of a string without using the `len()` function.\n",
    "s='Find the length of a string without using the `len()` function.'\n",
    "count=0\n",
    "for i in s:\n",
    "    count+=1\n",
    "count"
   ]
  },
  {
   "cell_type": "code",
   "execution_count": 10,
   "id": "c8557e93",
   "metadata": {},
   "outputs": [
    {
     "name": "stdout",
     "output_type": "stream",
     "text": [
      "enter the word: if\n",
      "String Contains the word i.e if\n"
     ]
    }
   ],
   "source": [
    "#9. Check if a string contains a specific word.\n",
    "s='Check if a string contains a specific word.'\n",
    "k=str(input(\"enter the word: \"))\n",
    "\n",
    "if k in s:\n",
    "    print(\"String Contains the word i.e\",k)\n",
    "else:\n",
    "    print(\"String does not Contains the word i.e\",k)"
   ]
  },
  {
   "cell_type": "code",
   "execution_count": 11,
   "id": "80ce48bd",
   "metadata": {},
   "outputs": [
    {
     "data": {
      "text/plain": [
       "'done a word in a string'"
      ]
     },
     "execution_count": 11,
     "metadata": {},
     "output_type": "execute_result"
    }
   ],
   "source": [
    "#10. Replace a word in a string with another word.\n",
    "s=\"Replace a word in a string\"\n",
    "s.replace(\"Replace\",\"done\")"
   ]
  },
  {
   "cell_type": "code",
   "execution_count": 12,
   "id": "4e13a198",
   "metadata": {},
   "outputs": [
    {
     "data": {
      "text/plain": [
       "2"
      ]
     },
     "execution_count": 12,
     "metadata": {},
     "output_type": "execute_result"
    }
   ],
   "source": [
    "# 11. Count the occurrences of a word in a string.\n",
    "s='Count the occurrences of a word in a string'\n",
    "s.count('s')"
   ]
  },
  {
   "cell_type": "code",
   "execution_count": 13,
   "id": "6d7f7020",
   "metadata": {},
   "outputs": [
    {
     "data": {
      "text/plain": [
       "5"
      ]
     },
     "execution_count": 13,
     "metadata": {},
     "output_type": "execute_result"
    }
   ],
   "source": [
    "# 12. Find the first occurrence of a word in a string.\n",
    "s='Find the first occurrence of a word in a string'\n",
    "s.find('the')"
   ]
  },
  {
   "cell_type": "code",
   "execution_count": 14,
   "id": "39266803",
   "metadata": {},
   "outputs": [
    {
     "data": {
      "text/plain": [
       "45"
      ]
     },
     "execution_count": 14,
     "metadata": {},
     "output_type": "execute_result"
    }
   ],
   "source": [
    "# 13. Find the last occurrence of a word in a string.\n",
    "s='Findg the last occurrence of a word in a string'\n",
    "s.rfind('n')\n"
   ]
  },
  {
   "cell_type": "code",
   "execution_count": 15,
   "id": "ce482dee",
   "metadata": {},
   "outputs": [
    {
     "data": {
      "text/plain": [
       "['14.', 'Split', 'a', 'string', 'into', 'a', 'list', 'of', 'words.']"
      ]
     },
     "execution_count": 15,
     "metadata": {},
     "output_type": "execute_result"
    }
   ],
   "source": [
    "# 14. Split a string into a list of words.\n",
    "s='14. Split a string into a list of words.'\n",
    "s.split()"
   ]
  },
  {
   "cell_type": "code",
   "execution_count": 16,
   "id": "cb295544",
   "metadata": {},
   "outputs": [
    {
     "data": {
      "text/plain": [
       "'satya brat need join'"
      ]
     },
     "execution_count": 16,
     "metadata": {},
     "output_type": "execute_result"
    }
   ],
   "source": [
    "# 15. Join a list of words into a string.\n",
    "l=['satya','brat','need','join']\n",
    "' '.join(l)"
   ]
  },
  {
   "cell_type": "code",
   "execution_count": 17,
   "id": "f24392f3",
   "metadata": {},
   "outputs": [
    {
     "data": {
      "text/plain": [
       "'Convert a string where words are separated by spaces to one where words are separated by underscores'"
      ]
     },
     "execution_count": 17,
     "metadata": {},
     "output_type": "execute_result"
    }
   ],
   "source": [
    "# 16. Convert a string where words are separated by spaces to one where words are separated by underscores.\n",
    "s='Convert_a_string_where_words_are_separated_by_spaces_to_one_where_words_are_separated_by_underscores'\n",
    "s.replace(\"_\",\" \")\n"
   ]
  },
  {
   "cell_type": "code",
   "execution_count": 18,
   "id": "a789f55c",
   "metadata": {},
   "outputs": [
    {
     "data": {
      "text/plain": [
       "True"
      ]
     },
     "execution_count": 18,
     "metadata": {},
     "output_type": "execute_result"
    }
   ],
   "source": [
    "# 17. Check if a string starts with a specific word or phrase.\n",
    "s='Check if a string starts with a specific word or phrase.'\n",
    "s.startswith('Check if')"
   ]
  },
  {
   "cell_type": "code",
   "execution_count": 19,
   "id": "cf1ecae3",
   "metadata": {},
   "outputs": [
    {
     "data": {
      "text/plain": [
       "True"
      ]
     },
     "execution_count": 19,
     "metadata": {},
     "output_type": "execute_result"
    }
   ],
   "source": [
    "# 18. Check if a string ends with a specific word or phrase.\n",
    "s='Check if a string ends with a specific word or phrase.'\n",
    "s.endswith('ase.')"
   ]
  },
  {
   "cell_type": "code",
   "execution_count": 20,
   "id": "4f8606f7",
   "metadata": {},
   "outputs": [
    {
     "data": {
      "text/plain": [
       "'Convert A String To Title Case (E.G., \"Hello World\" To \"Hello World\").'"
      ]
     },
     "execution_count": 20,
     "metadata": {},
     "output_type": "execute_result"
    }
   ],
   "source": [
    "#19. Convert a string to title case (e.g., \"hello world\" to \"Hello World\").\n",
    "s='Convert a string to title case (e.g., \"hello world\" to \"Hello World\").'\n",
    "s.title()"
   ]
  },
  {
   "cell_type": "code",
   "execution_count": 21,
   "id": "6489ea3a",
   "metadata": {},
   "outputs": [
    {
     "data": {
      "text/plain": [
       "'longest'"
      ]
     },
     "execution_count": 21,
     "metadata": {},
     "output_type": "execute_result"
    }
   ],
   "source": [
    "#20. Find the longest word in a string.\n",
    "s=' Find the longest word in a string'\n",
    "s.split()\n",
    "l=[]\n",
    "for i in s.split():\n",
    "    l.append(len(i))\n",
    "s.split()[l.index(max(l))]"
   ]
  },
  {
   "cell_type": "code",
   "execution_count": 22,
   "id": "6d6de6fa",
   "metadata": {},
   "outputs": [
    {
     "data": {
      "text/plain": [
       "'a'"
      ]
     },
     "execution_count": 22,
     "metadata": {},
     "output_type": "execute_result"
    }
   ],
   "source": [
    "# 21. Find the shortest word in a string.\n",
    "s='Find the shortest word in a string'\n",
    "s.split()\n",
    "l=[]\n",
    "for i in s.split():\n",
    "    l.append(len(i))\n",
    "s.split()[l.index(min(l))]"
   ]
  },
  {
   "cell_type": "code",
   "execution_count": 23,
   "id": "33279c3d",
   "metadata": {},
   "outputs": [
    {
     "data": {
      "text/plain": [
       "'string. a in words of order the Reverse'"
      ]
     },
     "execution_count": 23,
     "metadata": {},
     "output_type": "execute_result"
    }
   ],
   "source": [
    "# 22. Reverse the order of words in a string.\n",
    "s=' Reverse the order of words in a string.'\n",
    "\" \".join(s.split()[::-1])"
   ]
  },
  {
   "cell_type": "code",
   "execution_count": 24,
   "id": "4f3d8f35",
   "metadata": {},
   "outputs": [
    {
     "name": "stdout",
     "output_type": "stream",
     "text": [
      "String is alpha numeric\n"
     ]
    }
   ],
   "source": [
    "#23. Check if a string is alphanumeric.\n",
    "s='Check if a string isg23521  alphanumeric'\n",
    "n='0123456789'\n",
    "r=0\n",
    "for i in s:\n",
    "    if i in n:\n",
    "        r=r+1\n",
    "if r>0:\n",
    "    print(\"String is alpha numeric\")\n",
    "else:\n",
    "    print(\"String is not alpha numeric\")"
   ]
  },
  {
   "cell_type": "code",
   "execution_count": 25,
   "id": "2fe0fd7f",
   "metadata": {},
   "outputs": [
    {
     "name": "stdout",
     "output_type": "stream",
     "text": [
      "2\n",
      "4\n",
      "5\n",
      "6\n",
      "4\n",
      "7\n",
      "6\n",
      "5\n",
      "7\n",
      "5\n",
      "7\n",
      "4\n"
     ]
    }
   ],
   "source": [
    "# 24. Extract all digits from a string.\n",
    "s='24. Extr56act all 47udigits fro657m a 574tring.'\n",
    "n='0123456789'\n",
    "\n",
    "for i in s:\n",
    "    if i in n:\n",
    "        print(i)\n"
   ]
  },
  {
   "cell_type": "code",
   "execution_count": 26,
   "id": "dd2ebcfb",
   "metadata": {},
   "outputs": [
    {
     "name": "stdout",
     "output_type": "stream",
     "text": [
      ".\n",
      " \n",
      "f\n",
      "r\n",
      "o\n",
      "m\n",
      " \n",
      "a\n",
      " \n",
      "t\n",
      "r\n",
      "i\n",
      "n\n",
      "g\n",
      ".\n"
     ]
    }
   ],
   "source": [
    "# 25. Extract all alphabets from a string.\n",
    "\n",
    "s='24. fro657m a 574tring.'\n",
    "n='0123456789'\n",
    "\n",
    "for i in s:\n",
    "    if i not in n:\n",
    "        print(i)"
   ]
  },
  {
   "cell_type": "code",
   "execution_count": 27,
   "id": "4524b227",
   "metadata": {},
   "outputs": [
    {
     "name": "stdout",
     "output_type": "stream",
     "text": [
      "9\n"
     ]
    }
   ],
   "source": [
    "# 26. Count the number of uppercase letters in a string.\n",
    "s='Count the ss122MumbEr of upPercase 46556 letTErs in a sUYTing.'\n",
    "u='ABCDEFGHIJKLMNOPQRSTUVWXYZ'\n",
    "\n",
    "count = 0\n",
    "for i in s:\n",
    "    if i in u:\n",
    "        count=count+1\n",
    "print(count)    "
   ]
  },
  {
   "cell_type": "code",
   "execution_count": 28,
   "id": "28d10c8d",
   "metadata": {},
   "outputs": [
    {
     "name": "stdout",
     "output_type": "stream",
     "text": [
      "34\n"
     ]
    }
   ],
   "source": [
    "# 27. Count the number of lowercase letters in a string.\n",
    "s='Count the MumbEr of a43564 upPercase letTErs in a sUYTing.'\n",
    "u='abcdefghijklmnopqrstuvwxyz'\n",
    "\n",
    "count = 0\n",
    "for i in s:\n",
    "    if i in u:\n",
    "        count=count+1\n",
    "print(count)    "
   ]
  },
  {
   "cell_type": "code",
   "execution_count": 29,
   "id": "0e36542a",
   "metadata": {},
   "outputs": [
    {
     "data": {
      "text/plain": [
       "'28. sWAP tHE case OF EACH chaRACTER IN A StrING.'"
      ]
     },
     "execution_count": 29,
     "metadata": {},
     "output_type": "execute_result"
    }
   ],
   "source": [
    "# 28. Swap the case of each character in a string.\n",
    "s='28. Swap The CASE of each CHAracter in a sTRing.'\n",
    "s.swapcase()"
   ]
  },
  {
   "cell_type": "code",
   "execution_count": 30,
   "id": "88d01204",
   "metadata": {},
   "outputs": [
    {
     "data": {
      "text/plain": [
       "'29. Remove a new word from a string.'"
      ]
     },
     "execution_count": 30,
     "metadata": {},
     "output_type": "execute_result"
    }
   ],
   "source": [
    "# 29. Remove a specific word from a string.\n",
    "s=\"29. Remove a specific word from a string.\"\n",
    "\n",
    "s.replace(\"specific\",\"new\")"
   ]
  },
  {
   "cell_type": "code",
   "execution_count": 31,
   "id": "eb02fd08",
   "metadata": {},
   "outputs": [
    {
     "name": "stdout",
     "output_type": "stream",
     "text": [
      "Enter your email id: pradhan.satyabrat@gmail.com\n",
      "The email address is valid\n"
     ]
    }
   ],
   "source": [
    "#30. Check if a string is a valid email address.\n",
    "s=str(input(\"Enter your email id: \"))\n",
    "\n",
    "if '@'in s and s.endswith('.com'):\n",
    "    print(\"The email address is valid\")\n",
    "else:\n",
    "     print(\"The email address is not valid\")\n",
    "    "
   ]
  },
  {
   "cell_type": "code",
   "execution_count": 32,
   "id": "22cd34a8",
   "metadata": {},
   "outputs": [
    {
     "name": "stdout",
     "output_type": "stream",
     "text": [
      "Enter your email id: pradhan.satyabrat@gmail.com\n",
      "your user name is :  pradhan.satyabrat\n"
     ]
    }
   ],
   "source": [
    "# 31. Extract the username from an email address string.\n",
    "s=str(input(\"Enter your email id: \"))\n",
    "un=s.split(sep='@')[0]\n",
    "print(\"your user name is : \", un)"
   ]
  },
  {
   "cell_type": "code",
   "execution_count": 33,
   "id": "68db8f4f",
   "metadata": {},
   "outputs": [
    {
     "name": "stdout",
     "output_type": "stream",
     "text": [
      "Enter your email id: pradhan.satyabrat@gmail.com\n",
      "your domain name is :  gmail.com\n"
     ]
    }
   ],
   "source": [
    "#32. Extract the domain name from an email address string.\n",
    "s=str(input(\"Enter your email id: \"))\n",
    "un=s.split(sep='@')[1]\n",
    "print(\"your domain name is : \", un)\n"
   ]
  },
  {
   "cell_type": "code",
   "execution_count": 34,
   "id": "1ff7d521",
   "metadata": {},
   "outputs": [
    {
     "data": {
      "text/plain": [
       "'33. Replace multiple spaces in a string with a single space.'"
      ]
     },
     "execution_count": 34,
     "metadata": {},
     "output_type": "execute_result"
    }
   ],
   "source": [
    "# 33. Replace multiple spaces in a string with a single space.\n",
    "s='33. Replace     multiple   spaces in a   string with a          single space.  '\n",
    "\" \".join(s.split())"
   ]
  },
  {
   "cell_type": "code",
   "execution_count": 35,
   "id": "729a1d30",
   "metadata": {},
   "outputs": [
    {
     "name": "stdout",
     "output_type": "stream",
     "text": [
      "Enter a URL: https://www.youtube.com/\n",
      "The URL is valid\n"
     ]
    }
   ],
   "source": [
    "# 34. Check if a string is a valid URL.\n",
    "s=str(input(\"Enter a URL: \"))\n",
    "\n",
    "if s.startswith('www.') or  s.startswith('https://www.') or  s.startswith('http://www.') and s.endswith('.com'):\n",
    "    print(\"The URL is valid\")\n",
    "else:\n",
    "     print(\"The URL is not valid\")\n",
    "    "
   ]
  },
  {
   "cell_type": "code",
   "execution_count": 36,
   "id": "a7b0cbf2",
   "metadata": {},
   "outputs": [
    {
     "name": "stdout",
     "output_type": "stream",
     "text": [
      "Enter a URL: https://www.youtube.com/\n"
     ]
    },
    {
     "data": {
      "text/plain": [
       "'https'"
      ]
     },
     "execution_count": 36,
     "metadata": {},
     "output_type": "execute_result"
    }
   ],
   "source": [
    "# 35. Extract the protocol (http or https) from a URL string.\n",
    "s=str(input(\"Enter a URL: \"))\n",
    "s.split(sep=':')[0]\n"
   ]
  },
  {
   "cell_type": "code",
   "execution_count": 37,
   "id": "7e63a4de",
   "metadata": {},
   "outputs": [
    {
     "name": "stdout",
     "output_type": "stream",
     "text": [
      "{'F': 1, 'i': 3, 'n': 4, 'd': 1, ' ': 8, 't': 3, 'h': 3, 'e': 5, 'f': 2, 'r': 4, 'q': 1, 'u': 1, 'c': 4, 'y': 1, 'o': 1, 'a': 4, 's': 1, 'g': 1, '.': 1}\n"
     ]
    }
   ],
   "source": [
    "# 36. Find the frequency of each character in a string.\n",
    "s='Find the frequency of each character in a string.'\n",
    "l={}\n",
    "for i in s:\n",
    "    if i in l:\n",
    "        l[i]=l[i]+1\n",
    "    else:\n",
    "        l[i]=1\n",
    "print(l)"
   ]
  },
  {
   "cell_type": "code",
   "execution_count": 38,
   "id": "11b9a019",
   "metadata": {},
   "outputs": [
    {
     "data": {
      "text/plain": [
       "'Remove all punctuation from a string '"
      ]
     },
     "execution_count": 38,
     "metadata": {},
     "output_type": "execute_result"
    }
   ],
   "source": [
    "#37. Remove all punctuation from a string.\n",
    "s= \"!Remo}ve_ a.ll^& pun$ctu....ation fr!!!!om a string~. \"\n",
    "\n",
    "p=['!','\"','#','$','%','&','(',')','*','+','-','.',',','/',':',';','<','=','>','?','@','^','_','`','{','|','}','~']\n",
    "\n",
    "k=[]\n",
    "for i in list(s):\n",
    "    if i not in p:\n",
    "        k.append(i)\n",
    "\"\".join(k)"
   ]
  },
  {
   "cell_type": "code",
   "execution_count": 39,
   "id": "702b1eec",
   "metadata": {},
   "outputs": [
    {
     "name": "stdout",
     "output_type": "stream",
     "text": [
      "the string does not contains only digits\n"
     ]
    }
   ],
   "source": [
    "# 38. Check if a string contains only digits.\n",
    "\n",
    "s=\"38. Check if a string contains only digits\"\n",
    "d='1234567890 '\n",
    "\n",
    "k=[]\n",
    "for i in list(s):\n",
    "    if i not in d:\n",
    "        k.append(i)\n",
    "if len(k)==0:\n",
    "    print (\"the string contains only digits\")\n",
    "else:\n",
    "    print (\"the string does not contains only digits\")\n",
    "            "
   ]
  },
  {
   "cell_type": "code",
   "execution_count": 40,
   "id": "2f344c7b",
   "metadata": {},
   "outputs": [
    {
     "name": "stdout",
     "output_type": "stream",
     "text": [
      "the string contains only alphapets\n"
     ]
    }
   ],
   "source": [
    "# 39. Check if a string contains only alphabets.\n",
    "\n",
    "s='Check if a string contains only alphabets'\n",
    "u='abcdefghijklmnopqrstuvwxyzABCDEFGHIJKLMNOPQRSTUVWXYZ '\n",
    "\n",
    "k=[]\n",
    "for i in list(s):\n",
    "    if i not in u:\n",
    "        k.append(i)\n",
    "if len(k)==0:\n",
    "    print (\"the string contains only alphapets\")\n",
    "else:\n",
    "    print (\"the string does not contains only alphapets\")\n",
    "        "
   ]
  },
  {
   "cell_type": "code",
   "execution_count": 41,
   "id": "d74fd3c1",
   "metadata": {},
   "outputs": [
    {
     "name": "stdout",
     "output_type": "stream",
     "text": [
      "['t', 'o', ' ', 'a', ' ', 'l', 'i', 's', 't', ' ', 'o', 'f', ' ', 'c', 'h', 'a', 'r', 'a', 'c', 't', 'e', 'r', 's', '.']\n"
     ]
    }
   ],
   "source": [
    "# 40. Convert a string to a list of characters.\n",
    "s='to a list of characters.'\n",
    "print(list(s))"
   ]
  },
  {
   "cell_type": "code",
   "execution_count": 42,
   "id": "4a61a303",
   "metadata": {},
   "outputs": [
    {
     "name": "stdout",
     "output_type": "stream",
     "text": [
      "strings are anagrams\n"
     ]
    }
   ],
   "source": [
    "# 41. Check if two strings are anagrams.\n",
    "s1=\"below or\"\n",
    "s2=\"elbow ro\"\n",
    "\n",
    "if sorted(s2)==sorted(s1):\n",
    "    print(\"strings are anagrams\")\n",
    "else:\n",
    "    print('strings are not anagrams')"
   ]
  },
  {
   "cell_type": "code",
   "execution_count": 43,
   "id": "6519a90d",
   "metadata": {
    "scrolled": true
   },
   "outputs": [
    {
     "data": {
      "text/plain": [
       "'GrrfoyfCkrr'"
      ]
     },
     "execution_count": 43,
     "metadata": {},
     "output_type": "execute_result"
    }
   ],
   "source": [
    "# 42. Encode a string using a Caesar cipher.\n",
    "\n",
    "uppercase = ['A', 'B', 'C', 'D', 'E', 'F', 'G', 'H', 'I', 'J', 'K', 'L', 'M', 'N', 'O', 'P', 'Q', 'R', 'S', 'T', 'U', 'V', 'W', 'X', 'Y', 'Z']\n",
    "lowercase = ['a', 'b', 'c', 'd', 'e', 'f', 'g', 'h', 'i', 'j', 'k', 'l', 'm', 'n', 'o', 'p', 'q', 'r', 's', 't', 'u', 'v', 'w', 'x', 'y', 'z',' ']\n",
    "\n",
    "def encode (text,step):\n",
    "    out=[]\n",
    "    \n",
    "    for i in text:\n",
    "        if i in uppercase:\n",
    "            index=uppercase.index(i)\n",
    "            crypting=(index+step)%26\n",
    "            n = uppercase[crypting]\n",
    "            out.append(n)\n",
    "        elif i in lowercase:\n",
    "            index=lowercase.index(i)\n",
    "            crypting=(index+step)%27\n",
    "                        \n",
    "            n = lowercase[crypting]\n",
    "            out.append(n)\n",
    "\n",
    "    return out\n",
    "k=encode('All is Well',6)\n",
    "''.join(k)"
   ]
  },
  {
   "cell_type": "code",
   "execution_count": 44,
   "id": "05398422",
   "metadata": {},
   "outputs": [
    {
     "data": {
      "text/plain": [
       "'All is Well'"
      ]
     },
     "execution_count": 44,
     "metadata": {},
     "output_type": "execute_result"
    }
   ],
   "source": [
    "# 43. Decode a Caesar cipher encoded string.\n",
    "\n",
    "uppercase = ['A', 'B', 'C', 'D', 'E', 'F', 'G', 'H', 'I', 'J', 'K', 'L', 'M', 'N', 'O', 'P', 'Q', 'R', 'S', 'T', 'U', 'V', 'W', 'X', 'Y', 'Z']\n",
    "lowercase = ['a', 'b', 'c', 'd', 'e', 'f', 'g', 'h', 'i', 'j', 'k', 'l', 'm', 'n', 'o', 'p', 'q', 'r', 's', 't', 'u', 'v', 'w', 'x', 'y', 'z',' ']\n",
    "\n",
    "def decode (text,step):\n",
    "    out=[]\n",
    "    \n",
    "    for i in text:\n",
    "        if i in uppercase:\n",
    "            index=uppercase.index(i)\n",
    "            crypting=(index+26-step)%26\n",
    "            n = uppercase[crypting]\n",
    "            out.append(n)\n",
    "        elif i in lowercase:\n",
    "            index=lowercase.index(i)\n",
    "            crypting=(index+27-step)%27\n",
    "                        \n",
    "            n = lowercase[crypting]\n",
    "            out.append(n)\n",
    "\n",
    "    return out\n",
    "k=decode('GrrfoyfCkrr',6)\n",
    "''.join(k)"
   ]
  },
  {
   "cell_type": "code",
   "execution_count": 45,
   "id": "e98a5fae",
   "metadata": {},
   "outputs": [
    {
     "data": {
      "text/plain": [
       "'frequent'"
      ]
     },
     "execution_count": 45,
     "metadata": {},
     "output_type": "execute_result"
    }
   ],
   "source": [
    "# 44. Find the most frequent word in a string.\n",
    "s=\"Find the most frequent word in a string Find the most  string frequent frequent\"\n",
    "\n",
    "l={}\n",
    "for i in s.split():\n",
    "    if i in l:\n",
    "        l[i]=l[i]+1\n",
    "    else:\n",
    "        l[i]=1\n",
    "max(l, key=l.get)"
   ]
  },
  {
   "cell_type": "code",
   "execution_count": 46,
   "id": "eb705063",
   "metadata": {},
   "outputs": [
    {
     "data": {
      "text/plain": [
       "['Find', 'all', 'unique', 'words', 'in', 'a', 'string']"
      ]
     },
     "execution_count": 46,
     "metadata": {},
     "output_type": "execute_result"
    }
   ],
   "source": [
    "# 45. Find all unique words in a string.\n",
    "s= \"Find all unique words in a string string string unique words\"\n",
    "uw=[]\n",
    "for i in s.split():\n",
    "    if i not in uw:\n",
    "        uw.append(i)\n",
    "uw"
   ]
  },
  {
   "cell_type": "code",
   "execution_count": 47,
   "id": "db9deec1",
   "metadata": {},
   "outputs": [
    {
     "name": "stdout",
     "output_type": "stream",
     "text": [
      "2\n"
     ]
    }
   ],
   "source": [
    "# 46. Count the number of syllables in a string.\n",
    "\n",
    "def syllable_count(word):\n",
    "    word = word.lower()\n",
    "    count = 0\n",
    "    vs = \"aeiouy\"\n",
    "    if word[0] in vs:\n",
    "        count += 1\n",
    "    for index in range(1, len(word)):\n",
    "        if word[index] in vs and word[index - 1] not in vs:\n",
    "            count += 1\n",
    "    if word.endswith(\"e\"):\n",
    "        count -= 1\n",
    "    if count == 0:\n",
    "        count += 1\n",
    "    return count\n",
    "\n",
    "print(syllable_count('Satya'))  "
   ]
  },
  {
   "cell_type": "code",
   "execution_count": 48,
   "id": "75b54df5",
   "metadata": {},
   "outputs": [
    {
     "name": "stdout",
     "output_type": "stream",
     "text": [
      "string does not contain any special characters\n"
     ]
    }
   ],
   "source": [
    "# 47. Check if a string contains any special characters.\n",
    "s='47Check if a string contains any special characters'\n",
    "c=['!','\"','#','$','%','&','(',')','*','+','-','.',',','/',':',';','<','=','>','?','@','^','_','`','{','|','}','~']\n",
    "\n",
    "count=0\n",
    "for i in c:\n",
    "    if i in s:\n",
    "        count=count+1\n",
    "if count>0:\n",
    "    print('string contains special characters')\n",
    "else:\n",
    "    print('string does not contain any special characters')"
   ]
  },
  {
   "cell_type": "code",
   "execution_count": 49,
   "id": "9109f578",
   "metadata": {},
   "outputs": [
    {
     "data": {
      "text/plain": [
       "'# 48. Remove the nth from a string.'"
      ]
     },
     "execution_count": 49,
     "metadata": {},
     "output_type": "execute_result"
    }
   ],
   "source": [
    "# 48. Remove the nth word from a string.\n",
    "s='# 48. Remove the nth word from a string.'\n",
    "k =s.split()\n",
    "n=4\n",
    "del k [n+1]\n",
    "' '.join(k)"
   ]
  },
  {
   "cell_type": "code",
   "execution_count": 50,
   "id": "24c5e672",
   "metadata": {},
   "outputs": [
    {
     "data": {
      "text/plain": [
       "'49. Insert a word at the nth position Newaaa in a string.'"
      ]
     },
     "execution_count": 50,
     "metadata": {},
     "output_type": "execute_result"
    }
   ],
   "source": [
    "#49. Insert a word at the nth position in a string.\n",
    "s='49. Insert a word at the nth position in a string.'\n",
    "k =s.split()\n",
    "n=7\n",
    "k.insert(n+1, 'Newaaa')\n",
    "' '.join(k)"
   ]
  },
  {
   "cell_type": "code",
   "execution_count": 51,
   "id": "8b0492ca",
   "metadata": {},
   "outputs": [
    {
     "ename": "FileNotFoundError",
     "evalue": "[Errno 2] No such file or directory: 'sample.csv'",
     "output_type": "error",
     "traceback": [
      "\u001b[1;31m---------------------------------------------------------------------------\u001b[0m",
      "\u001b[1;31mFileNotFoundError\u001b[0m                         Traceback (most recent call last)",
      "Cell \u001b[1;32mIn[51], line 3\u001b[0m\n\u001b[0;32m      1\u001b[0m \u001b[38;5;66;03m# 50. Convert a CSV string to a list of lists\u001b[39;00m\n\u001b[0;32m      2\u001b[0m \u001b[38;5;66;03m# used upload method to import csv to jupiter notebook as I avoided to use any package\u001b[39;00m\n\u001b[1;32m----> 3\u001b[0m \u001b[38;5;28;01mwith\u001b[39;00m \u001b[38;5;28;43mopen\u001b[39;49m\u001b[43m(\u001b[49m\u001b[38;5;124;43m'\u001b[39;49m\u001b[38;5;124;43msample.csv\u001b[39;49m\u001b[38;5;124;43m'\u001b[39;49m\u001b[43m,\u001b[49m\u001b[43m \u001b[49m\u001b[38;5;124;43m'\u001b[39;49m\u001b[38;5;124;43mr\u001b[39;49m\u001b[38;5;124;43m'\u001b[39;49m\u001b[43m)\u001b[49m \u001b[38;5;28;01mas\u001b[39;00m f:\n\u001b[0;32m      4\u001b[0m     results \u001b[38;5;241m=\u001b[39m []\n\u001b[0;32m      5\u001b[0m     \u001b[38;5;28;01mfor\u001b[39;00m line \u001b[38;5;129;01min\u001b[39;00m f:\n",
      "File \u001b[1;32m~\\anaconda3\\lib\\site-packages\\IPython\\core\\interactiveshell.py:284\u001b[0m, in \u001b[0;36m_modified_open\u001b[1;34m(file, *args, **kwargs)\u001b[0m\n\u001b[0;32m    277\u001b[0m \u001b[38;5;28;01mif\u001b[39;00m file \u001b[38;5;129;01min\u001b[39;00m {\u001b[38;5;241m0\u001b[39m, \u001b[38;5;241m1\u001b[39m, \u001b[38;5;241m2\u001b[39m}:\n\u001b[0;32m    278\u001b[0m     \u001b[38;5;28;01mraise\u001b[39;00m \u001b[38;5;167;01mValueError\u001b[39;00m(\n\u001b[0;32m    279\u001b[0m         \u001b[38;5;124mf\u001b[39m\u001b[38;5;124m\"\u001b[39m\u001b[38;5;124mIPython won\u001b[39m\u001b[38;5;124m'\u001b[39m\u001b[38;5;124mt let you open fd=\u001b[39m\u001b[38;5;132;01m{\u001b[39;00mfile\u001b[38;5;132;01m}\u001b[39;00m\u001b[38;5;124m by default \u001b[39m\u001b[38;5;124m\"\u001b[39m\n\u001b[0;32m    280\u001b[0m         \u001b[38;5;124m\"\u001b[39m\u001b[38;5;124mas it is likely to crash IPython. If you know what you are doing, \u001b[39m\u001b[38;5;124m\"\u001b[39m\n\u001b[0;32m    281\u001b[0m         \u001b[38;5;124m\"\u001b[39m\u001b[38;5;124myou can use builtins\u001b[39m\u001b[38;5;124m'\u001b[39m\u001b[38;5;124m open.\u001b[39m\u001b[38;5;124m\"\u001b[39m\n\u001b[0;32m    282\u001b[0m     )\n\u001b[1;32m--> 284\u001b[0m \u001b[38;5;28;01mreturn\u001b[39;00m \u001b[43mio_open\u001b[49m\u001b[43m(\u001b[49m\u001b[43mfile\u001b[49m\u001b[43m,\u001b[49m\u001b[43m \u001b[49m\u001b[38;5;241;43m*\u001b[39;49m\u001b[43margs\u001b[49m\u001b[43m,\u001b[49m\u001b[43m \u001b[49m\u001b[38;5;241;43m*\u001b[39;49m\u001b[38;5;241;43m*\u001b[39;49m\u001b[43mkwargs\u001b[49m\u001b[43m)\u001b[49m\n",
      "\u001b[1;31mFileNotFoundError\u001b[0m: [Errno 2] No such file or directory: 'sample.csv'"
     ]
    }
   ],
   "source": [
    "# 50. Convert a CSV string to a list of lists\n",
    "# used upload method to import csv to jupiter notebook as I avoided to use any package\n",
    "with open('sample.csv', 'r') as f:\n",
    "    results = []\n",
    "    for line in f:\n",
    "            words = line.split(',')\n",
    "            results.append((words[0], words[1:]))\n",
    "results"
   ]
  },
  {
   "cell_type": "markdown",
   "id": "3d298c74",
   "metadata": {},
   "source": [
    "List Based Practice Problem :\n",
    "1. Create a list with integers from 1 to 10.\n",
    "2. Find the length of a list without using the `len()` function.\n",
    "3. Append an element to the end of a list.\n",
    "4. Insert an element at a specific index in a list.\n",
    "5. Remove an element from a list by its value.\n",
    "6. Remove an element from a list by its index.\n",
    "7. Check if an element exists in a list.\n",
    "8. Find the index of the first occurrence of an element in a list.\n",
    "9. Count the occurrences of an element in a list.\n",
    "10. Reverse the order of elements in a list.\n",
    "11. Sort a list in ascending order.\n",
    "12. Sort a list in descending order.\n",
    "13. Create a list of even numbers from 1 to 20.\n",
    "14. Create a list of odd numbers from 1 to 20.\n",
    "15. Find the sum of all elements in a list.\n",
    "16. Find the maximum value in a list.\n",
    "17. Find the minimum value in a list.\n",
    "18. Create a list of squares of numbers from 1 to 10.\n",
    "19. Create a list of random numbers.\n",
    "20. Remove duplicates from a list.\n",
    "21. Find the common elements between two lists.\n",
    "22. Find the difference between two lists.\n",
    "23. Merge two lists.\n",
    "24. Multiply all elements in a list by 2.\n",
    "25. Filter out all even numbers from a list.\n",
    "26. Convert a list of strings to a list of integers.\n",
    "27. Convert a list of integers to a list of strings.\n",
    "28. Flatten a nested list.\n",
    "29. Create a list of the first 10 Fibonacci numbers.\n",
    "30. Check if a list is sorted.\n",
    "31. Rotate a list to the left by `n` positions.\n",
    "32. Rotate a list to the right by `n` positions.\n",
    "33. Create a list of prime numbers up to 50.\n",
    "34. Split a list into chunks of size `n`.\n",
    "35. Find the second largest number in a list.\n",
    "36. Replace every element in a list with its square.\n",
    "37. Convert a list to a dictionary where list elements become keys and their indices become values.\n",
    "38. Shuffle the elements of a list randomly.\n",
    "39. Create a list of the first 10 factorial numbers.\n",
    "40. Check if two lists have at least one element in common.\n",
    "41. Remove all elements from a list.\n",
    "42. Replace negative numbers in a list with 0.\n",
    "43. Convert a string into a list of words.\n",
    "44. Convert a list of words into a string.\n",
    "45. Create a list of the first `n` powers of 2.\n",
    "46. Find the longest string in a list of strings.\n",
    "47. Find the shortest string in a list of strings.\n",
    "48. Create a list of the first `n` triangular numbers.\n",
    "49. Check if a list contains another list as a subsequence.\n",
    "50. Swap two elements in a list by their indices."
   ]
  },
  {
   "cell_type": "code",
   "execution_count": 52,
   "id": "a52e8586",
   "metadata": {},
   "outputs": [
    {
     "data": {
      "text/plain": [
       "[1, 2, 3, 4, 5, 6, 7, 8, 9, 10]"
      ]
     },
     "execution_count": 52,
     "metadata": {},
     "output_type": "execute_result"
    }
   ],
   "source": [
    "#1. Create a list with integers from 1 to 10.\n",
    "l=list(range(1,11))\n",
    "l"
   ]
  },
  {
   "cell_type": "code",
   "execution_count": 53,
   "id": "fdda93c1",
   "metadata": {},
   "outputs": [
    {
     "data": {
      "text/plain": [
       "10"
      ]
     },
     "execution_count": 53,
     "metadata": {},
     "output_type": "execute_result"
    }
   ],
   "source": [
    "# 2. Find the length of a list without using the `len()` function.\n",
    "l=list(range(1,11))\n",
    "count=0\n",
    "for i in l:\n",
    "    count+=1\n",
    "count"
   ]
  },
  {
   "cell_type": "code",
   "execution_count": 54,
   "id": "f6fa981e",
   "metadata": {},
   "outputs": [
    {
     "data": {
      "text/plain": [
       "[1, 2, 3, 4, 5, 6, 7, 8, 9, 10, 'Newaaa']"
      ]
     },
     "execution_count": 54,
     "metadata": {},
     "output_type": "execute_result"
    }
   ],
   "source": [
    "# 3. Append an element to the end of a list.\n",
    "l=list(range(1,11))\n",
    "l.append('Newaaa')\n",
    "l"
   ]
  },
  {
   "cell_type": "code",
   "execution_count": 55,
   "id": "9285a6f8",
   "metadata": {},
   "outputs": [
    {
     "data": {
      "text/plain": [
       "[1, 2, 3, 4, 5, 6, 7, 'element', 8, 9, 10]"
      ]
     },
     "execution_count": 55,
     "metadata": {},
     "output_type": "execute_result"
    }
   ],
   "source": [
    "# 4. Insert an element at a specific index in a list.\n",
    "l=list(range(1,11))\n",
    "n=7\n",
    "l.insert(n, 'element')\n",
    "l"
   ]
  },
  {
   "cell_type": "code",
   "execution_count": 56,
   "id": "e5b106bf",
   "metadata": {},
   "outputs": [
    {
     "data": {
      "text/plain": [
       "[1, 2, 3, 4, 6, 7, 8, 9, 10]"
      ]
     },
     "execution_count": 56,
     "metadata": {},
     "output_type": "execute_result"
    }
   ],
   "source": [
    "# 5. Remove an element from a list by its value.\n",
    "l=list(range(1,11))\n",
    "v=5\n",
    "l.remove(v)\n",
    "l"
   ]
  },
  {
   "cell_type": "code",
   "execution_count": 57,
   "id": "dfff9311",
   "metadata": {},
   "outputs": [
    {
     "data": {
      "text/plain": [
       "[1, 2, 3, 4, 6, 7, 8, 9, 10]"
      ]
     },
     "execution_count": 57,
     "metadata": {},
     "output_type": "execute_result"
    }
   ],
   "source": [
    "# 6. Remove an element from a list by its index.\n",
    "l=list(range(1,11))\n",
    "n=4\n",
    "del l[n]\n",
    "l"
   ]
  },
  {
   "cell_type": "code",
   "execution_count": 58,
   "id": "98545b76",
   "metadata": {},
   "outputs": [
    {
     "name": "stdout",
     "output_type": "stream",
     "text": [
      "element exists in the list\n"
     ]
    }
   ],
   "source": [
    "# 7. Check if an element exists in a list.\n",
    "l=list(range(1,11))\n",
    "n=4\n",
    "\n",
    "if n in l:\n",
    "    print('element exists in the list')\n",
    "else:\n",
    "    print('element does not exists in the list')\n"
   ]
  },
  {
   "cell_type": "code",
   "execution_count": 59,
   "id": "365da140",
   "metadata": {},
   "outputs": [
    {
     "data": {
      "text/plain": [
       "5"
      ]
     },
     "execution_count": 59,
     "metadata": {},
     "output_type": "execute_result"
    }
   ],
   "source": [
    "# 8. Find the index of the first occurrence of an element in a list.\n",
    "l=list(range(1,11))\n",
    "n=4\n",
    "l[n]"
   ]
  },
  {
   "cell_type": "code",
   "execution_count": 60,
   "id": "228f63d8",
   "metadata": {},
   "outputs": [
    {
     "data": {
      "text/plain": [
       "{'apple': 2, 'bannana': 1, 'grapes': 1}"
      ]
     },
     "execution_count": 60,
     "metadata": {},
     "output_type": "execute_result"
    }
   ],
   "source": [
    "# 9. Count the occurrences of an element in a list.\n",
    "l=['apple','bannana','apple','grapes']\n",
    "m={}\n",
    "for i in l:\n",
    "    if i in m:\n",
    "        m[i]=m[i]+1\n",
    "    else:\n",
    "        m[i]=1\n",
    "m"
   ]
  },
  {
   "cell_type": "code",
   "execution_count": 61,
   "id": "eb94383f",
   "metadata": {},
   "outputs": [
    {
     "data": {
      "text/plain": [
       "[10, 9, 8, 7, 6, 5, 4, 3, 2, 1]"
      ]
     },
     "execution_count": 61,
     "metadata": {},
     "output_type": "execute_result"
    }
   ],
   "source": [
    "# 10. Reverse the order of elements in a list.\n",
    "l=list(range(1,11))\n",
    "l[::-1]"
   ]
  },
  {
   "cell_type": "code",
   "execution_count": 62,
   "id": "d04d686a",
   "metadata": {},
   "outputs": [
    {
     "data": {
      "text/plain": [
       "[1, 2, 5, 5, 6, 9]"
      ]
     },
     "execution_count": 62,
     "metadata": {},
     "output_type": "execute_result"
    }
   ],
   "source": [
    "# 11. Sort a list in ascending order.\n",
    "l=[1,2,5,9,6,5]\n",
    "l.sort()\n",
    "l"
   ]
  },
  {
   "cell_type": "code",
   "execution_count": 63,
   "id": "cb89e671",
   "metadata": {},
   "outputs": [
    {
     "data": {
      "text/plain": [
       "[9, 6, 5, 5, 2, 1]"
      ]
     },
     "execution_count": 63,
     "metadata": {},
     "output_type": "execute_result"
    }
   ],
   "source": [
    "# 12. Sort a list in descending order.\n",
    "l=[1,2,5,9,6,5]\n",
    "l.sort(reverse=True)\n",
    "l"
   ]
  },
  {
   "cell_type": "code",
   "execution_count": 64,
   "id": "7b394c1b",
   "metadata": {},
   "outputs": [
    {
     "data": {
      "text/plain": [
       "[2, 4, 6, 8, 10, 12, 14, 16, 18, 20]"
      ]
     },
     "execution_count": 64,
     "metadata": {},
     "output_type": "execute_result"
    }
   ],
   "source": [
    "# 13. Create a list of even numbers from 1 to 20.\n",
    "list(range(2,22))[::2]"
   ]
  },
  {
   "cell_type": "code",
   "execution_count": 65,
   "id": "bcd31cb9",
   "metadata": {},
   "outputs": [
    {
     "data": {
      "text/plain": [
       "[1, 3, 5, 7, 9, 11, 13, 15, 17, 19]"
      ]
     },
     "execution_count": 65,
     "metadata": {},
     "output_type": "execute_result"
    }
   ],
   "source": [
    "# 14. Create a list of odd numbers from 1 to 20.\n",
    "list(range(1,21))[::2]"
   ]
  },
  {
   "cell_type": "code",
   "execution_count": 66,
   "id": "5b7b73ae",
   "metadata": {},
   "outputs": [
    {
     "data": {
      "text/plain": [
       "28"
      ]
     },
     "execution_count": 66,
     "metadata": {},
     "output_type": "execute_result"
    }
   ],
   "source": [
    "# 15. Find the sum of all elements in a list.\n",
    "l=[1,2,5,9,6,5]\n",
    "s=0\n",
    "for i in l:\n",
    "    s=s+i\n",
    "s   "
   ]
  },
  {
   "cell_type": "code",
   "execution_count": 67,
   "id": "5019f059",
   "metadata": {},
   "outputs": [
    {
     "data": {
      "text/plain": [
       "9"
      ]
     },
     "execution_count": 67,
     "metadata": {},
     "output_type": "execute_result"
    }
   ],
   "source": [
    "#16. Find the maximum value in a list.\n",
    "l=[1,2,5,9,6,5]\n",
    "s=l[0]\n",
    "for i in l:\n",
    "    if i>s:\n",
    "        s=i\n",
    "s   "
   ]
  },
  {
   "cell_type": "code",
   "execution_count": 68,
   "id": "950fe858",
   "metadata": {},
   "outputs": [
    {
     "data": {
      "text/plain": [
       "-55"
      ]
     },
     "execution_count": 68,
     "metadata": {},
     "output_type": "execute_result"
    }
   ],
   "source": [
    "# 17. Find the minimum value in a list.\n",
    "l=[1,2,5,9,6,-55]\n",
    "s=l[0]\n",
    "for i in l:\n",
    "    if i<s:\n",
    "        s=i\n",
    "s "
   ]
  },
  {
   "cell_type": "code",
   "execution_count": 69,
   "id": "66325b5e",
   "metadata": {},
   "outputs": [
    {
     "data": {
      "text/plain": [
       "[1, 4, 9, 16, 25, 36, 49, 64, 81, 100]"
      ]
     },
     "execution_count": 69,
     "metadata": {},
     "output_type": "execute_result"
    }
   ],
   "source": [
    "# 18. Create a list of squares of numbers from 1 to 10.\n",
    "l=[]\n",
    "for i in list(range(1,11)):\n",
    "    s=i*i\n",
    "    l.append(s)\n",
    "l"
   ]
  },
  {
   "cell_type": "code",
   "execution_count": 70,
   "id": "698d7656",
   "metadata": {},
   "outputs": [
    {
     "data": {
      "text/plain": [
       "[34, 93, 71, 60, 72, 2, 34, 90, 46, 48]"
      ]
     },
     "execution_count": 70,
     "metadata": {},
     "output_type": "execute_result"
    }
   ],
   "source": [
    "# 19. Create a list of random numbers.\n",
    "import random\n",
    "r = []\n",
    "for i in range(10):\n",
    "    r.append(random.randint(1,100))\n",
    "r"
   ]
  },
  {
   "cell_type": "code",
   "execution_count": 71,
   "id": "fd56a2bd",
   "metadata": {},
   "outputs": [
    {
     "data": {
      "text/plain": [
       "['grapes', 'apple', 'bannana']"
      ]
     },
     "execution_count": 71,
     "metadata": {},
     "output_type": "execute_result"
    }
   ],
   "source": [
    "# 20. Remove duplicates from a list.\n",
    "l=['apple','bannana','apple','grapes']\n",
    "list(set(l))\n"
   ]
  },
  {
   "cell_type": "code",
   "execution_count": 72,
   "id": "08f07789",
   "metadata": {},
   "outputs": [
    {
     "data": {
      "text/plain": [
       "[5, 6, 7, 8, 9]"
      ]
     },
     "execution_count": 72,
     "metadata": {},
     "output_type": "execute_result"
    }
   ],
   "source": [
    "# 21. Find the common elements between two lists.\n",
    "l1=[1,2,3,4,5,6,7,8,9,5]\n",
    "l2=[5,5,6,7,8,9,0,11,12,24]\n",
    "c=[]\n",
    "for i in l1:\n",
    "    if i in l2:\n",
    "        if i not in c:\n",
    "            c.append(i)\n",
    "c"
   ]
  },
  {
   "cell_type": "code",
   "execution_count": 73,
   "id": "a5d9c0be",
   "metadata": {},
   "outputs": [
    {
     "data": {
      "text/plain": [
       "[1, 2, 3, 4, 0, 11, 12, 24]"
      ]
     },
     "execution_count": 73,
     "metadata": {},
     "output_type": "execute_result"
    }
   ],
   "source": [
    "# 22. Find the difference between two lists.\n",
    "l1=[1,2,3,4,5,6,7,8,9,5]\n",
    "l2=[5,5,6,7,8,9,0,11,12,24]\n",
    "c=[]\n",
    "for i in l1:\n",
    "    if i not in l2:\n",
    "        if i not in c:\n",
    "            c.append(i)\n",
    "for i in l2:\n",
    "    if i not in l1:\n",
    "        if i not in c:\n",
    "            c.append(i)            \n",
    "c"
   ]
  },
  {
   "cell_type": "code",
   "execution_count": 74,
   "id": "fe114916",
   "metadata": {},
   "outputs": [
    {
     "data": {
      "text/plain": [
       "[1, 2, 3, 4, 5, 6, 7, 8, 9, 5, 5, 5, 6, 7, 8, 9, 0, 11, 12, 24]"
      ]
     },
     "execution_count": 74,
     "metadata": {},
     "output_type": "execute_result"
    }
   ],
   "source": [
    "# 23. Merge two lists.\n",
    "l1=[1,2,3,4,5,6,7,8,9,5]\n",
    "l2=[5,5,6,7,8,9,0,11,12,24]\n",
    "l1+l2"
   ]
  },
  {
   "cell_type": "code",
   "execution_count": 75,
   "id": "212a32fc",
   "metadata": {},
   "outputs": [
    {
     "data": {
      "text/plain": [
       "[2, 4, 6, 8, 10, 12, 14, 16, 18, 10]"
      ]
     },
     "execution_count": 75,
     "metadata": {},
     "output_type": "execute_result"
    }
   ],
   "source": [
    "# 24. Multiply all elements in a list by 2.\n",
    "l=[1,2,3,4,5,6,7,8,9,5]\n",
    "m=[]\n",
    "for i in l:\n",
    "    c=i*2\n",
    "    m.append(c)\n",
    "m"
   ]
  },
  {
   "cell_type": "code",
   "execution_count": 76,
   "id": "04ff9bfc",
   "metadata": {},
   "outputs": [
    {
     "data": {
      "text/plain": [
       "[2, 4, 6, 8, 6, 8, 0, 12, 24]"
      ]
     },
     "execution_count": 76,
     "metadata": {},
     "output_type": "execute_result"
    }
   ],
   "source": [
    "# 25. Filter out all even numbers from a list.\n",
    "l=[1, 2, 3, 4, 5, 6, 7, 8, 9, 5, 5, 5, 6, 7, 8, 9, 0, 11, 12, 24]\n",
    "e=[]\n",
    "for i in l:\n",
    "    if i%2==0:\n",
    "        e.append(i)\n",
    "e"
   ]
  },
  {
   "cell_type": "code",
   "execution_count": 77,
   "id": "0ffcfd37",
   "metadata": {},
   "outputs": [
    {
     "data": {
      "text/plain": [
       "[1, 2, 3, 4, 5]"
      ]
     },
     "execution_count": 77,
     "metadata": {},
     "output_type": "execute_result"
    }
   ],
   "source": [
    "# 26. Convert a list of strings to a list of integers.\n",
    "l=['1','2','3','4','5']\n",
    "n=[]\n",
    "for i in l:\n",
    "    n.append(int(i))\n",
    "n"
   ]
  },
  {
   "cell_type": "code",
   "execution_count": 78,
   "id": "0785e47e",
   "metadata": {},
   "outputs": [
    {
     "name": "stdout",
     "output_type": "stream",
     "text": [
      "['1', '2', '3', '4', '5', '6', '7', '8', '9', '5', '5', '5', '6', '7', '8', '9', '0', '11', '12', '24']\n"
     ]
    }
   ],
   "source": [
    "# 27. Convert a list of integers to a list of strings.\n",
    "l=[1, 2, 3, 4, 5, 6, 7, 8, 9, 5, 5, 5, 6, 7, 8, 9, 0, 11, 12, 24]\n",
    "n=[]\n",
    "for i in l:\n",
    "    n.append(str(i))\n",
    "print(n)"
   ]
  },
  {
   "cell_type": "code",
   "execution_count": 79,
   "id": "7b90b8b8",
   "metadata": {},
   "outputs": [
    {
     "name": "stdout",
     "output_type": "stream",
     "text": [
      "[0, 1, 2, 3, 4, 5, 6, 7, 8, 9, 10, 11, 12, 13, 14, 15, 16, 17, 18, 19, 20, 21, 22, 23, 24]\n"
     ]
    }
   ],
   "source": [
    "# 28. Flatten a nested list.\n",
    "n=[[0, 1, 2, 3, 4], [5, 6, 7, 8, 9], [10, 11, 12, 13, 14], [15, 16, 17, 18, 19], [20, 21, 22, 23, 24]]\n",
    "l=[]\n",
    "for i in n:\n",
    "    for j in i:\n",
    "        l.append(j)\n",
    "print(l)"
   ]
  },
  {
   "cell_type": "code",
   "execution_count": 80,
   "id": "0f93810a",
   "metadata": {},
   "outputs": [
    {
     "data": {
      "text/plain": [
       "[0, 1, 1, 2, 3, 5, 8, 13, 21, 34]"
      ]
     },
     "execution_count": 80,
     "metadata": {},
     "output_type": "execute_result"
    }
   ],
   "source": [
    "# 29. Create a list of the first 10 Fibonacci numbers.\n",
    "f=[0,1]\n",
    "\n",
    "for i in range(0,8):\n",
    "    c=f[i]+f[i+1]\n",
    "    f.append(c)\n",
    "\n",
    "f"
   ]
  },
  {
   "cell_type": "code",
   "execution_count": 81,
   "id": "32ada402",
   "metadata": {},
   "outputs": [
    {
     "name": "stdout",
     "output_type": "stream",
     "text": [
      "list is not sorted\n"
     ]
    }
   ],
   "source": [
    "# 30. Check if a list is sorted.\n",
    "l=[1,4,8,0,3,7]\n",
    "\n",
    "if l == sorted(l):\n",
    "    print(\"list is sorted\")\n",
    "else:\n",
    "    print(\"list is not sorted\")"
   ]
  },
  {
   "cell_type": "code",
   "execution_count": 82,
   "id": "e35fb1bf",
   "metadata": {},
   "outputs": [
    {
     "data": {
      "text/plain": [
       "[3, 7, 2, 1, 4, 6, 8]"
      ]
     },
     "execution_count": 82,
     "metadata": {},
     "output_type": "execute_result"
    }
   ],
   "source": [
    "# 31. Rotate a list to the left by `n` positions.\n",
    "\n",
    "n=4\n",
    "l = [1, 4, 6,8,3, 7, 2]\n",
    "lr = l[n:] + l[:n]\n",
    " \n",
    "lr"
   ]
  },
  {
   "cell_type": "code",
   "execution_count": 83,
   "id": "3532df33",
   "metadata": {},
   "outputs": [
    {
     "data": {
      "text/plain": [
       "[8, 3, 7, 2, 1, 4, 6]"
      ]
     },
     "execution_count": 83,
     "metadata": {},
     "output_type": "execute_result"
    }
   ],
   "source": [
    "# 32. Rotate a list to the right by `n` positions.\n",
    "\n",
    "n=4\n",
    "l = [1, 4, 6,8,3, 7, 2]\n",
    "rr = l[-n:] + l[:-n]\n",
    "rr"
   ]
  },
  {
   "cell_type": "code",
   "execution_count": 84,
   "id": "5bfd6cf0",
   "metadata": {},
   "outputs": [
    {
     "data": {
      "text/plain": [
       "[1, 2, 3, 5, 7, 11, 13, 17, 19, 23, 29, 31, 37, 41, 43, 47]"
      ]
     },
     "execution_count": 84,
     "metadata": {},
     "output_type": "execute_result"
    }
   ],
   "source": [
    "# 33. Create a list of prime numbers up to 50.\n",
    "prime_list = []\n",
    "\n",
    "for i in range(1, 50):\n",
    "    temp=[]\n",
    "    for j in range(2,i-1):\n",
    "        b=i%j\n",
    "        temp.append(b)\n",
    "    result=1\n",
    "    for x in temp:\n",
    "        result=result*x\n",
    "    if result !=0:\n",
    "        prime_list.append(i)\n",
    "        \n",
    "        \n",
    "        \n",
    "prime_list   "
   ]
  },
  {
   "cell_type": "code",
   "execution_count": 85,
   "id": "548ef6da",
   "metadata": {},
   "outputs": [
    {
     "name": "stdout",
     "output_type": "stream",
     "text": [
      "[1, 2, 3, 4, 5]\n",
      "[6, 7, 8, 9, 5]\n",
      "[5, 5, 6, 7, 8]\n",
      "[9, 0, 11, 12, 24]\n"
     ]
    }
   ],
   "source": [
    "# 34. Split a list into chunks of size `n`.\n",
    "l=[1, 2, 3, 4, 5, 6, 7, 8, 9, 5, 5, 5, 6, 7, 8, 9, 0, 11, 12, 24]\n",
    "n = 5\n",
    "for i in range(0, len(l), n):\n",
    "    x = i\n",
    "    print(l[x:x+n])"
   ]
  },
  {
   "cell_type": "code",
   "execution_count": 86,
   "id": "3e0d4c10",
   "metadata": {},
   "outputs": [
    {
     "data": {
      "text/plain": [
       "12"
      ]
     },
     "execution_count": 86,
     "metadata": {},
     "output_type": "execute_result"
    }
   ],
   "source": [
    "# 35. Find the second largest number in a list.\n",
    "l=[1, 2, 3, 4, 5, 6, 7, 8, 9, 5, 5, 5, 6, 7, 8, 9, 0, 11, 12, 24]\n",
    "p=[]\n",
    "for i in l:\n",
    "    if i != max(l):\n",
    "        p.append(i)\n",
    "max(p)"
   ]
  },
  {
   "cell_type": "code",
   "execution_count": 87,
   "id": "6ce552c0",
   "metadata": {},
   "outputs": [
    {
     "data": {
      "text/plain": [
       "[1, 4, 9, 16, 25, 36, 49, 64, 81, 25, 25, 25, 36, 49, 64, 81, 0, 121, 144, 576]"
      ]
     },
     "execution_count": 87,
     "metadata": {},
     "output_type": "execute_result"
    }
   ],
   "source": [
    "# 36. Replace every element in a list with its square.\n",
    "l=[1, 2, 3, 4, 5, 6, 7, 8, 9, 5, 5, 5, 6, 7, 8, 9, 0, 11, 12, 24]\n",
    "\n",
    "for i in range(0,len(l)):\n",
    "    s=l[i]*l[i]\n",
    "    l[i]=s\n",
    "l    "
   ]
  },
  {
   "cell_type": "code",
   "execution_count": 88,
   "id": "dfde9c7c",
   "metadata": {},
   "outputs": [
    {
     "name": "stdout",
     "output_type": "stream",
     "text": [
      "{1: 0, 2: 1, 3: 2, 4: 3, 5: 11, 6: 12, 7: 13, 8: 14, 9: 15, 0: 16, 11: 17, 12: 18, 24: 19}\n"
     ]
    }
   ],
   "source": [
    "# 37. Convert a list to a dictionary where list elements become keys and their indices become values.\n",
    "l=[1, 2, 3, 4, 5, 6, 7, 8, 9, 5, 5, 5, 6, 7, 8, 9, 0, 11, 12, 24]\n",
    "d={}\n",
    "for i in range(0,len(l)):\n",
    "    d[l[i]]=i\n",
    "print(d)\n"
   ]
  },
  {
   "cell_type": "code",
   "execution_count": 89,
   "id": "0a69feb6",
   "metadata": {},
   "outputs": [
    {
     "data": {
      "text/plain": [
       "[5, 8, 9, 7, 4, 5, 12, 6, 6, 5, 3, 11, 7, 0, 9, 2, 8, 24, 1, 5]"
      ]
     },
     "execution_count": 89,
     "metadata": {},
     "output_type": "execute_result"
    }
   ],
   "source": [
    "# 38. Shuffle the elements of a list randomly.\n",
    "import random\n",
    "l=[1, 2, 3, 4, 5, 6, 7, 8, 9, 5, 5, 5, 6, 7, 8, 9, 0, 11, 12, 24]\n",
    "random.shuffle(l)\n",
    "l"
   ]
  },
  {
   "cell_type": "code",
   "execution_count": 90,
   "id": "41604ca3",
   "metadata": {},
   "outputs": [
    {
     "data": {
      "text/plain": [
       "[1, 2, 6, 24, 120, 720, 5040, 40320, 362880, 3628800]"
      ]
     },
     "execution_count": 90,
     "metadata": {},
     "output_type": "execute_result"
    }
   ],
   "source": [
    "# 39. Create a list of the first 10 factorial numbers.\n",
    "l=[]\n",
    "for i in range(2,12):\n",
    "    r=1\n",
    "    for j in range(1,i):\n",
    "        r=r*j\n",
    "    l.append(r)\n",
    "l"
   ]
  },
  {
   "cell_type": "code",
   "execution_count": 91,
   "id": "a113e402",
   "metadata": {},
   "outputs": [
    {
     "name": "stdout",
     "output_type": "stream",
     "text": [
      "two list does have element/s in common and these are/ is:  [5, 6, 7, 8, 9, 5]\n"
     ]
    }
   ],
   "source": [
    "# 40. Check if two lists have at least one element in common.\n",
    "l1=[1,2,3,4,5,6,7,8,9,5]\n",
    "l2=[5,5,6,7,8,9,0,11,12,24]\n",
    "c=[]\n",
    "for i in l1:\n",
    "    if i in l2:\n",
    "        c.append(i)\n",
    "if len(c)==0:\n",
    "    print(\"two list does not have any elements in common\")\n",
    "else:\n",
    "    print(\"two list does have element/s in common and these are/ is: \", c)"
   ]
  },
  {
   "cell_type": "code",
   "execution_count": 92,
   "id": "651c70c4",
   "metadata": {},
   "outputs": [
    {
     "data": {
      "text/plain": [
       "[]"
      ]
     },
     "execution_count": 92,
     "metadata": {},
     "output_type": "execute_result"
    }
   ],
   "source": [
    "# 41. Remove all elements from a list.\n",
    "l=[5,5,6,7,8,9,0,11,12,24]\n",
    "l.clear()\n",
    "l"
   ]
  },
  {
   "cell_type": "code",
   "execution_count": 93,
   "id": "3437794e",
   "metadata": {},
   "outputs": [
    {
     "data": {
      "text/plain": [
       "[5, 5, 6, 7, 0, 9, 0, 0, 12, 24]"
      ]
     },
     "execution_count": 93,
     "metadata": {},
     "output_type": "execute_result"
    }
   ],
   "source": [
    "#42. Replace negative numbers in a list with 0.\n",
    "l=[5,5,6,7,-8,9,0,-11,12,24]\n",
    "\n",
    "for i in range(0,len(l)):\n",
    "    if l[i]<0:\n",
    "        l[i]=0\n",
    "l    "
   ]
  },
  {
   "cell_type": "code",
   "execution_count": 94,
   "id": "5cbe6c2f",
   "metadata": {},
   "outputs": [
    {
     "data": {
      "text/plain": [
       "['My', 'name', 'is', 'satya']"
      ]
     },
     "execution_count": 94,
     "metadata": {},
     "output_type": "execute_result"
    }
   ],
   "source": [
    "# 43. Convert a string into a list of words.\n",
    "s=\"My name is satya\"\n",
    "s.split()"
   ]
  },
  {
   "cell_type": "code",
   "execution_count": 95,
   "id": "26869f7a",
   "metadata": {},
   "outputs": [
    {
     "data": {
      "text/plain": [
       "'My name is satya'"
      ]
     },
     "execution_count": 95,
     "metadata": {},
     "output_type": "execute_result"
    }
   ],
   "source": [
    "# 44. Convert a list of words into a string.\n",
    "l=['My', 'name', 'is', 'satya']\n",
    "' '.join(l)"
   ]
  },
  {
   "cell_type": "code",
   "execution_count": 96,
   "id": "e895796e",
   "metadata": {},
   "outputs": [
    {
     "data": {
      "text/plain": [
       "[1, 2, 4, 8, 16, 32, 64, 128, 256, 512]"
      ]
     },
     "execution_count": 96,
     "metadata": {},
     "output_type": "execute_result"
    }
   ],
   "source": [
    "# 45. Create a list of the first `n` powers of 2.\n",
    "n=10\n",
    "l=[]\n",
    "for i in range(n):\n",
    "    k=2**i\n",
    "    l.append(k)\n",
    "l"
   ]
  },
  {
   "cell_type": "code",
   "execution_count": 97,
   "id": "c499d77b",
   "metadata": {},
   "outputs": [
    {
     "data": {
      "text/plain": [
       "'Myaaaa'"
      ]
     },
     "execution_count": 97,
     "metadata": {},
     "output_type": "execute_result"
    }
   ],
   "source": [
    "# 46. Find the longest string in a list of strings.\n",
    "l=['Myaaaa', 'name', 'is', 'satya']\n",
    "k=len(l[0])\n",
    "for i in range(0,len(l)):\n",
    "    if len(l[i])>=k:\n",
    "        k=len(l[i])\n",
    "        out=l[i]\n",
    "out    "
   ]
  },
  {
   "cell_type": "code",
   "execution_count": 98,
   "id": "9278a297",
   "metadata": {},
   "outputs": [
    {
     "data": {
      "text/plain": [
       "'Myaaaa'"
      ]
     },
     "execution_count": 98,
     "metadata": {},
     "output_type": "execute_result"
    }
   ],
   "source": [
    "l[0]"
   ]
  },
  {
   "cell_type": "code",
   "execution_count": 99,
   "id": "c36e5b4d",
   "metadata": {},
   "outputs": [
    {
     "data": {
      "text/plain": [
       "'is'"
      ]
     },
     "execution_count": 99,
     "metadata": {},
     "output_type": "execute_result"
    }
   ],
   "source": [
    "# 47. Find the shortest string in a list of strings.\n",
    "l=['Myq', 'name', 'is', 'satya']\n",
    "k=len(l[0])\n",
    "for i in range(0,len(l)):\n",
    "    if len(l[i])<k:\n",
    "        k=len(l[i])\n",
    "        out=l[i]\n",
    "out    "
   ]
  },
  {
   "cell_type": "code",
   "execution_count": 226,
   "id": "1db0e580",
   "metadata": {},
   "outputs": [
    {
     "data": {
      "text/plain": [
       "[0, 1, 3, 6, 10, 15, 21, 28, 36, 45]"
      ]
     },
     "execution_count": 226,
     "metadata": {},
     "output_type": "execute_result"
    }
   ],
   "source": [
    "# 48. Create a list of the first `n` triangular numbers.\n",
    "n=10\n",
    "l=[]\n",
    "for i in range(n):\n",
    "    k=i*(i+1)//2\n",
    "    l.append(k)\n",
    "l\n"
   ]
  },
  {
   "cell_type": "code",
   "execution_count": 101,
   "id": "06bbccbe",
   "metadata": {},
   "outputs": [
    {
     "name": "stdout",
     "output_type": "stream",
     "text": [
      "Main list does not contain the subsequence.\n"
     ]
    }
   ],
   "source": [
    "# 49. Check if a list contains another list as a subsequence.\n",
    "\n",
    "def check_exists(l, s):\n",
    "    check = True\n",
    "    for i in s:\n",
    "        try:\n",
    "            index = l.index(i) \n",
    "            l = l[index+1:]\n",
    "        except ValueError:\n",
    "            check = False \n",
    "            break \n",
    "    return check\n",
    "l=[1, 2, 3, 4, 5, 6, 7, 8, 9, 5, 5, 5, 6, 7, 8, 9, 0, 11, 12, 24]\n",
    "s=[4,5,6,7,8,9,1]\n",
    "\n",
    "if check_exists(l,s)== True:\n",
    "    print(\"Main list contains the subsequence.\")\n",
    "else:\n",
    "    print(\"Main list does not contain the subsequence.\")    "
   ]
  },
  {
   "cell_type": "code",
   "execution_count": 102,
   "id": "c1ef420f",
   "metadata": {},
   "outputs": [
    {
     "data": {
      "text/plain": [
       "['My', 'is', 'name', 'satya']"
      ]
     },
     "execution_count": 102,
     "metadata": {},
     "output_type": "execute_result"
    }
   ],
   "source": [
    "# 50. Swap two elements in a list by their indices.\n",
    "l=['My', 'name', 'is', 'satya']\n",
    "k=l[2]\n",
    "l[2]=l[1]\n",
    "l[1]=k\n",
    "l"
   ]
  },
  {
   "cell_type": "markdown",
   "id": "8e5edc7d",
   "metadata": {},
   "source": [
    "Tuple Based Practice Problem :\n",
    "1. Create a tuple with integers from 1 to 5.\n",
    "2. Access the third element of a tuple.\n",
    "3. Find the length of a tuple without using the `len()` function.\n",
    "4. Count the occurrences of an element in a tuple.    \n",
    "5. Find the index of the first occurrence of an element in a tuple.\n",
    "6. Check if an element exists in a tuple.\n",
    "7. Convert a tuple to a list.\n",
    "8. Convert a list to a tuple.\n",
    "9. Unpack the elements of a tuple into variables.\n",
    "10. Create a tuple of even numbers from 1 to 10.\n",
    "11. Create a tuple of odd numbers from 1 to 10.\n",
    "12. Concatenate two tuples.\n",
    "13. Repeat a tuple three times.\n",
    "14. Check if a tuple is empty.\n",
    "15. Create a nested tuple.\n",
    "16. Access the first element of a nested tuple.\n",
    "17. Create a tuple with a single element.\n",
    "18. Compare two tuples.\n",
    "19. Delete a tuple.\n",
    "20. Slice a tuple.\n",
    "21. Find the maximum value in a tuple.\n",
    "22. Find the minimum value in a tuple.\n",
    "23. Convert a string to a tuple of characters.\n",
    "24. Convert a tuple of characters to a string.\n",
    "25. Create a tuple from multiple data types.\n",
    "26. Check if two tuples are identical.\n",
    "27. Sort the elements of a tuple.\n",
    "28. Convert a tuple of integers to a tuple of strings.\n",
    "29. Convert a tuple of strings to a tuple of integers.\n",
    "30. Merge two tuples.\n",
    "31. Flatten a nested tuple.\n",
    "32. Create a tuple of the first 5 prime numbers.\n",
    "33. Check if a tuple is a palindrome.\n",
    "34. Create a tuple of squares of numbers from 1 to 5.\n",
    "35. Filter out all even numbers from a tuple.\n",
    "36. Multiply all elements in a tuple by 2.\n",
    "37. Create a tuple of random numbers.\n",
    "38. Check if a tuple is sorted.\n",
    "39. Rotate a tuple to the left by `n` positions.\n",
    "40. Rotate a tuple to the right by `n` positions.\n",
    "41. Create a tuple of the first 5 Fibonacci numbers.\n",
    "42. Create a tuple from user input.\n",
    "43. Swap two elements in a tuple.\n",
    "44. Reverse the elements of a tuple.\n",
    "45. Create a tuple of the first `n` powers of 2.\n",
    "46. Find the longest string in a tuple of strings.\n",
    "47. Find the shortest string in a tuple of strings.\n",
    "48. Create a tuple of the first `n` triangular numbers.\n",
    "49. Check if a tuple contains another tuple as a subsequence.\n",
    "50. Create a tuple of alternating 1s and 0s of length `n`."
   ]
  },
  {
   "cell_type": "code",
   "execution_count": 103,
   "id": "3d232184",
   "metadata": {},
   "outputs": [
    {
     "data": {
      "text/plain": [
       "(1, 2, 3, 4, 5)"
      ]
     },
     "execution_count": 103,
     "metadata": {},
     "output_type": "execute_result"
    }
   ],
   "source": [
    "# 1. Create a tuple with integers from 1 to 5.\n",
    "t=(1,2,3,4,5)\n",
    "t"
   ]
  },
  {
   "cell_type": "code",
   "execution_count": 104,
   "id": "95dbef4a",
   "metadata": {},
   "outputs": [
    {
     "data": {
      "text/plain": [
       "3"
      ]
     },
     "execution_count": 104,
     "metadata": {},
     "output_type": "execute_result"
    }
   ],
   "source": [
    "#2. Access the third element of a tuple.\n",
    "t=(1,2,3,4,5)\n",
    "t[2]"
   ]
  },
  {
   "cell_type": "code",
   "execution_count": 105,
   "id": "b734a509",
   "metadata": {},
   "outputs": [
    {
     "data": {
      "text/plain": [
       "5"
      ]
     },
     "execution_count": 105,
     "metadata": {},
     "output_type": "execute_result"
    }
   ],
   "source": [
    "# 3. Find the length of a tuple without using the `len()` function.\n",
    "t=(1,2,3,4,5)\n",
    "for i in t:\n",
    "    l=t.index(i)\n",
    "l+1    "
   ]
  },
  {
   "cell_type": "code",
   "execution_count": 106,
   "id": "63f2ae13",
   "metadata": {},
   "outputs": [
    {
     "data": {
      "text/plain": [
       "2"
      ]
     },
     "execution_count": 106,
     "metadata": {},
     "output_type": "execute_result"
    }
   ],
   "source": [
    "# 4. Count the occurrences of an element in a tuple.    \n",
    "\n",
    "t=(1,2,3,4,5,5,5,6,6)\n",
    "n=6\n",
    "\n",
    "count=0\n",
    "for i in t:\n",
    "    if i==n:\n",
    "        count=count+1\n",
    "count        "
   ]
  },
  {
   "cell_type": "code",
   "execution_count": 107,
   "id": "0f7ec2d3",
   "metadata": {},
   "outputs": [
    {
     "data": {
      "text/plain": [
       "6"
      ]
     },
     "execution_count": 107,
     "metadata": {},
     "output_type": "execute_result"
    }
   ],
   "source": [
    "# 5. Find the index of the first occurrence of an element in a tuple.\n",
    "t=(1,2,3,4,5,5,5,6,6)\n",
    "n=8\n",
    "t[n]"
   ]
  },
  {
   "cell_type": "code",
   "execution_count": 108,
   "id": "9c9898c6",
   "metadata": {},
   "outputs": [
    {
     "name": "stdout",
     "output_type": "stream",
     "text": [
      "The element is not present\n"
     ]
    }
   ],
   "source": [
    "#6.Check if an element exists in a tuple.\n",
    "t=(1,2,3,4,5,5,5,6,6)\n",
    "n=8\n",
    "\n",
    "if n in t:\n",
    "    print(\"The element is present\")\n",
    "else:\n",
    "    print(\"The element is not present\")\n"
   ]
  },
  {
   "cell_type": "code",
   "execution_count": 109,
   "id": "0c753172",
   "metadata": {},
   "outputs": [
    {
     "data": {
      "text/plain": [
       "[1, 2, 3, 4, 5, 5, 5, 6, 6]"
      ]
     },
     "execution_count": 109,
     "metadata": {},
     "output_type": "execute_result"
    }
   ],
   "source": [
    "# 7. Convert a tuple to a list.\n",
    "t=(1,2,3,4,5,5,5,6,6)\n",
    "list(t)\n"
   ]
  },
  {
   "cell_type": "code",
   "execution_count": 110,
   "id": "83a7f372",
   "metadata": {},
   "outputs": [
    {
     "data": {
      "text/plain": [
       "(1, 2, 3, 4, 5, 5, 5, 6, 6)"
      ]
     },
     "execution_count": 110,
     "metadata": {},
     "output_type": "execute_result"
    }
   ],
   "source": [
    "#8. Convert a list to a tuple.\n",
    "l=[1, 2, 3, 4, 5, 5, 5, 6, 6]\n",
    "tuple(l)"
   ]
  },
  {
   "cell_type": "code",
   "execution_count": 111,
   "id": "4aa57695",
   "metadata": {},
   "outputs": [
    {
     "name": "stdout",
     "output_type": "stream",
     "text": [
      "1 2 3 4 5\n"
     ]
    }
   ],
   "source": [
    "# 9. Unpack the elements of a tuple into variables.\n",
    "t=(1, 2, 3, 4, 5)\n",
    "a,b,c,d,e=t\n",
    "print(a,b,c,d,e)"
   ]
  },
  {
   "cell_type": "code",
   "execution_count": 112,
   "id": "cb98c3e7",
   "metadata": {},
   "outputs": [
    {
     "data": {
      "text/plain": [
       "(2, 4, 6, 8, 10)"
      ]
     },
     "execution_count": 112,
     "metadata": {},
     "output_type": "execute_result"
    }
   ],
   "source": [
    "# 10. Create a tuple of even numbers from 1 to 10.\n",
    "\n",
    "t=[]\n",
    "for i in range(1,11):\n",
    "    if i%2==0:\n",
    "        t.append(i)\n",
    "tp=tuple(t)\n",
    "tp\n",
    "        "
   ]
  },
  {
   "cell_type": "code",
   "execution_count": 113,
   "id": "dd5ad009",
   "metadata": {},
   "outputs": [
    {
     "data": {
      "text/plain": [
       "(1, 3, 5, 7, 9)"
      ]
     },
     "execution_count": 113,
     "metadata": {},
     "output_type": "execute_result"
    }
   ],
   "source": [
    "# 11. Create a tuple of odd numbers from 1 to 10.\n",
    "\n",
    "t=[]\n",
    "for i in range(1,11):\n",
    "    if i%2!=0:\n",
    "        t.append(i)\n",
    "tp=tuple(t)\n",
    "tp\n"
   ]
  },
  {
   "cell_type": "code",
   "execution_count": 114,
   "id": "dff5625b",
   "metadata": {},
   "outputs": [
    {
     "data": {
      "text/plain": [
       "(1, 2, 3, 4, 4, 6, 7, 8, 9)"
      ]
     },
     "execution_count": 114,
     "metadata": {},
     "output_type": "execute_result"
    }
   ],
   "source": [
    "# 12. Concatenate two tuples.\n",
    "a=(1,2,3,4)\n",
    "b=(4,6,7,8,9)\n",
    "c=a+b\n",
    "c"
   ]
  },
  {
   "cell_type": "code",
   "execution_count": 115,
   "id": "a933d20e",
   "metadata": {},
   "outputs": [
    {
     "data": {
      "text/plain": [
       "(1, 2, 3, 4, 1, 2, 3, 4, 1, 2, 3, 4)"
      ]
     },
     "execution_count": 115,
     "metadata": {},
     "output_type": "execute_result"
    }
   ],
   "source": [
    "# 13. Repeat a tuple three times.\n",
    "a=(1,2,3,4)\n",
    "a*3\n"
   ]
  },
  {
   "cell_type": "code",
   "execution_count": 116,
   "id": "9e6f4213",
   "metadata": {},
   "outputs": [
    {
     "name": "stdout",
     "output_type": "stream",
     "text": [
      "its not empty\n"
     ]
    }
   ],
   "source": [
    "# 14. Check if a tuple is empty.\n",
    "a=(45,88)\n",
    "if a==():\n",
    "    print('its empty')\n",
    "else:\n",
    "    print ('its not empty')"
   ]
  },
  {
   "cell_type": "code",
   "execution_count": 117,
   "id": "5dedcab3",
   "metadata": {},
   "outputs": [
    {
     "data": {
      "text/plain": [
       "(1, 2, 3, (4, 5, 6, (7, 8, 9)))"
      ]
     },
     "execution_count": 117,
     "metadata": {},
     "output_type": "execute_result"
    }
   ],
   "source": [
    "# 15. Create a nested tuple.\n",
    "t=(1,2,3,(4,5,6,(7,8,9)))\n",
    "t"
   ]
  },
  {
   "cell_type": "code",
   "execution_count": 118,
   "id": "e20224f2",
   "metadata": {},
   "outputs": [
    {
     "data": {
      "text/plain": [
       "(1, 2, 3)"
      ]
     },
     "execution_count": 118,
     "metadata": {},
     "output_type": "execute_result"
    }
   ],
   "source": [
    "# 16. Access the first element of a nested tuple.\n",
    "t=((1,2,3),(4,5,6,(7,8,9)))\n",
    "t[0]"
   ]
  },
  {
   "cell_type": "code",
   "execution_count": 119,
   "id": "76a3d6aa",
   "metadata": {},
   "outputs": [
    {
     "data": {
      "text/plain": [
       "(1,)"
      ]
     },
     "execution_count": 119,
     "metadata": {},
     "output_type": "execute_result"
    }
   ],
   "source": [
    "# 17. Create a tuple with a single element.\n",
    "t=(1,)\n",
    "type(t)\n",
    "t"
   ]
  },
  {
   "cell_type": "code",
   "execution_count": 120,
   "id": "3cb54ae5",
   "metadata": {},
   "outputs": [
    {
     "name": "stdout",
     "output_type": "stream",
     "text": [
      "both tuples are different\n"
     ]
    }
   ],
   "source": [
    "# 18. Compare two tuples.\n",
    "t1=(1,2,3)\n",
    "t2=(1,2,3,4)\n",
    "\n",
    "if t1==t2:\n",
    "    print(\"both tuples are same\")\n",
    "else:\n",
    "    print(\"both tuples are different\")"
   ]
  },
  {
   "cell_type": "code",
   "execution_count": 121,
   "id": "76e23b58",
   "metadata": {},
   "outputs": [
    {
     "ename": "NameError",
     "evalue": "name 't1' is not defined",
     "output_type": "error",
     "traceback": [
      "\u001b[1;31m---------------------------------------------------------------------------\u001b[0m",
      "\u001b[1;31mNameError\u001b[0m                                 Traceback (most recent call last)",
      "Cell \u001b[1;32mIn[121], line 4\u001b[0m\n\u001b[0;32m      2\u001b[0m t1\u001b[38;5;241m=\u001b[39m(\u001b[38;5;241m1\u001b[39m,\u001b[38;5;241m2\u001b[39m,\u001b[38;5;241m3\u001b[39m)\n\u001b[0;32m      3\u001b[0m \u001b[38;5;28;01mdel\u001b[39;00m t1\n\u001b[1;32m----> 4\u001b[0m \u001b[43mt1\u001b[49m\n",
      "\u001b[1;31mNameError\u001b[0m: name 't1' is not defined"
     ]
    }
   ],
   "source": [
    "# 19. Delete a tuple.\n",
    "t1=(1,2,3)\n",
    "del t1\n",
    "t1"
   ]
  },
  {
   "cell_type": "code",
   "execution_count": 122,
   "id": "9f8767b0",
   "metadata": {},
   "outputs": [
    {
     "data": {
      "text/plain": [
       "((4, 5, 6, (7, 8, 9)),)"
      ]
     },
     "execution_count": 122,
     "metadata": {},
     "output_type": "execute_result"
    }
   ],
   "source": [
    "# 20. Slice a tuple.\n",
    "t=(1,2,3,(4,5,6,(7,8,9)))\n",
    "s=t[3:4]\n",
    "s"
   ]
  },
  {
   "cell_type": "code",
   "execution_count": 123,
   "id": "d7f8574e",
   "metadata": {},
   "outputs": [
    {
     "name": "stdout",
     "output_type": "stream",
     "text": [
      "maxium: 4 minimum: 1\n"
     ]
    }
   ],
   "source": [
    "# 21. Find the maximum value in a tuple.\n",
    "# 22. Find the minimum value in a tuple.\n",
    "t=(1,2,3,4)\n",
    "print(\"maxium:\",max(t),\"minimum:\",min(t))\n"
   ]
  },
  {
   "cell_type": "code",
   "execution_count": 124,
   "id": "16654e6b",
   "metadata": {},
   "outputs": [
    {
     "data": {
      "text/plain": [
       "('a', 'a', 'l', 'l', ' ', 'i', 's', ' ', 'e', 'w', 'l', 'l')"
      ]
     },
     "execution_count": 124,
     "metadata": {},
     "output_type": "execute_result"
    }
   ],
   "source": [
    "# 23. Convert a string to a tuple of characters.\n",
    "l=[]\n",
    "string=\"aall is ewll\"\n",
    "\n",
    "for i in string:\n",
    "    l.append(i)\n",
    "t=tuple(l)\n",
    "t"
   ]
  },
  {
   "cell_type": "code",
   "execution_count": 125,
   "id": "61cd5956",
   "metadata": {},
   "outputs": [
    {
     "data": {
      "text/plain": [
       "'aall is ewll'"
      ]
     },
     "execution_count": 125,
     "metadata": {},
     "output_type": "execute_result"
    }
   ],
   "source": [
    "# 24. Convert a tuple of characters to a string.\n",
    "t=('a', 'a', 'l', 'l', ' ', 'i', 's', ' ', 'e', 'w', 'l', 'l')\n",
    "''.join(t)\n"
   ]
  },
  {
   "cell_type": "code",
   "execution_count": 126,
   "id": "0b9e4e97",
   "metadata": {},
   "outputs": [
    {
     "data": {
      "text/plain": [
       "('satya', 123, True, 3.52)"
      ]
     },
     "execution_count": 126,
     "metadata": {},
     "output_type": "execute_result"
    }
   ],
   "source": [
    "# 25. Create a tuple from multiple data types.\n",
    "t=('satya',123,True,3.52)\n",
    "t"
   ]
  },
  {
   "cell_type": "code",
   "execution_count": 127,
   "id": "fa983747",
   "metadata": {},
   "outputs": [
    {
     "name": "stdout",
     "output_type": "stream",
     "text": [
      "Tuples are not Identical\n"
     ]
    }
   ],
   "source": [
    "# 26. Check if two tuples are identical.\n",
    "t1=(1,2,3)\n",
    "t2=(1,3,2)\n",
    "\n",
    "if t1==t2:\n",
    "    print(\"tuples are Identical\")\n",
    "else:\n",
    "    print(\"Tuples are not Identical\")"
   ]
  },
  {
   "cell_type": "code",
   "execution_count": 128,
   "id": "2b3c1362",
   "metadata": {},
   "outputs": [
    {
     "data": {
      "text/plain": [
       "(1, 2, 3, 3, 4, 5, 6, 7)"
      ]
     },
     "execution_count": 128,
     "metadata": {},
     "output_type": "execute_result"
    }
   ],
   "source": [
    "# 27. Sort the elements of a tuple.\n",
    "t=(1,2,3,7,6,5,4,3)\n",
    "t1=tuple(sorted(t))\n",
    "t1"
   ]
  },
  {
   "cell_type": "code",
   "execution_count": 129,
   "id": "28db796b",
   "metadata": {},
   "outputs": [
    {
     "data": {
      "text/plain": [
       "('1', '2', '3', '4', '5')"
      ]
     },
     "execution_count": 129,
     "metadata": {},
     "output_type": "execute_result"
    }
   ],
   "source": [
    "# 28. Convert a tuple of integers to a tuple of strings.\n",
    "t=(1,2,3,4,5)\n",
    "l=[]\n",
    "for i in t:\n",
    "    s=str(i)\n",
    "    l.append(s)\n",
    "tuple(l)"
   ]
  },
  {
   "cell_type": "code",
   "execution_count": 130,
   "id": "93fb5831",
   "metadata": {},
   "outputs": [
    {
     "data": {
      "text/plain": [
       "(1, 2, 3, 4, 5)"
      ]
     },
     "execution_count": 130,
     "metadata": {},
     "output_type": "execute_result"
    }
   ],
   "source": [
    "# 29. Convert a tuple of strings to a tuple of integers.\n",
    "t=('1', '2', '3', '4', '5')\n",
    "l=[]\n",
    "for i in t:\n",
    "    s=int(i)\n",
    "    l.append(s)\n",
    "tuple(l)"
   ]
  },
  {
   "cell_type": "code",
   "execution_count": 131,
   "id": "9ee91f24",
   "metadata": {},
   "outputs": [
    {
     "data": {
      "text/plain": [
       "(1, 2, 3, 1, 2, 3, 4)"
      ]
     },
     "execution_count": 131,
     "metadata": {},
     "output_type": "execute_result"
    }
   ],
   "source": [
    "# 30. Merge two tuples.\n",
    "t1=(1,2,3)\n",
    "t2=(1,2,3,4)\n",
    "\n",
    "t=t1+t2\n",
    "t"
   ]
  },
  {
   "cell_type": "code",
   "execution_count": 132,
   "id": "d32a6ed6",
   "metadata": {},
   "outputs": [
    {
     "data": {
      "text/plain": [
       "(1, 2, 3, 4, 5, 6, 7, 8, 9)"
      ]
     },
     "execution_count": 132,
     "metadata": {},
     "output_type": "execute_result"
    }
   ],
   "source": [
    "# 31. Flatten a nested tuple.\n",
    "t=(1,2,3,(4,5,6,(7,8,9)))\n",
    "l=[]\n",
    "def flat_tup(tup):\n",
    "    \n",
    "    for i in tup:\n",
    "        if type(i)!=tuple:\n",
    "            l.append(i)\n",
    "        else:\n",
    "            flat_tup(i)\n",
    "    return tuple(l)\n",
    "flat_tup(t)"
   ]
  },
  {
   "cell_type": "code",
   "execution_count": 133,
   "id": "7d59b60b",
   "metadata": {},
   "outputs": [
    {
     "data": {
      "text/plain": [
       "(1, 2, 3, 5, 7)"
      ]
     },
     "execution_count": 133,
     "metadata": {},
     "output_type": "execute_result"
    }
   ],
   "source": [
    "# 32. Create a tuple of the first 5 prime numbers.\n",
    "prime_list = []\n",
    "\n",
    "for i in range(1, 50):\n",
    "    temp=[]\n",
    "    for j in range(2,i-1):\n",
    "        b=i%j\n",
    "        temp.append(b)\n",
    "    result=1\n",
    "    for x in temp:\n",
    "        result=result*x\n",
    "    if result !=0:\n",
    "        if len(prime_list)>4:\n",
    "            break\n",
    "        else:\n",
    "            prime_list.append(i)\n",
    "            \n",
    "tuple(prime_list)"
   ]
  },
  {
   "cell_type": "code",
   "execution_count": 134,
   "id": "7b6d187f",
   "metadata": {},
   "outputs": [
    {
     "name": "stdout",
     "output_type": "stream",
     "text": [
      "tuple is a not palindrome\n"
     ]
    }
   ],
   "source": [
    "# 33. Check if a tuple is a palindrome.\n",
    "t=(1,3,4,3,1,1)\n",
    "if t==t[::-1]:\n",
    "    print('tuple is a palindrome')\n",
    "else:\n",
    "    print('tuple is a not palindrome')"
   ]
  },
  {
   "cell_type": "code",
   "execution_count": 135,
   "id": "e2736e1a",
   "metadata": {},
   "outputs": [
    {
     "data": {
      "text/plain": [
       "(1, 4, 9, 16, 25)"
      ]
     },
     "execution_count": 135,
     "metadata": {},
     "output_type": "execute_result"
    }
   ],
   "source": [
    "# 34. Create a tuple of squares of numbers from 1 to 5.\n",
    "\n",
    "l=[]\n",
    "for i in range(1,6):\n",
    "    x=i*i\n",
    "    l.append(x)\n",
    "tuple(l)"
   ]
  },
  {
   "cell_type": "code",
   "execution_count": 136,
   "id": "64770fed",
   "metadata": {},
   "outputs": [
    {
     "data": {
      "text/plain": [
       "(4, 6, 8, 4)"
      ]
     },
     "execution_count": 136,
     "metadata": {},
     "output_type": "execute_result"
    }
   ],
   "source": [
    "# 35. Filter out all even numbers from a tuple.\n",
    "l=[]\n",
    "t=(1,3,4,3,1,1,6,8,9,4)\n",
    "\n",
    "for i in t:\n",
    "    if i%2==0:\n",
    "        l.append(i)\n",
    "tuple(l)        \n"
   ]
  },
  {
   "cell_type": "code",
   "execution_count": 137,
   "id": "75330d52",
   "metadata": {},
   "outputs": [
    {
     "data": {
      "text/plain": [
       "(2, 6, 8, 6, 2, 2, 12, 16, 18, 8)"
      ]
     },
     "execution_count": 137,
     "metadata": {},
     "output_type": "execute_result"
    }
   ],
   "source": [
    "#36. Multiply all elements in a tuple by 2.\n",
    "t=(1,3,4,3,1,1,6,8,9,4)\n",
    "l=[]\n",
    "for i in t:\n",
    "    l.append(i*2)\n",
    "tuple(l)"
   ]
  },
  {
   "cell_type": "code",
   "execution_count": 138,
   "id": "1855ba84",
   "metadata": {},
   "outputs": [
    {
     "data": {
      "text/plain": [
       "(90, 17, 55, 59, 48, 21, 72, 29, 10, 42)"
      ]
     },
     "execution_count": 138,
     "metadata": {},
     "output_type": "execute_result"
    }
   ],
   "source": [
    "# 37. Create a tuple of random numbers.\n",
    "import random\n",
    " \n",
    "rand_list=[]\n",
    "n=10\n",
    "for i in range(n):\n",
    "    rand_list.append(random.randint(1,90))\n",
    "tuple(rand_list)"
   ]
  },
  {
   "cell_type": "code",
   "execution_count": 139,
   "id": "c34e3f58",
   "metadata": {},
   "outputs": [
    {
     "name": "stdout",
     "output_type": "stream",
     "text": [
      "tuple is not sorted\n"
     ]
    }
   ],
   "source": [
    "# 38. Check if a tuple is sorted.\n",
    "t=(1,3,4,3,1,1,6,8,9,4)\n",
    "if t==sorted(t):\n",
    "    print(\"tuple is sorted\")\n",
    "else:\n",
    "    print(\"tuple is not sorted\")"
   ]
  },
  {
   "cell_type": "code",
   "execution_count": 140,
   "id": "48d9eab2",
   "metadata": {},
   "outputs": [
    {
     "data": {
      "text/plain": [
       "(3, 7, 2, 1, 4, 6, 8)"
      ]
     },
     "execution_count": 140,
     "metadata": {},
     "output_type": "execute_result"
    }
   ],
   "source": [
    "# 39. Rotate a tuple to the left by `n` positions.\n",
    "\n",
    "n=4\n",
    "l = (1, 4, 6,8,3, 7, 2)\n",
    "lr = l[n:] + l[:n]\n",
    " \n",
    "lr"
   ]
  },
  {
   "cell_type": "code",
   "execution_count": 141,
   "id": "72fe0f28",
   "metadata": {},
   "outputs": [
    {
     "data": {
      "text/plain": [
       "(8, 3, 7, 2, 1, 4, 6)"
      ]
     },
     "execution_count": 141,
     "metadata": {},
     "output_type": "execute_result"
    }
   ],
   "source": [
    "# 40. Rotate a tuple to the right by `n` positions.\n",
    "n=4\n",
    "l = (1, 4, 6,8,3, 7, 2)\n",
    "rr = l[-n:] + l[:-n]\n",
    "rr"
   ]
  },
  {
   "cell_type": "code",
   "execution_count": 142,
   "id": "f4205eed",
   "metadata": {},
   "outputs": [
    {
     "data": {
      "text/plain": [
       "[0, 1, 1, 2, 3]"
      ]
     },
     "execution_count": 142,
     "metadata": {},
     "output_type": "execute_result"
    }
   ],
   "source": [
    "# 41. Create a tuple of the first 5 Fibonacci numbers.\n",
    "l=[0,1]\n",
    "\n",
    "for i in range(1,4):\n",
    "    x=l[-2]+l[-1]\n",
    "    l.append(x)\n",
    "l"
   ]
  },
  {
   "cell_type": "code",
   "execution_count": 151,
   "id": "b52048eb",
   "metadata": {},
   "outputs": [
    {
     "name": "stdout",
     "output_type": "stream",
     "text": [
      "Please enter values with commas:i, want,to,play,foot,ball\n"
     ]
    },
    {
     "data": {
      "text/plain": [
       "('i', ' want', 'to', 'play', 'foot', 'ball')"
      ]
     },
     "execution_count": 151,
     "metadata": {},
     "output_type": "execute_result"
    }
   ],
   "source": [
    "# 42. Create a tuple from user input.\n",
    "x=input(\"Please enter values with commas:\")\n",
    "l=x.split(',')\n",
    "tuple(l)\n"
   ]
  },
  {
   "cell_type": "code",
   "execution_count": 152,
   "id": "2d69fe3c",
   "metadata": {},
   "outputs": [
    {
     "data": {
      "text/plain": [
       "(1, 2, 4, 3, 5, 6, 7)"
      ]
     },
     "execution_count": 152,
     "metadata": {},
     "output_type": "execute_result"
    }
   ],
   "source": [
    "# 43. Swap two elements in a tuple.\n",
    "t = (1,2,3,4,5,6,7)\n",
    "\n",
    "in1=2\n",
    "in2=3\n",
    "k=list(t)\n",
    "temp=k[in1]\n",
    "k[in1]=k[in2]\n",
    "k[in2]=temp\n",
    "tuple(k)"
   ]
  },
  {
   "cell_type": "code",
   "execution_count": 153,
   "id": "b9211a23",
   "metadata": {},
   "outputs": [
    {
     "data": {
      "text/plain": [
       "(2, 7, 3, 8, 6, 4, 1)"
      ]
     },
     "execution_count": 153,
     "metadata": {},
     "output_type": "execute_result"
    }
   ],
   "source": [
    "# 44. Reverse the elements of a tuple.\n",
    "l = (1, 4, 6,8,3, 7, 2)\n",
    "l[::-1]"
   ]
  },
  {
   "cell_type": "code",
   "execution_count": 154,
   "id": "97ec84c5",
   "metadata": {},
   "outputs": [
    {
     "data": {
      "text/plain": [
       "(1, 2, 4, 8, 16, 32, 64, 128, 256, 512)"
      ]
     },
     "execution_count": 154,
     "metadata": {},
     "output_type": "execute_result"
    }
   ],
   "source": [
    "# 45. Create a tuple of the first `n` powers of 2.\n",
    "n=10\n",
    "l=[]\n",
    "for i in range(n):\n",
    "    k=2**i\n",
    "    l.append(k)\n",
    "tuple(l)"
   ]
  },
  {
   "cell_type": "code",
   "execution_count": 155,
   "id": "4d633d48",
   "metadata": {},
   "outputs": [
    {
     "data": {
      "text/plain": [
       "'bananna'"
      ]
     },
     "execution_count": 155,
     "metadata": {},
     "output_type": "execute_result"
    }
   ],
   "source": [
    "# 46. Find the longest string in a tuple of strings.\n",
    "t=('satya','brat','apple','bananna')\n",
    "\n",
    "k=len(t[0])\n",
    "for i in range(0,len(t)):\n",
    "    if len(t[i])>k:\n",
    "        k=len(t[i])\n",
    "        out=t[i]\n",
    "out    "
   ]
  },
  {
   "cell_type": "code",
   "execution_count": 156,
   "id": "65e50b32",
   "metadata": {},
   "outputs": [
    {
     "data": {
      "text/plain": [
       "'brat'"
      ]
     },
     "execution_count": 156,
     "metadata": {},
     "output_type": "execute_result"
    }
   ],
   "source": [
    "# 47. Find the shortest string in a tuple of strings.\n",
    "t=('satya','brat','apple','bananna')\n",
    "\n",
    "k=len(t[0])\n",
    "for i in range(0,len(t)):\n",
    "    if len(t[i])<k:\n",
    "        k=len(t[i])\n",
    "        out=t[i]\n",
    "out    "
   ]
  },
  {
   "cell_type": "code",
   "execution_count": 225,
   "id": "4ef09f83",
   "metadata": {},
   "outputs": [
    {
     "data": {
      "text/plain": [
       "(0, 1, 3, 6, 10, 15, 21, 28, 36, 45)"
      ]
     },
     "execution_count": 225,
     "metadata": {},
     "output_type": "execute_result"
    }
   ],
   "source": [
    "# 48. Create a tuple of the first `n` triangular numbers.\n",
    "n=10\n",
    "l=[]\n",
    "for i in range(n):\n",
    "    k=i*(i+1)//2\n",
    "    l.append(k)\n",
    "tuple(l)\n"
   ]
  },
  {
   "cell_type": "code",
   "execution_count": 158,
   "id": "563d6f84",
   "metadata": {},
   "outputs": [
    {
     "name": "stdout",
     "output_type": "stream",
     "text": [
      "Main tuple does not contain the subsequence.\n"
     ]
    }
   ],
   "source": [
    "# 49. Check if a tuple contains another tuple as a subsequence.\n",
    "def check_exists(l, s):\n",
    "    check = True\n",
    "    for i in s:\n",
    "        try:\n",
    "            index = l.index(i) \n",
    "            l = l[index+1:]\n",
    "        except ValueError:\n",
    "            check = False \n",
    "            break \n",
    "    return check\n",
    "l=(1, 2, 3, 4, 5, 6, 7, 8, 9, 5, 5, 5, 6, 7, 8, 9, 0, 11, 12, 24)\n",
    "s=(4,5,6,7,8,9,1)\n",
    "\n",
    "if check_exists(l,s)== True:\n",
    "    print(\"Main tuple contains the subsequence.\")\n",
    "else:\n",
    "    print(\"Main tuple does not contain the subsequence.\")    "
   ]
  },
  {
   "cell_type": "code",
   "execution_count": 159,
   "id": "66d706fa",
   "metadata": {},
   "outputs": [
    {
     "data": {
      "text/plain": [
       "[0, 1, 0, 1, 0, 1, 0, 1, 0, 1]"
      ]
     },
     "execution_count": 159,
     "metadata": {},
     "output_type": "execute_result"
    }
   ],
   "source": [
    "# 50. Create a tuple of alternating 1s and 0s of length `n`.\n",
    "n=10\n",
    "l=[]\n",
    "for i in range(0,n):\n",
    "    if len(l)==0:\n",
    "        l.append(0)\n",
    "    elif l[-1]==1:\n",
    "        l.append(0)\n",
    "    else:\n",
    "        l.append(1)\n",
    "l"
   ]
  },
  {
   "cell_type": "markdown",
   "id": "be842dce",
   "metadata": {},
   "source": [
    "Set Based Practice Problem :\n",
    "1. Create a set with integers from 1 to 5.\n",
    "2. Add an element to a set.\n",
    "3. Remove an element from a set.\n",
    "4. Check if an element exists in a set.\n",
    "5. Find the length of a set without using the `len()` function.\n",
    "6. Clear all elements from a set.\n",
    "7. Create a set of even numbers from 1 to 10.\n",
    "8. Create a set of odd numbers from 1 to 10.\n",
    "9. Find the union of two sets.\n",
    "10. Find the intersection of two sets.\n",
    "11. Find the difference between two sets.\n",
    "12. Check if a set is a subset of another set.\n",
    "13. Check if a set is a superset of another set.\n",
    "14. Create a set from a list.\n",
    "15. Convert a set to a list.\n",
    "16. Remove a random element from a set.\n",
    "17. Pop an element from a set.\n",
    "18. Check if two sets have no elements in common.\n",
    "19. Find the symmetric difference between two sets.\n",
    "20. Update a set with elements from another set.\n",
    "21. Create a set of the first 5 prime numbers.\n",
    "22. Check if two sets are identical.\n",
    "23. Create a frozen set.\n",
    "24. Check if a set is disjoint with another set.\n",
    "25. Create a set of squares of numbers from 1 to 5.\n",
    "26. Filter out all even numbers from a set.\n",
    "27. Multiply all elements in a set by 2.\n",
    "28. Create a set of random numbers.\n",
    "29. Check if a set is empty.\n",
    "30. Create a nested set (hint: use frozenset).\n",
    "31. Remove an element from a set using the discard method.\n",
    "32. Compare two sets.\n",
    "33. Create a set from a string.\n",
    "34. Convert a set of strings to a set of integers.\n",
    "35. Convert a set of integers to a set of strings.\n",
    "36. Create a set from a tuple.\n",
    "37. Convert a set to a tuple.\n",
    "38. Find the maximum value in a set.\n",
    "39. Find the minimum value in a set.\n",
    "40. Create a set from user input.\n",
    "41. Check if the intersection of two sets is empty.\n",
    "42. Create a set of the first 5 Fibonacci numbers.\n",
    "43. Remove duplicates from a list using sets.\n",
    "44. Check if two sets have the same elements, regardless of their count.\n",
    "45. Create a set of the first `n` powers of 2.\n",
    "46. Find the common elements between a set and a list.\n",
    "47. Create a set of the first `n` triangular numbers.\n",
    "48. Check if a set contains another set as a subset.\n",
    "49. Create a set of alternating 1s and 0s of length `n`.\n",
    "50. Merge multiple sets into one.\n"
   ]
  },
  {
   "cell_type": "code",
   "execution_count": 160,
   "id": "5a7c8beb",
   "metadata": {},
   "outputs": [
    {
     "data": {
      "text/plain": [
       "{1, 2, 3, 4, 5}"
      ]
     },
     "execution_count": 160,
     "metadata": {},
     "output_type": "execute_result"
    }
   ],
   "source": [
    "# 1. Create a set with integers from 1 to 5.\n",
    "s=set()\n",
    "for i in range(1,6):\n",
    "    s.add(i)\n",
    "s"
   ]
  },
  {
   "cell_type": "code",
   "execution_count": 161,
   "id": "c40ae45d",
   "metadata": {},
   "outputs": [
    {
     "data": {
      "text/plain": [
       "{1, 2, 3, 4, 5, 6}"
      ]
     },
     "execution_count": 161,
     "metadata": {},
     "output_type": "execute_result"
    }
   ],
   "source": [
    "# 2. Add an element to a set.\n",
    "s={1, 2, 3, 4, 5}\n",
    "s.add(6)\n",
    "s"
   ]
  },
  {
   "cell_type": "code",
   "execution_count": 162,
   "id": "4d632a44",
   "metadata": {},
   "outputs": [
    {
     "data": {
      "text/plain": [
       "{1, 2, 4, 5, 6}"
      ]
     },
     "execution_count": 162,
     "metadata": {},
     "output_type": "execute_result"
    }
   ],
   "source": [
    "# 3. Remove an element from a set.\n",
    "s={1, 2, 3, 4, 5, 6}\n",
    "s.remove(3)\n",
    "s"
   ]
  },
  {
   "cell_type": "code",
   "execution_count": 163,
   "id": "1a99cbbb",
   "metadata": {},
   "outputs": [
    {
     "name": "stdout",
     "output_type": "stream",
     "text": [
      "element exists in the set\n"
     ]
    }
   ],
   "source": [
    "# 4. Check if an element exists in a set.\n",
    "s={1, 2, 3, 4, 5, 6}\n",
    "n=3\n",
    "\n",
    "if n in s:\n",
    "    print(\"element exists in the set\")\n",
    "else:\n",
    "    print(\"element does not exists in the set\")\n"
   ]
  },
  {
   "cell_type": "code",
   "execution_count": 164,
   "id": "c195f208",
   "metadata": {},
   "outputs": [
    {
     "data": {
      "text/plain": [
       "6"
      ]
     },
     "execution_count": 164,
     "metadata": {},
     "output_type": "execute_result"
    }
   ],
   "source": [
    "# 5. Find the length of a set without using the `len()` function.\n",
    "s={1, 2, 3, 4, 5, 6}\n",
    "length=0\n",
    "\n",
    "for i in s:\n",
    "    length=length+1\n",
    "length    "
   ]
  },
  {
   "cell_type": "code",
   "execution_count": 165,
   "id": "cae785a7",
   "metadata": {},
   "outputs": [
    {
     "data": {
      "text/plain": [
       "set()"
      ]
     },
     "execution_count": 165,
     "metadata": {},
     "output_type": "execute_result"
    }
   ],
   "source": [
    "# 6. Clear all elements from a set.\n",
    "s={1, 2, 3, 4, 5, 6}\n",
    "s.clear()\n",
    "s"
   ]
  },
  {
   "cell_type": "code",
   "execution_count": 166,
   "id": "e3a0ad6c",
   "metadata": {},
   "outputs": [
    {
     "data": {
      "text/plain": [
       "{2, 4, 6, 8, 10}"
      ]
     },
     "execution_count": 166,
     "metadata": {},
     "output_type": "execute_result"
    }
   ],
   "source": [
    "# 7. Create a set of even numbers from 1 to 10.\n",
    "s=set()\n",
    "for i in range(1,11):\n",
    "    if i%2==0:\n",
    "        s.add(i)\n",
    "s"
   ]
  },
  {
   "cell_type": "code",
   "execution_count": 167,
   "id": "7e36f4da",
   "metadata": {},
   "outputs": [
    {
     "data": {
      "text/plain": [
       "{1, 3, 5, 7, 9}"
      ]
     },
     "execution_count": 167,
     "metadata": {},
     "output_type": "execute_result"
    }
   ],
   "source": [
    "# 7. Create a set of even numbers from 1 to 10.\n",
    "s=set()\n",
    "for i in range(1,11):\n",
    "    if i%2!=0:\n",
    "        s.add(i)\n",
    "s"
   ]
  },
  {
   "cell_type": "code",
   "execution_count": 168,
   "id": "deb445e5",
   "metadata": {},
   "outputs": [
    {
     "data": {
      "text/plain": [
       "{1, 2, 3, 4, 6, 7}"
      ]
     },
     "execution_count": 168,
     "metadata": {},
     "output_type": "execute_result"
    }
   ],
   "source": [
    "# 9. Find the union of two sets.\n",
    "s1={1,2,3,4}\n",
    "s2={3,4,6,7}\n",
    "s1.union(s2)"
   ]
  },
  {
   "cell_type": "code",
   "execution_count": 169,
   "id": "f4d3a1d4",
   "metadata": {},
   "outputs": [
    {
     "data": {
      "text/plain": [
       "{3, 4}"
      ]
     },
     "execution_count": 169,
     "metadata": {},
     "output_type": "execute_result"
    }
   ],
   "source": [
    "# 10. Find the intersection of two sets.\n",
    "s1={1,2,3,4}\n",
    "s2={3,4,6,7}\n",
    "\n",
    "s1.intersection(s2)\n"
   ]
  },
  {
   "cell_type": "code",
   "execution_count": 170,
   "id": "42fa58b8",
   "metadata": {},
   "outputs": [
    {
     "data": {
      "text/plain": [
       "{1, 2}"
      ]
     },
     "execution_count": 170,
     "metadata": {},
     "output_type": "execute_result"
    }
   ],
   "source": [
    "# 11. Find the difference between two sets.\n",
    "s1={1,2,3,4}\n",
    "s2={3,4,6,7}\n",
    "s1-s2\n"
   ]
  },
  {
   "cell_type": "code",
   "execution_count": 171,
   "id": "63586c0a",
   "metadata": {},
   "outputs": [
    {
     "data": {
      "text/plain": [
       "True"
      ]
     },
     "execution_count": 171,
     "metadata": {},
     "output_type": "execute_result"
    }
   ],
   "source": [
    "# 12. Check if a set is a subset of another set.\n",
    "s1={1,2,3,4}\n",
    "s2={3,4}\n",
    "s2.issubset(s1)\n"
   ]
  },
  {
   "cell_type": "code",
   "execution_count": 172,
   "id": "75a4a61d",
   "metadata": {},
   "outputs": [
    {
     "data": {
      "text/plain": [
       "True"
      ]
     },
     "execution_count": 172,
     "metadata": {},
     "output_type": "execute_result"
    }
   ],
   "source": [
    "# 13. Check if a set is a superset of another set.\n",
    "s1={1,2,3,4}\n",
    "s2={3,4}\n",
    "s1.issuperset(s2)\n"
   ]
  },
  {
   "cell_type": "code",
   "execution_count": 173,
   "id": "0f9dfe1b",
   "metadata": {
    "scrolled": true
   },
   "outputs": [
    {
     "data": {
      "text/plain": [
       "{1, 2, 3, 4}"
      ]
     },
     "execution_count": 173,
     "metadata": {},
     "output_type": "execute_result"
    }
   ],
   "source": [
    "# 14. Create a set from a list.\n",
    "l=[1,2,3,4]\n",
    "set(l)\n"
   ]
  },
  {
   "cell_type": "code",
   "execution_count": 174,
   "id": "0604bc3c",
   "metadata": {},
   "outputs": [
    {
     "data": {
      "text/plain": [
       "[1, 2, 3, 4]"
      ]
     },
     "execution_count": 174,
     "metadata": {},
     "output_type": "execute_result"
    }
   ],
   "source": [
    "# 15. Convert a set to a list.\n",
    "s={1, 2, 3, 4}\n",
    "list(s)"
   ]
  },
  {
   "cell_type": "code",
   "execution_count": 175,
   "id": "6dd99862",
   "metadata": {},
   "outputs": [
    {
     "data": {
      "text/plain": [
       "{1, 2, 4, 5}"
      ]
     },
     "execution_count": 175,
     "metadata": {},
     "output_type": "execute_result"
    }
   ],
   "source": [
    "# 16. Remove a random element from a set.\n",
    "import random \n",
    "\n",
    "s = {1, 2, 3, 4, 5}\n",
    "\n",
    "rs = random.choice(list(s))\n",
    "\n",
    "s.remove(rs)\n",
    "s\n"
   ]
  },
  {
   "cell_type": "code",
   "execution_count": 176,
   "id": "7ff32262",
   "metadata": {},
   "outputs": [
    {
     "data": {
      "text/plain": [
       "{2, 3, 4, 5}"
      ]
     },
     "execution_count": 176,
     "metadata": {},
     "output_type": "execute_result"
    }
   ],
   "source": [
    "# 17. Pop an element from a set.\n",
    "s = {1, 2, 3, 4, 5}\n",
    "s.pop()\n",
    "s"
   ]
  },
  {
   "cell_type": "code",
   "execution_count": 177,
   "id": "a7e9a578",
   "metadata": {},
   "outputs": [
    {
     "name": "stdout",
     "output_type": "stream",
     "text": [
      "the two sets have elements in common {6, 7}\n"
     ]
    }
   ],
   "source": [
    "# 18. Check if two sets have no elements in common.\n",
    "s1={1,2,3,4,5,6,7}\n",
    "s2={9,8,11,12,56,6,7}\n",
    "test=[]\n",
    "for i in s1:\n",
    "    if i in s2:\n",
    "        test.append(i)\n",
    "for j in s2:\n",
    "    if j in s1:\n",
    "        test.append(j)\n",
    "if len(test)==0:\n",
    "    print(\"the two sets have no elements in common\")\n",
    "else:\n",
    "    print(\"the two sets have elements in common\", set(test))\n",
    "        "
   ]
  },
  {
   "cell_type": "code",
   "execution_count": 178,
   "id": "f9a69349",
   "metadata": {},
   "outputs": [
    {
     "data": {
      "text/plain": [
       "{1, 2, 3, 6, 7, 8}"
      ]
     },
     "execution_count": 178,
     "metadata": {},
     "output_type": "execute_result"
    }
   ],
   "source": [
    "# 19. Find the symmetric difference between two sets.\n",
    "s1 = {1, 2, 3, 4, 5}\n",
    "s2 = {4, 5, 6, 7, 8}\n",
    "\n",
    "s1 ^ s2\n"
   ]
  },
  {
   "cell_type": "code",
   "execution_count": 179,
   "id": "ec0921ac",
   "metadata": {},
   "outputs": [
    {
     "data": {
      "text/plain": [
       "{1, 2, 3, 4, 5, 6, 7, 8}"
      ]
     },
     "execution_count": 179,
     "metadata": {},
     "output_type": "execute_result"
    }
   ],
   "source": [
    "# 20. Update a set with elements from another set.\n",
    "s1 = {1, 2, 3, 4, 5}\n",
    "s2 = {4, 5, 6, 7, 8}\n",
    "\n",
    "s1.update(s2)\n",
    "s1"
   ]
  },
  {
   "cell_type": "code",
   "execution_count": 180,
   "id": "9a1a5bd9",
   "metadata": {},
   "outputs": [
    {
     "data": {
      "text/plain": [
       "{1, 2, 3, 5, 7}"
      ]
     },
     "execution_count": 180,
     "metadata": {},
     "output_type": "execute_result"
    }
   ],
   "source": [
    "# 21. Create a set of the first 5 prime numbers.\n",
    "s=set()\n",
    "\n",
    "for i in range(1,100):\n",
    "    temp=[]\n",
    "    for j in range(2,i-1):\n",
    "        b=i%j\n",
    "        temp.append(b)\n",
    "    result=1\n",
    "    for x in temp:\n",
    "        result=result*x\n",
    "    if result !=0:\n",
    "        if len(s)>4:\n",
    "            break\n",
    "        else:\n",
    "            s.add(i)\n",
    "s"
   ]
  },
  {
   "cell_type": "code",
   "execution_count": 181,
   "id": "9ded517b",
   "metadata": {},
   "outputs": [
    {
     "name": "stdout",
     "output_type": "stream",
     "text": [
      "two sets are not identical\n"
     ]
    }
   ],
   "source": [
    "# 22. Check if two sets are identical.\n",
    "s1 = {1, 2, 3, 4, 5}\n",
    "s2 = {4, 5, 6, 7, 8}\n",
    "\n",
    "if s1==s2:\n",
    "    print(\"two sets are identical\")\n",
    "else:\n",
    "    print(\"two sets are not identical\")\n"
   ]
  },
  {
   "cell_type": "code",
   "execution_count": 182,
   "id": "f7e54de8",
   "metadata": {},
   "outputs": [
    {
     "data": {
      "text/plain": [
       "frozenset({1, 2, 3, 4, 5})"
      ]
     },
     "execution_count": 182,
     "metadata": {},
     "output_type": "execute_result"
    }
   ],
   "source": [
    "# 23. Create a frozen set\n",
    "s1 = {1, 2, 3, 4, 5}\n",
    "frozenset(s1)\n"
   ]
  },
  {
   "cell_type": "code",
   "execution_count": 183,
   "id": "bd9ea439",
   "metadata": {},
   "outputs": [
    {
     "data": {
      "text/plain": [
       "False"
      ]
     },
     "execution_count": 183,
     "metadata": {},
     "output_type": "execute_result"
    }
   ],
   "source": [
    "# 24. Check if a set is disjoint with another set.\n",
    "s1 = {1, 2, 3, 4, 5}\n",
    "s2 = {4, 5, 6, 7, 8}\n",
    "\n",
    "s1.isdisjoint(s2)\n"
   ]
  },
  {
   "cell_type": "code",
   "execution_count": 184,
   "id": "07cf3e47",
   "metadata": {},
   "outputs": [
    {
     "data": {
      "text/plain": [
       "{1, 4, 9, 16, 25}"
      ]
     },
     "execution_count": 184,
     "metadata": {},
     "output_type": "execute_result"
    }
   ],
   "source": [
    "# 25. Create a set of squares of numbers from 1 to 5.\n",
    "s=set()\n",
    "for i in range(1,6):\n",
    "    a=i*i\n",
    "    s.add(a)\n",
    "s"
   ]
  },
  {
   "cell_type": "code",
   "execution_count": 185,
   "id": "ccd2d68d",
   "metadata": {},
   "outputs": [
    {
     "data": {
      "text/plain": [
       "{2, 4, 6, 8, 10}"
      ]
     },
     "execution_count": 185,
     "metadata": {},
     "output_type": "execute_result"
    }
   ],
   "source": [
    "# 26. Filter out all even numbers from a set.\n",
    "s = {1, 2, 3, 4, 5,6,7,8,9,10}\n",
    "p=set()\n",
    "\n",
    "for i in s:\n",
    "    if i%2==0:\n",
    "        p.add(i)\n",
    "p"
   ]
  },
  {
   "cell_type": "code",
   "execution_count": 186,
   "id": "4fb37162",
   "metadata": {},
   "outputs": [
    {
     "data": {
      "text/plain": [
       "{2, 4, 6, 8, 10, 12, 14, 16, 18, 20}"
      ]
     },
     "execution_count": 186,
     "metadata": {},
     "output_type": "execute_result"
    }
   ],
   "source": [
    "# 27. Multiply all elements in a set by 2.\n",
    "s = {1, 2, 3, 4, 5,6,7,8,9,10}\n",
    "k = set()\n",
    "\n",
    "for i in s:\n",
    "    a=i*2\n",
    "    k.add(a)\n",
    "k"
   ]
  },
  {
   "cell_type": "code",
   "execution_count": 187,
   "id": "7b2d093b",
   "metadata": {},
   "outputs": [
    {
     "data": {
      "text/plain": [
       "{7, 24, 29, 37, 79}"
      ]
     },
     "execution_count": 187,
     "metadata": {},
     "output_type": "execute_result"
    }
   ],
   "source": [
    "# 28. Create a set of random numbers.\n",
    "import random\n",
    "n = 5\n",
    "s = set()\n",
    "\n",
    "for i in range(n):\n",
    "    rn = random.randint(1, 100)\n",
    "    s.add(rn)\n",
    "\n",
    "s"
   ]
  },
  {
   "cell_type": "code",
   "execution_count": 188,
   "id": "3b917880",
   "metadata": {},
   "outputs": [
    {
     "name": "stdout",
     "output_type": "stream",
     "text": [
      "My set is not empty\n"
     ]
    }
   ],
   "source": [
    "# 29. Check if a set is empty.\n",
    "s = {1, 2, 3, 4, 5,6,7,8,9,10}\n",
    "\n",
    "if not s:\n",
    "    print(\"My set is empty\")\n",
    "else:\n",
    "    print(\"My set is not empty\")\n"
   ]
  },
  {
   "cell_type": "code",
   "execution_count": 189,
   "id": "c97e789f",
   "metadata": {},
   "outputs": [
    {
     "data": {
      "text/plain": [
       "{frozenset({1, 2, 3, 4, 5}), frozenset({6, 7, 8, 9, 10})}"
      ]
     },
     "execution_count": 189,
     "metadata": {},
     "output_type": "execute_result"
    }
   ],
   "source": [
    "# 30. Create a nested set (hint: use frozenset).\n",
    "\n",
    "s1 = {1, 2, 3, 4, 5}\n",
    "s2 = {6, 7, 8, 9, 10}\n",
    "\n",
    "a = frozenset(s1)\n",
    "b = frozenset(s2)\n",
    "\n",
    "c = {a, b}\n",
    "\n",
    "c"
   ]
  },
  {
   "cell_type": "code",
   "execution_count": 190,
   "id": "f26c4bad",
   "metadata": {},
   "outputs": [
    {
     "data": {
      "text/plain": [
       "{1, 2, 4, 5}"
      ]
     },
     "execution_count": 190,
     "metadata": {},
     "output_type": "execute_result"
    }
   ],
   "source": [
    "# 31. Remove an element from a set using the discard method.\n",
    "\n",
    "s = {1, 2, 3, 4, 5}\n",
    "s.discard(3)\n",
    "s"
   ]
  },
  {
   "cell_type": "code",
   "execution_count": 191,
   "id": "cfb7bf92",
   "metadata": {},
   "outputs": [
    {
     "name": "stdout",
     "output_type": "stream",
     "text": [
      "both sets are different\n"
     ]
    }
   ],
   "source": [
    "# 32. Compare two sets.\n",
    "s1 = {1, 2, 3, 4, 5}\n",
    "s2 = {6, 7, 8, 9, 10}\n",
    "\n",
    "if s1==s2:\n",
    "    print(\"both sets are same\")\n",
    "else:\n",
    "    print(\"both sets are different\")"
   ]
  },
  {
   "cell_type": "code",
   "execution_count": 192,
   "id": "b0566d6b",
   "metadata": {},
   "outputs": [],
   "source": [
    "# 33. Create a set from a string.\n",
    "st=\"33. Create a set from a string.\"\n",
    "s=set()\n",
    "for i in st.split():\n",
    "    s.add(i)\n"
   ]
  },
  {
   "cell_type": "code",
   "execution_count": 196,
   "id": "227544e6",
   "metadata": {},
   "outputs": [
    {
     "data": {
      "text/plain": [
       "{1, 2, 3, 4, 5}"
      ]
     },
     "execution_count": 196,
     "metadata": {},
     "output_type": "execute_result"
    }
   ],
   "source": [
    "# 34. Convert a set of strings to a set of integers.\n",
    "s = {'1','2', '2','3', '3', '4', '5'}\n",
    "t=set()\n",
    "for i in s:\n",
    "    a=int(i)\n",
    "    t.add(a)\n",
    "t"
   ]
  },
  {
   "cell_type": "code",
   "execution_count": 197,
   "id": "4ca66a85",
   "metadata": {},
   "outputs": [
    {
     "data": {
      "text/plain": [
       "{'1', '2', '3', '4', '5'}"
      ]
     },
     "execution_count": 197,
     "metadata": {},
     "output_type": "execute_result"
    }
   ],
   "source": [
    "# 35. Convert a set of integers to a set of strings.\n",
    "\n",
    "s = {1, 2, 3, 4, 5}\n",
    "t=set()\n",
    "for i in s:\n",
    "    a=str(i)\n",
    "    t.add(a)\n",
    "t"
   ]
  },
  {
   "cell_type": "code",
   "execution_count": 198,
   "id": "fdd50cdf",
   "metadata": {},
   "outputs": [
    {
     "data": {
      "text/plain": [
       "{1, 2, 3, 4, 5}"
      ]
     },
     "execution_count": 198,
     "metadata": {},
     "output_type": "execute_result"
    }
   ],
   "source": [
    "# 36. Create a set from a tuple.\n",
    "t=(1,2,3,4,5)\n",
    "s=set(t)\n",
    "s"
   ]
  },
  {
   "cell_type": "code",
   "execution_count": 200,
   "id": "04343ca9",
   "metadata": {},
   "outputs": [
    {
     "data": {
      "text/plain": [
       "(1, 2, 3, 4, 5)"
      ]
     },
     "execution_count": 200,
     "metadata": {},
     "output_type": "execute_result"
    }
   ],
   "source": [
    "# 37. Convert a set to a tuple.\n",
    "s={1,2,3,4,5}\n",
    "t=tuple(s)\n",
    "t"
   ]
  },
  {
   "cell_type": "code",
   "execution_count": 201,
   "id": "fec30f78",
   "metadata": {},
   "outputs": [
    {
     "data": {
      "text/plain": [
       "5"
      ]
     },
     "execution_count": 201,
     "metadata": {},
     "output_type": "execute_result"
    }
   ],
   "source": [
    "# 38. Find the maximum value in a set.\n",
    "s={1,2,3,4,5}\n",
    "max(s)"
   ]
  },
  {
   "cell_type": "code",
   "execution_count": 202,
   "id": "c405b7f3",
   "metadata": {},
   "outputs": [
    {
     "data": {
      "text/plain": [
       "1"
      ]
     },
     "execution_count": 202,
     "metadata": {},
     "output_type": "execute_result"
    }
   ],
   "source": [
    "# 39. Find the minimum value in a set.\n",
    "s={1,2,3,4,5}\n",
    "min(s)"
   ]
  },
  {
   "cell_type": "code",
   "execution_count": 207,
   "id": "c4a9da86",
   "metadata": {},
   "outputs": [
    {
     "name": "stdout",
     "output_type": "stream",
     "text": [
      "Enter the values you want in a set:(enter T to terminate)satya\n",
      "Enter the values you want in a set:(enter T to terminate)ram\n",
      "Enter the values you want in a set:(enter T to terminate)kumar\n",
      "Enter the values you want in a set:(enter T to terminate)1\n",
      "Enter the values you want in a set:(enter T to terminate)2\n",
      "Enter the values you want in a set:(enter T to terminate)3\n",
      "Enter the values you want in a set:(enter T to terminate)t\n"
     ]
    },
    {
     "data": {
      "text/plain": [
       "{'1', '2', '3', 'kumar', 'ram', 'satya'}"
      ]
     },
     "execution_count": 207,
     "metadata": {},
     "output_type": "execute_result"
    }
   ],
   "source": [
    "# 40. Create a set from user input.\n",
    "s=set()\n",
    "\n",
    "while True:\n",
    "    n=input(\"Enter the values you want in a set:(enter T to terminate)\")\n",
    "    if n == \"T\" or n==\"t\":\n",
    "        break\n",
    "    s.add(n)\n",
    "s"
   ]
  },
  {
   "cell_type": "code",
   "execution_count": 208,
   "id": "30739ae4",
   "metadata": {},
   "outputs": [
    {
     "name": "stdout",
     "output_type": "stream",
     "text": [
      "intersection of two sets is empty\n"
     ]
    }
   ],
   "source": [
    "# 41. Check if the intersection of two sets is empty.\n",
    "s1 = {1, 2, 3, 4, 5}\n",
    "s2 = {6, 7, 8, 9, 10}\n",
    "\n",
    "if len(s1.intersection(s2))==0:\n",
    "    print(\"intersection of two sets is empty\")\n",
    "else:\n",
    "    print(\"intersection of two sets is not empty\")"
   ]
  },
  {
   "cell_type": "code",
   "execution_count": 215,
   "id": "b40d9415",
   "metadata": {},
   "outputs": [
    {
     "data": {
      "text/plain": [
       "{0, 1, 2, 3, 5}"
      ]
     },
     "execution_count": 215,
     "metadata": {},
     "output_type": "execute_result"
    }
   ],
   "source": [
    "# 42. Create a set of the first 5 Fibonacci numbers.\n",
    "s=set()\n",
    "a=0\n",
    "b=1\n",
    "\n",
    "for i in range(6):\n",
    "    s.add(a)\n",
    "    a,b=b,a+b\n",
    "s\n"
   ]
  },
  {
   "cell_type": "code",
   "execution_count": 216,
   "id": "64cb4b22",
   "metadata": {},
   "outputs": [
    {
     "data": {
      "text/plain": [
       "{1, 2, 3, 4, 5, 6}"
      ]
     },
     "execution_count": 216,
     "metadata": {},
     "output_type": "execute_result"
    }
   ],
   "source": [
    "# 43. Remove duplicates from a list using sets.\n",
    "l=[1,2,3,3,3,4,5,5,6,6]\n",
    "set(l)"
   ]
  },
  {
   "cell_type": "code",
   "execution_count": 220,
   "id": "d6832387",
   "metadata": {},
   "outputs": [
    {
     "name": "stdout",
     "output_type": "stream",
     "text": [
      "two sets have the same elements\n"
     ]
    }
   ],
   "source": [
    "# 44. Check if two sets have the same elements, regardless of their count.\n",
    "s1 = {1, 2, 3, 4, 5}\n",
    "s2 = {1, 2, 2, 3, 3,4,5}\n",
    "check=[]\n",
    "\n",
    "def chk_two_sets(s1,s2):\n",
    "    for i in s1:\n",
    "        if i not in s2:\n",
    "            check.append(i)\n",
    "    for j in s2:\n",
    "        if j not in s1:\n",
    "            check.append(j)\n",
    "    if len(check)==0:\n",
    "        print(\"two sets have the same elements\")\n",
    "    else:    \n",
    "        print(\"two sets does not have the same elements\")\n",
    "chk_two_sets(s1,s2)"
   ]
  },
  {
   "cell_type": "code",
   "execution_count": 221,
   "id": "d2cea9b0",
   "metadata": {},
   "outputs": [
    {
     "name": "stdout",
     "output_type": "stream",
     "text": [
      "Enter a number 5\n"
     ]
    },
    {
     "data": {
      "text/plain": [
       "{1, 2, 4, 8, 16}"
      ]
     },
     "execution_count": 221,
     "metadata": {},
     "output_type": "execute_result"
    }
   ],
   "source": [
    "# 45. Create a set of the first `n` powers of 2.\n",
    "n=int(input(\"Enter a number \"))\n",
    "s=set()\n",
    "\n",
    "for i in range(n):\n",
    "    k=2**i\n",
    "    s.add(k)\n",
    "s\n"
   ]
  },
  {
   "cell_type": "code",
   "execution_count": 224,
   "id": "db6fd5fe",
   "metadata": {},
   "outputs": [
    {
     "data": {
      "text/plain": [
       "{1, 2, 3, 5}"
      ]
     },
     "execution_count": 224,
     "metadata": {},
     "output_type": "execute_result"
    }
   ],
   "source": [
    "# 46. Find the common elements between a set and a list.\n",
    "s = {1, 2, 3, 4, 5}\n",
    "l = (1, 2, 9, 3, 11,7,6)\n",
    "\n",
    "def find_com_elmt(s,l):\n",
    "    c=[]\n",
    "    for i in s:\n",
    "        if i in l:\n",
    "            c.append(i)\n",
    "    for j in l:\n",
    "        if j in s:\n",
    "            c.append(i)\n",
    "    return set(c)\n",
    "\n",
    "find_com_elmt(s,l)"
   ]
  },
  {
   "cell_type": "code",
   "execution_count": 227,
   "id": "829ac6bf",
   "metadata": {},
   "outputs": [
    {
     "data": {
      "text/plain": [
       "{0, 1, 3, 6, 10, 15, 21, 28, 36, 45}"
      ]
     },
     "execution_count": 227,
     "metadata": {},
     "output_type": "execute_result"
    }
   ],
   "source": [
    "# 47. Create a set of the first `n` triangular numbers.\n",
    "n=10\n",
    "s=set()\n",
    "for i in range(n):\n",
    "    k=i*(i+1)//2\n",
    "    s.add(k)\n",
    "s\n"
   ]
  },
  {
   "cell_type": "code",
   "execution_count": 229,
   "id": "f85099c6",
   "metadata": {},
   "outputs": [
    {
     "name": "stdout",
     "output_type": "stream",
     "text": [
      "set contains another set as a subset\n"
     ]
    }
   ],
   "source": [
    "# 48. Check if a set contains another set as a subset.\n",
    "s1 = {1, 2, 3, 4, 5}\n",
    "s2 = {1, 2, 2, 3, 3,4,5}\n",
    "\n",
    "if s1.issubset(s2) == True:\n",
    "    print(\"set contains another set as a subset\")\n",
    "else:\n",
    "    print(\"set does not contains another set as a subset\")"
   ]
  },
  {
   "cell_type": "code",
   "execution_count": 245,
   "id": "73ae4be2",
   "metadata": {},
   "outputs": [
    {
     "ename": "SyntaxError",
     "evalue": "invalid syntax (388008649.py, line 3)",
     "output_type": "error",
     "traceback": [
      "\u001b[1;36m  Cell \u001b[1;32mIn[245], line 3\u001b[1;36m\u001b[0m\n\u001b[1;33m    Not possible in set as it removes duplicates\u001b[0m\n\u001b[1;37m        ^\u001b[0m\n\u001b[1;31mSyntaxError\u001b[0m\u001b[1;31m:\u001b[0m invalid syntax\n"
     ]
    }
   ],
   "source": [
    "# 49. Create a set of alternating 1s and 0s of length `n`.\n",
    "\n",
    "Answer: Not possible in set as it removes duplicates if not created manually"
   ]
  },
  {
   "cell_type": "code",
   "execution_count": 248,
   "id": "c6fa5be5",
   "metadata": {},
   "outputs": [
    {
     "data": {
      "text/plain": [
       "{1, 2, 3, 4, 5, 6, 7, 8, 9, 10, 11, 12, 13, 14, 15, 16, 17, 18}"
      ]
     },
     "execution_count": 248,
     "metadata": {},
     "output_type": "execute_result"
    }
   ],
   "source": [
    "# 50. Merge multiple sets into one.\n",
    "s1 = {1, 2, 3, 4, 5}\n",
    "s2 = {6, 7, 8, 9, 10}\n",
    "s3= {11,12,13,14,15,16,17,18}\n",
    "\n",
    "s1|s2|s3"
   ]
  }
 ],
 "metadata": {
  "kernelspec": {
   "display_name": "Python 3 (ipykernel)",
   "language": "python",
   "name": "python3"
  },
  "language_info": {
   "codemirror_mode": {
    "name": "ipython",
    "version": 3
   },
   "file_extension": ".py",
   "mimetype": "text/x-python",
   "name": "python",
   "nbconvert_exporter": "python",
   "pygments_lexer": "ipython3",
   "version": "3.8.13"
  }
 },
 "nbformat": 4,
 "nbformat_minor": 5
}
