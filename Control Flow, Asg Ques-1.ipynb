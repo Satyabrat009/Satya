{
 "cells": [
  {
   "cell_type": "markdown",
   "id": "b87c616e",
   "metadata": {},
   "source": [
    "Basic If-Else Statements:\n",
    "\n",
    "1. Write a Python program to check if a given number is positive or negative.\n",
    "\n",
    "2. Create a program that determines if a person is eligible to vote based on their age.\n",
    "\n",
    "3. Develop a program to find the maximum of two numbers using if-else statements.\n",
    "\n",
    "4. Write a Python script to classify a given year as a leap year or not.\n",
    "\n",
    "5. Create a program that checks whether a character is a vowel or a consonant.\n",
    "\n",
    "6. Implement a program to determine whether a given number is even or odd.\n",
    "\n",
    "7. Write a Python function to calculate the absolute value of a number without using the `abs()` function.\n",
    "\n",
    "8. Develop a program that determines the largest of three given numbers using if-else statements.\n",
    "\n",
    "9. Create a program that checks if a given string is a palindrome.\n",
    "\n",
    "10. Write a Python program to calculate the grade based on a student's score.\n"
   ]
  },
  {
   "cell_type": "code",
   "execution_count": 18,
   "id": "af770525",
   "metadata": {},
   "outputs": [
    {
     "name": "stdout",
     "output_type": "stream",
     "text": [
      "Enter a number: -.265\n",
      "the given number is Negative\n"
     ]
    }
   ],
   "source": [
    "# 1. Write a Python program to check if a given number is positive or negative.\n",
    "n=float(input(\"Enter a number: \"))\n",
    "\n",
    "if n >=0:\n",
    "    print(\"the given number is Posetive\")\n",
    "else:\n",
    "    print(\"the given number is Negative\")\n"
   ]
  },
  {
   "cell_type": "code",
   "execution_count": 19,
   "id": "e04f8583",
   "metadata": {},
   "outputs": [
    {
     "name": "stdout",
     "output_type": "stream",
     "text": [
      "Enter the age: 17.5\n",
      "You are not eligible to vote\n"
     ]
    }
   ],
   "source": [
    "# 2. Create a program that determines if a person is eligible to vote based on their age.\n",
    "\n",
    "n=float(input(\"Enter the age: \"))\n",
    "\n",
    "if n >=18:\n",
    "    print(\"You are eligible to vote\")\n",
    "else:\n",
    "    print(\"You are not eligible to vote\")\n"
   ]
  },
  {
   "cell_type": "code",
   "execution_count": 29,
   "id": "181672b0",
   "metadata": {},
   "outputs": [
    {
     "name": "stdout",
     "output_type": "stream",
     "text": [
      "Enter the First Number: 30\n",
      "Enter the Second Number: 3\n",
      "30.0, Number 1 is greater than 3.0 number 2\n"
     ]
    }
   ],
   "source": [
    "# 3. Develop a program to find the maximum of two numbers using if-else statements.\n",
    "n1=float(input(\"Enter the First Number: \"))\n",
    "n2=float(input(\"Enter the Second Number: \"))\n",
    "\n",
    "if n1==n2:\n",
    "    print(\"Both the numbers entered by you are equal\")\n",
    "elif n1>n2:\n",
    "    print(str(n1) + \", Number 1 is greater than \" +str(n2)+ \" number 2\")\n",
    "else:\n",
    "    print(str(n2) + \", Number 2 is greater than \" +str(n1)+ \" number 1\")\n"
   ]
  },
  {
   "cell_type": "code",
   "execution_count": 31,
   "id": "69ce2c4c",
   "metadata": {},
   "outputs": [
    {
     "name": "stdout",
     "output_type": "stream",
     "text": [
      "Enter the Year(YYYY): 2006\n",
      "2006 The year entered by you is not a leap year\n"
     ]
    }
   ],
   "source": [
    "# 4. Write a Python script to classify a given year as a leap year or not.\n",
    "\n",
    "n=int(input(\"Enter the Year(YYYY): \"))\n",
    "\n",
    "if n %4==0:\n",
    "    print(n,\"The year entered by you is a leap year\")\n",
    "else:\n",
    "    print(n,\"The year entered by you is not a leap year\")\n"
   ]
  },
  {
   "cell_type": "code",
   "execution_count": 33,
   "id": "0dfae60c",
   "metadata": {},
   "outputs": [
    {
     "name": "stdout",
     "output_type": "stream",
     "text": [
      "Enter a  single character: g\n",
      "You have entered a consonant g\n"
     ]
    }
   ],
   "source": [
    "# 5. Create a program that checks whether a character is a vowel or a consonant.\n",
    "vowel='aeiouAEIOU'\n",
    "n=str(input(\"Enter a  single character: \"))\n",
    "\n",
    "if n in vowel:\n",
    "    print(\"You have entered a vovel\", n)\n",
    "else:\n",
    "    print(\"You have entered a consonant\", n)\n"
   ]
  },
  {
   "cell_type": "code",
   "execution_count": 34,
   "id": "02a413d5",
   "metadata": {},
   "outputs": [
    {
     "name": "stdout",
     "output_type": "stream",
     "text": [
      "Enter the number: 24\n",
      "24 The given number is even\n"
     ]
    }
   ],
   "source": [
    "# 6. Implement a program to determine whether a given number is even or odd.\n",
    "\n",
    "n=int(input(\"Enter the number: \"))\n",
    "\n",
    "if n %2==0:\n",
    "    print(n,\"The given number is even\")\n",
    "else:\n",
    "    print(n,\"The given number is odd\")"
   ]
  },
  {
   "cell_type": "code",
   "execution_count": 38,
   "id": "66939730",
   "metadata": {},
   "outputs": [
    {
     "data": {
      "text/plain": [
       "90"
      ]
     },
     "execution_count": 38,
     "metadata": {},
     "output_type": "execute_result"
    }
   ],
   "source": [
    "# 7. Write a Python function to calculate the absolute value of a number without using the `abs()` function.\n",
    "\n",
    "def absolute(n):\n",
    "    if n<0:\n",
    "        n=n*(-1)\n",
    "    return n    \n",
    "\n",
    "absolute(-90)        "
   ]
  },
  {
   "cell_type": "code",
   "execution_count": 51,
   "id": "2398d7f8",
   "metadata": {},
   "outputs": [
    {
     "name": "stdout",
     "output_type": "stream",
     "text": [
      "Enter the First Number: 10\n",
      "Enter the Second Number: 10\n",
      "Enter the Third Number: 30\n",
      "30.0  Third number is largest of the three number entered by you\n"
     ]
    }
   ],
   "source": [
    "# 8. Develop a program that determines the largest of three given numbers using if-else statements.\n",
    "n1=float(input(\"Enter the First Number: \"))\n",
    "n2=float(input(\"Enter the Second Number: \"))\n",
    "n3=float(input(\"Enter the Third Number: \"))\n",
    "\n",
    "if n1>n2 and n1>n3:\n",
    "    print(n1,\" First Number is largest of the three number entered by you\")\n",
    "elif n2>n1 and n2>n3:\n",
    "    print(n2,\" Second number is largest of the three number entered by you\")\n",
    "elif n3>n1 and n3>n2:\n",
    "    print(n3,\" Third number is largest of the three number entered by you\")\n",
    "\n",
    "elif n1==n2 and n1==n3:\n",
    "    print(n1,n2,n3,\" all numbers entered by you are equal\")\n",
    "    \n",
    "elif n1==n2 and n1>n3:\n",
    "    print(n1,n2,\"Both First & second numbers are largest\")\n",
    "elif n2==n3 and n1<n3:\n",
    "    print(n2,n3,\"Both Third & second numbers are largest\")\n",
    "elif n1==n3 and n1>n2:\n",
    "    print(n1,n3,\"Both First & Third numbers are largest\")\n",
    "    \n",
    "    "
   ]
  },
  {
   "cell_type": "code",
   "execution_count": 54,
   "id": "1de4ee4c",
   "metadata": {},
   "outputs": [
    {
     "name": "stdout",
     "output_type": "stream",
     "text": [
      "Enter a string: ama gog ama\n",
      "given string is a palindrome\n"
     ]
    }
   ],
   "source": [
    "# 9. Create a program that checks if a given string is a palindrome.\n",
    "s=str(input(\"Enter a string: \"))\n",
    "\n",
    "if s==s[::-1]:\n",
    "    print(\"given string is a palindrome\")\n",
    "else:\n",
    "    print(\"given string is not a palindrome\")"
   ]
  },
  {
   "cell_type": "code",
   "execution_count": 60,
   "id": "fd061af5",
   "metadata": {},
   "outputs": [
    {
     "name": "stdout",
     "output_type": "stream",
     "text": [
      "Enter your score (0-100): 40\n",
      "Your grade is E\n"
     ]
    }
   ],
   "source": [
    "# 10. Write a Python program to calculate the grade based on a student's score.\n",
    "\n",
    "n=float(input(\"Enter your score (0-100): \"))\n",
    "\n",
    "if n>=90:\n",
    "    print(\"Your grade is A+\")\n",
    "elif n>=80 and n<90:\n",
    "    print(\"Your grade is A\")\n",
    "elif n>=70 and n<80:\n",
    "    print(\"Your grade is B\")\n",
    "elif n>=60 and n<70:\n",
    "    print(\"Your grade is C\")\n",
    "elif n>=50 and n<60:\n",
    "    print(\"Your grade is D\")\n",
    "elif n>=40 and n<50:\n",
    "    print(\"Your grade is E\")    \n",
    "else:\n",
    "    print(\"Your grade is F\")\n",
    "\n"
   ]
  },
  {
   "cell_type": "markdown",
   "id": "3df7ce0f",
   "metadata": {},
   "source": [
    "Nested If-Else Statements:\n",
    "\n",
    "11. Write a program to find the largest among three numbers using nested if-else statements.\n",
    "\n",
    "12. Implement a program to determine if a triangle is equilateral, isosceles, or scalene.\n",
    "\n",
    "13. Develop a program that checks if a year is a leap year and also if it is a century year.\n",
    "\n",
    "14. Write a Python script to determine if a number is positive, negative, or zero.\n",
    "\n",
    "15. Create a program to check if a person is a teenager (between 13 and 19 years old).\n",
    "\n",
    "16. Develop a program that determines the type of angle based on its measure (acute, obtuse, or right).\n",
    "\n",
    "17. Write a Python program to calculate the roots of a quadratic equation.\n",
    "\n",
    "18. Implement a program to determine the day of the week based on a user-provided number (1 for Monday, 2\n",
    "for Tuesday, etc.).\n",
    "\n",
    "19. Create a program that determines if a year is a leap year and also if it is evenly divisible by 400.\n",
    "\n",
    "20. Develop a program that checks if a given number is prime or not using nested if-else statements.\n",
    "\n"
   ]
  },
  {
   "cell_type": "code",
   "execution_count": 96,
   "id": "e86df3a5",
   "metadata": {},
   "outputs": [
    {
     "name": "stdout",
     "output_type": "stream",
     "text": [
      "Enter the First Number: 1\n",
      "Enter the Second Number: 1\n",
      "Enter the Third Number: 3\n",
      "3.0  Third number is largest of the three number entered by you\n"
     ]
    }
   ],
   "source": [
    "# 11. Write a program to find the largest among three numbers using nested if-else statements.\n",
    "\n",
    "n1=float(input(\"Enter the First Number: \"))\n",
    "n2=float(input(\"Enter the Second Number: \"))\n",
    "n3=float(input(\"Enter the Third Number: \"))\n",
    "\n",
    "if n1>n2:\n",
    "    if n1>n3:\n",
    "        print(n1,\" First Number is largest of the three number entered by you\")\n",
    "    elif n1<n3:    \n",
    "        print(n3,\" Third number is largest of the three number entered by you\")\n",
    "    elif n1==n3:\n",
    "        print(n3,n1,\"Both Third & First numbers are largest\")\n",
    "\n",
    "elif n2>n1:\n",
    "    if n2>n3:\n",
    "        print(n2,\" Second number is largest of the three number entered by you\")\n",
    "    elif n2<n3:\n",
    "        print(n3,\" Third number is largest of the three number entered by you\")\n",
    "    elif n2==n3:\n",
    "        print(n3,n2,\"Both Third & second numbers are largest\")\n",
    "        \n",
    "elif n1==n2: \n",
    "    if n1==n3:\n",
    "        print(n1,n2,n3,\" all numbers entered by you are equal\")\n",
    "     \n",
    "    elif n1>n3:\n",
    "        print(n1,n2,\"Both First & second numbers are largest\")\n",
    "    elif n1<n3:\n",
    "        print(n3,\" Third number is largest of the three number entered by you\")\n",
    "\n",
    "elif n2==n3:\n",
    "    if n1<n3:\n",
    "        print(n2,n3,\"Both Third & second numbers are largest\") \n",
    "    elif n1>n3:\n",
    "        print(n1,\" First Number is largest of the three number entered by you\")\n",
    "\n",
    "elif n1==n3:\n",
    "    if n2<n3:\n",
    "        print(n3,n1,\"Both Third & First numbers are largest\") \n",
    "    elif n2>n3:\n",
    "        print(n2,\" Second number is largest of the three number entered by you\")\n",
    "        "
   ]
  },
  {
   "cell_type": "code",
   "execution_count": 99,
   "id": "a3a17124",
   "metadata": {},
   "outputs": [
    {
     "name": "stdout",
     "output_type": "stream",
     "text": [
      "Enter the First side: 1\n",
      "Enter the Second side: 2\n",
      "Enter the Third side: 3\n",
      "Triangle is scalene\n"
     ]
    }
   ],
   "source": [
    "# 12. Implement a program to determine if a triangle is equilateral, isosceles, or scalene.\n",
    "\n",
    "n1=float(input(\"Enter the First side: \"))\n",
    "n2=float(input(\"Enter the Second side: \"))\n",
    "n3=float(input(\"Enter the Third side: \"))\n",
    "\n",
    "if n1==n2:\n",
    "    if n2==n3:\n",
    "        print(\"Triangle is equilateral\")\n",
    "    else:\n",
    "        print(\"Triangle is isosceles\")\n",
    "elif n2==n3:\n",
    "    if n1 != n2:\n",
    "        print(\"Triangle is isosceles\")\n",
    "else:\n",
    "    print(\"Triangle is scalene\")\n",
    "    "
   ]
  },
  {
   "cell_type": "code",
   "execution_count": 101,
   "id": "49084ca4",
   "metadata": {},
   "outputs": [
    {
     "name": "stdout",
     "output_type": "stream",
     "text": [
      "Enter a year (YYYY): 2000\n",
      "2000  The year entered by you is a centuary year as well a leap year\n"
     ]
    }
   ],
   "source": [
    "# 13. Develop a program that checks if a year is a leap year and also if it is a century year.\n",
    "\n",
    "n=int(input(\"Enter a year (YYYY): \"))\n",
    "\n",
    "if n%4==0:\n",
    "    if n%100==0:\n",
    "        print(n, \" The year entered by you is a centuary year as well a leap year\")\n",
    "    else:\n",
    "        print(n, \" The year entered by you is only a leap year\")\n",
    "else:\n",
    "    print(n, \" The year entered by you is not a centuary year as well not a leap year\")\n",
    "    "
   ]
  },
  {
   "cell_type": "code",
   "execution_count": 103,
   "id": "4901ac55",
   "metadata": {},
   "outputs": [
    {
     "name": "stdout",
     "output_type": "stream",
     "text": [
      "Enter a number: -1\n",
      "-1.0  the number entered by you is Negative\n"
     ]
    }
   ],
   "source": [
    "# 14. Write a Python script to determine if a number is positive, negative, or zero.\n",
    "n=float(input(\"Enter a number: \"))\n",
    "\n",
    "if n==0:\n",
    "    print(n,\" the number entered by you is Zero\")\n",
    "elif n<0:\n",
    "    print(n,\" the number entered by you is Negative\")\n",
    "else:\n",
    "    print(n,\" the number entered by you is Positive\")"
   ]
  },
  {
   "cell_type": "code",
   "execution_count": 104,
   "id": "07e58c50",
   "metadata": {},
   "outputs": [
    {
     "name": "stdout",
     "output_type": "stream",
     "text": [
      "Enter the age : 20\n",
      "The person is not a teenager\n"
     ]
    }
   ],
   "source": [
    "# 15. Create a program to check if a person is a teenager (between 13 and 19 years old).\n",
    "\n",
    "n=float(input(\"Enter the age : \"))\n",
    "\n",
    "if n>=13 and n<=19:\n",
    "    print(\"The person is teenager\")\n",
    "else:\n",
    "    print(\"The person is not a teenager\")"
   ]
  },
  {
   "cell_type": "code",
   "execution_count": 106,
   "id": "969f0c94",
   "metadata": {},
   "outputs": [
    {
     "name": "stdout",
     "output_type": "stream",
     "text": [
      "Enter the angle : 93\n",
      "The angle is obtuse angle\n"
     ]
    }
   ],
   "source": [
    "# 16. Develop a program that determines the type of angle based on its measure (acute, obtuse, or right).\n",
    "\n",
    "n=float(input(\"Enter the angle : \"))\n",
    "\n",
    "if n<90:\n",
    "    print(\"The angle is acute angle\")\n",
    "elif n==90:\n",
    "    print(\"The angle is right angle\")\n",
    "else:\n",
    "    print(\"The angle is obtuse angle\")\n"
   ]
  },
  {
   "cell_type": "code",
   "execution_count": 107,
   "id": "3e17ffd8",
   "metadata": {},
   "outputs": [
    {
     "name": "stdout",
     "output_type": "stream",
     "text": [
      "Enter the coefficient a: 3\n",
      "Enter the coefficient b: 4\n",
      "Enter the coefficient c: 5\n",
      "The roots are complex: -0.6666666666666666 + 1.1055415967851332i and -0.6666666666666666 - 1.1055415967851332i\n"
     ]
    }
   ],
   "source": [
    "# 17. Write a Python program to calculate the roots of a quadratic equation.\n",
    "\n",
    "import math\n",
    "\n",
    "# Input coefficients a, b, and c from the user\n",
    "a = float(input(\"Enter the coefficient a: \"))\n",
    "b = float(input(\"Enter the coefficient b: \"))\n",
    "c = float(input(\"Enter the coefficient c: \"))\n",
    "\n",
    "# Calculate the discriminant\n",
    "discriminant = b**2 - 4*a*c\n",
    "\n",
    "# Check the value of the discriminant to determine the number of roots\n",
    "if discriminant > 0:\n",
    "    # Two real and distinct roots\n",
    "    root1 = (-b + math.sqrt(discriminant)) / (2*a)\n",
    "    root2 = (-b - math.sqrt(discriminant)) / (2*a)\n",
    "    print(f\"The roots are real and distinct: {root1} and {root2}\")\n",
    "elif discriminant == 0:\n",
    "    # One real root\n",
    "    root = -b / (2*a)\n",
    "    print(f\"There is one real root: {root}\")\n",
    "else:\n",
    "    # Complex roots\n",
    "    real_part = -b / (2*a)\n",
    "    imaginary_part = math.sqrt(abs(discriminant)) / (2*a)\n",
    "    print(f\"The roots are complex: {real_part} + {imaginary_part}i and {real_part} - {imaginary_part}i\")\n"
   ]
  },
  {
   "cell_type": "code",
   "execution_count": 108,
   "id": "cd8a1104",
   "metadata": {},
   "outputs": [
    {
     "name": "stdout",
     "output_type": "stream",
     "text": [
      "Enter the week number 6\n",
      "Saturday\n"
     ]
    }
   ],
   "source": [
    "# 18. Implement a program to determine the day of the week based on a user-provided number (1 for Monday, 2 for Tuesday, etc.).\n",
    "\n",
    "n=int(input(\"Enter the week number \"))\n",
    "\n",
    "if n==1:\n",
    "    print(\"Monday\")\n",
    "elif n==2:\n",
    "    print(\"Tuesday\")\n",
    "elif n==3:\n",
    "    print(\"Wednesday\")\n",
    "elif n==4:\n",
    "    print(\"Thrusday\")\n",
    "elif n==5:\n",
    "    print(\"Friday\")\n",
    "elif n==6:\n",
    "    print(\"Saturday\")\n",
    "elif n==7:\n",
    "    print(\"Sunday\")\n",
    "else:\n",
    "    print(\"Invalid entry\")\n",
    "    "
   ]
  },
  {
   "cell_type": "code",
   "execution_count": 1,
   "id": "db9979d8",
   "metadata": {},
   "outputs": [
    {
     "name": "stdout",
     "output_type": "stream",
     "text": [
      "Enter a year (YYYY): 2005\n",
      "2005  The year entered by you is not evenly divisible by 400 as well not a leap year\n"
     ]
    }
   ],
   "source": [
    "# 19. Create a program that determines if a year is a leap year and also if it is evenly divisible by 400.\n",
    "\n",
    "n=int(input(\"Enter a year (YYYY): \"))\n",
    "\n",
    "if n%4==0:\n",
    "    if n%400==0:\n",
    "        print(n, \" The year entered by you is evenly divisible by 400 as well a leap year\")\n",
    "    else:\n",
    "        print(n, \" The year entered by you is only a leap year\")\n",
    "else:\n",
    "    print(n, \" The year entered by you is not evenly divisible by 400 as well not a leap year\")\n",
    "    "
   ]
  },
  {
   "cell_type": "code",
   "execution_count": 18,
   "id": "ac6c6097",
   "metadata": {},
   "outputs": [
    {
     "name": "stdout",
     "output_type": "stream",
     "text": [
      "Enter a number greater than 1: 2\n",
      "2 : The number entered by you is prime\n"
     ]
    }
   ],
   "source": [
    "# 20. Develop a program that checks if a given number is prime or not using nested if-else statements.\n",
    "\n",
    "n=int(input(\"Enter a number greater than 1: \"))\n",
    "\n",
    "if n<=1:\n",
    "    print(\"Please input number greater than 1\")\n",
    "elif n==2:\n",
    "    print(n,\": The number entered by you is prime\")\n",
    "\n",
    "else:\n",
    "    temp=0\n",
    "    for i in range(2,n-1):        \n",
    "        if n%i==0:\n",
    "            temp=+1\n",
    "    if temp>0:\n",
    "        print(n,\": The number entered by you is not prime\")\n",
    "    else:\n",
    "        print(n,\": The number entered by you is prime\")\n",
    "\n",
    "\n",
    "        "
   ]
  },
  {
   "cell_type": "markdown",
   "id": "d132c44f",
   "metadata": {},
   "source": [
    "Elif Statements:\n",
    "\n",
    "21. Write a Python program to assign grades based on different ranges of scores using elif statements.\n",
    "\n",
    "22. Implement a program to determine the type of a triangle based on its angles.\n",
    "\n",
    "23. Develop a program to categorize a given person's BMI into underweight, normal, overweight, or obese using\n",
    "elif statements.\n",
    "\n",
    "24. Create a program that determines whether a given number is positive, negative, or zero using elif\n",
    "statements.\n",
    "\n",
    "25. Write a Python script to determine the type of a character (uppercase, lowercase, or special) using elif\n",
    "statements.\n",
    "\n",
    "26. Implement a program to calculate the discounted price based on different purchase amounts using elif\n",
    "statements.\n",
    "\n",
    "27. Develop a program to calculate the electricity bill based on different consumption slabs using elif\n",
    "statements.\n",
    "\n",
    "28. Create a program to determine the type of quadrilateral based on its angles and sides using elif\n",
    "statements.\n",
    "\n",
    "29. Write a Python script to determine the season based on a user-provided month using elif statements.\n",
    "\n",
    "30. Implement a program to determine the type of a year (leap or common) and month (30 or 31 days) using\n",
    "elif statements.\n"
   ]
  },
  {
   "cell_type": "code",
   "execution_count": 20,
   "id": "980a5102",
   "metadata": {},
   "outputs": [
    {
     "name": "stdout",
     "output_type": "stream",
     "text": [
      "Enter your score (0-100): 100\n",
      "Your grade is A+\n"
     ]
    }
   ],
   "source": [
    "# 21. Write a Python program to assign grades based on different ranges of scores using elif statements.\n",
    "\n",
    "n=float(input(\"Enter your score (0-100): \"))\n",
    "\n",
    "if n>=90:\n",
    "    print(\"Your grade is A+\")\n",
    "elif n>=80 and n<90:\n",
    "    print(\"Your grade is A\")\n",
    "elif n>=70 and n<80:\n",
    "    print(\"Your grade is B\")\n",
    "elif n>=60 and n<70:\n",
    "    print(\"Your grade is C\")\n",
    "elif n>=50 and n<60:\n",
    "    print(\"Your grade is D\")\n",
    "elif n>=40 and n<50:\n",
    "    print(\"Your grade is E\")    \n",
    "else:\n",
    "    print(\"Your grade is F\")\n",
    "\n"
   ]
  },
  {
   "cell_type": "code",
   "execution_count": 26,
   "id": "1db577f9",
   "metadata": {},
   "outputs": [
    {
     "name": "stdout",
     "output_type": "stream",
     "text": [
      "Please input first angle degree: 120\n",
      "Please input second angle degree: 30\n",
      "the triangle is  Obtuse triangle\n"
     ]
    }
   ],
   "source": [
    "# 22. Implement a program to determine the type of a triangle based on its angles.\n",
    "angle1=float(input(\"Please input first angle degree: \"))\n",
    "angle2=float(input(\"Please input second angle degree: \"))\n",
    "angle3=180-(angle1+angle2)\n",
    "\n",
    "if angle1<=0 or angle2<=0 or angle1>=180 or angle2>=180:\n",
    "    print(\"The angles provided by you is not valid\")\n",
    "\n",
    "elif angle1 ==90 or angle2==90 or angle3==90:\n",
    "    print(\"the triangle is Right triangle\")\n",
    "    \n",
    "elif angle1 >90 or angle2>90 or angle3>90:\n",
    "    print(\"the triangle is  Obtuse triangle\")\n",
    "else:\n",
    "    print(\"the triangle is Acute  triangle\")"
   ]
  },
  {
   "cell_type": "code",
   "execution_count": 27,
   "id": "5ca60fc9",
   "metadata": {},
   "outputs": [
    {
     "name": "stdout",
     "output_type": "stream",
     "text": [
      "Please enter your weight: 78\n",
      "Please enter your height: 5.9\n",
      "Underweight\n"
     ]
    }
   ],
   "source": [
    "# 23. Develop a program to categorize a given person's BMI into underweight, normal, overweight, or obese using elif statements.\n",
    "#your code goes here\n",
    "\n",
    "weight=float(input(\"Please enter your weight: \"))\n",
    "height=float(input(\"Please enter your height: \"))\n",
    "\n",
    "bmi= weight/(height)**2\n",
    "\n",
    "if bmi<18.5:\n",
    "    print(\"Underweight\")\n",
    "elif bmi>=18.5 and bmi<25:\n",
    "    print(\"Normal\")\n",
    "elif bmi>=25 and bmi<30:\n",
    "    print(\"Overweight\")\n",
    "else:\n",
    "    print(\"Obesity\")\n"
   ]
  },
  {
   "cell_type": "code",
   "execution_count": 29,
   "id": "5c352174",
   "metadata": {},
   "outputs": [
    {
     "name": "stdout",
     "output_type": "stream",
     "text": [
      "Please enter a number: 23\n",
      "The number entered by you is positive\n"
     ]
    }
   ],
   "source": [
    "# 24. Create a program that determines whether a given number is positive, negative, or zero using elif statements.\n",
    "\n",
    "n=float(input(\"Please enter a number: \"))\n",
    "\n",
    "if n==0:\n",
    "    print(\"The number entered by you is 0\")\n",
    "elif n<0:\n",
    "    print(\"The number entered by you is negative\")\n",
    "else:\n",
    "    print(\"The number entered by you is positive\")"
   ]
  },
  {
   "cell_type": "code",
   "execution_count": 7,
   "id": "44e12f64",
   "metadata": {},
   "outputs": [
    {
     "name": "stdout",
     "output_type": "stream",
     "text": [
      "enter a single character: @\n",
      "Its a special character\n"
     ]
    }
   ],
   "source": [
    "# 25. Write a Python script to determine the type of a character (uppercase, lowercase, or special) using elif statements.\n",
    "up=\"ABCDEFGHIJKLMNOPQRSTUVWXYZ\"\n",
    "lw='abcdefghijklmnopqrstuvwxyz'\n",
    "nw=\"123456789\"\n",
    "\n",
    "n=str(input(\"enter a single character: \"))\n",
    "\n",
    "if len(n)!=1:\n",
    "    print(\"Please input single charcter\")\n",
    "elif n in up:\n",
    "    print(n, \"The input character is Uppercase \")\n",
    "elif n in lw:\n",
    "    print(n, \"The input character is lowercase \")\n",
    "elif n in nw:\n",
    "    print(n, \"The input character is numeric \")\n",
    "else:\n",
    "    print(\"Its a special character\")\n",
    "\n"
   ]
  },
  {
   "cell_type": "code",
   "execution_count": 27,
   "id": "dbbc79b7",
   "metadata": {},
   "outputs": [
    {
     "data": {
      "text/plain": [
       "47.5"
      ]
     },
     "execution_count": 27,
     "metadata": {},
     "output_type": "execute_result"
    }
   ],
   "source": [
    "# 26. Implement a program to calculate the discounted price based on different purchase amounts using elif statements.\n",
    "\n",
    "def discount(product_price):\n",
    "    if product_price <0:\n",
    "        return \"Invalid Price\"\n",
    "    elif product_price ==0:\n",
    "        return \"Its free product\"\n",
    "    elif product_price >0 and product_price <=100:\n",
    "        return product_price-product_price*0.05\n",
    "    elif product_price >100 and product_price <=1000:\n",
    "        return product_price-product_price*0.1\n",
    "    elif product_price >1000 and product_price <=10000:\n",
    "        return product_price-product_price*0.15\n",
    "    elif product_price >10000:\n",
    "        return product_price-product_price*0.2\n",
    "    \n",
    "discount(50) \n",
    "    \n",
    "    "
   ]
  },
  {
   "cell_type": "code",
   "execution_count": 33,
   "id": "5e0fed9f",
   "metadata": {},
   "outputs": [
    {
     "data": {
      "text/plain": [
       "15760"
      ]
     },
     "execution_count": 33,
     "metadata": {},
     "output_type": "execute_result"
    }
   ],
   "source": [
    "# 27. Develop a program to calculate the electricity bill based on different consumption slabs using elif statements.\n",
    "\n",
    "def electric_bill(meter_start, meter_end):\n",
    "    units=meter_end-meter_start\n",
    "    if units <0:\n",
    "        return \"Invalid Entry\"\n",
    "    elif units ==0:\n",
    "        #base rate\n",
    "        return 350\n",
    "    elif units >0 and units <=50:\n",
    "        return 350\n",
    "    elif units >50 and units <=100:\n",
    "        return (units-50)*12 + 350\n",
    "    elif units >100 and units <=250:\n",
    "        return (units-100)*18 +600+350\n",
    "    elif units >250 and units <=500:\n",
    "        return (units-250)*25 +1800+600+350\n",
    "    else:\n",
    "        return (units-500)*40 +6250 +1800+600+350\n",
    "\n",
    "#enter meter start reading & end reading    \n",
    "electric_bill(564,1233) \n",
    "     \n"
   ]
  },
  {
   "cell_type": "code",
   "execution_count": 44,
   "id": "6bb94bf5",
   "metadata": {},
   "outputs": [
    {
     "name": "stdout",
     "output_type": "stream",
     "text": [
      "It is a general quadrilateral.\n"
     ]
    }
   ],
   "source": [
    "# 28. Create a program to determine the type of quadrilateral based on its angles and sides using elif statements.\n",
    "\n",
    "def quadrilateral_type(a, b, c, d, A, B, C, D):\n",
    "    if A + B + C + D == 360:\n",
    "        if a == b == c == d:\n",
    "            print(\"It is a square.\")\n",
    "        elif a == c and b == d:\n",
    "            print(\"It is a rectangle.\")\n",
    "        elif a == b == c != d or a != b == c == d or a == b != c == d or a == b == c != d:\n",
    "            print(\"It is a rhombus.\")\n",
    "        elif a == c != b == d or a == b != c == d or a == b == d != c or a != b == c == d:\n",
    "            print(\"It is a parallelogram.\")\n",
    "        else:\n",
    "            print(\"It is a general quadrilateral.\")\n",
    "    else:\n",
    "        print(\"Invalid quadrilateral: Sum of angles is not 360 degrees.\")\n",
    "\n",
    "\n",
    "# Enter the values with the angles and sides of your quadrilateral\n",
    "quadrilateral_type(4, 2, 5, 4, 90, 70, 90, 110)"
   ]
  },
  {
   "cell_type": "code",
   "execution_count": 56,
   "id": "d24134e5",
   "metadata": {},
   "outputs": [
    {
     "data": {
      "text/plain": [
       "'Rainy Season'"
      ]
     },
     "execution_count": 56,
     "metadata": {},
     "output_type": "execute_result"
    }
   ],
   "source": [
    "# 29. Write a Python script to determine the season based on a user-provided month using elif statements.\n",
    "\n",
    "def season(month):\n",
    "    if month.lower() in [\"december\", \"january\", \"february\"]:\n",
    "        return \"Winter Season\"\n",
    "    elif month.lower() in [\"march\", \"april\", \"may\"]:\n",
    "        return \"Summer Season\"\n",
    "    elif month.lower() in [\"june\", \"july\", \"august\"]:\n",
    "        return \"Rainy Season\"\n",
    "    elif month.lower() in [\"sepetmber\", \"october\", \"november\"]:\n",
    "        return \"Autom Season\"\n",
    "    else:\n",
    "        return \"Please enter full month name\"\n",
    "    \n",
    "\n",
    "season(\"July\")"
   ]
  },
  {
   "cell_type": "code",
   "execution_count": 60,
   "id": "1c6f8408",
   "metadata": {},
   "outputs": [
    {
     "data": {
      "text/plain": [
       "'Leap Year & month is of 31 days'"
      ]
     },
     "execution_count": 60,
     "metadata": {},
     "output_type": "execute_result"
    }
   ],
   "source": [
    "# 30. Implement a program to determine the type of a year (leap or common) and month (30 or 31 days) using elif statements.\n",
    "\n",
    "def year_month(year,month):\n",
    "    if year%4!=0:\n",
    "        if month.lower() in [\"january\",\"march\",\"may\",\"july\",\"august\",\"october\",\"december\"]:\n",
    "            return \"Common Year & month is of 31 days\"\n",
    "        elif month.lower() in [\"april\",\"june\",\"sepetmber\",\"november\"]:\n",
    "            return \"Common Year & month is of 3O days\"\n",
    "        elif month.lower() in [\"february\"]:\n",
    "            return \"Common Year & month is of 28 days\"\n",
    "    else:\n",
    "        if month.lower() in [\"january\",\"march\",\"may\",\"july\",\"august\",\"october\",\"december\"]:\n",
    "            return \"Leap Year & month is of 31 days\"\n",
    "        elif month.lower() in [\"april\",\"june\",\"sepetmber\",\"november\"]:\n",
    "            return \"Leap Year & month is of 3O days\"\n",
    "        elif month.lower() in [\"february\"]:\n",
    "            return \"Leap Year & month is of 29 days\"\n",
    "#enter year and full month        \n",
    "year_month(2004,\"May\")"
   ]
  },
  {
   "cell_type": "markdown",
   "id": "10021579",
   "metadata": {},
   "source": [
    "Assignment Questions\n",
    "Basic Level:\n",
    "\n",
    "1. Write a Python program that checks if a given number is positive, negative, or zero.\n",
    "\n",
    "2. Create a program to determine if a person is eligible to vote based on their age.\n",
    "\n",
    "3. Write a program to find the maximum of two given numbers using conditional statements.\n",
    "\n",
    "4. Develop a program that calculates the grade of a student based on their exam score.\n",
    "\n",
    "5. Create a program that checks if a year is a leap year or not.\n",
    "\n",
    "6. Write a program to classify a triangle based on its sides' lengths.\n",
    "\n",
    "7. Build a program that determines the largest of three given numbers.\n",
    "\n",
    "8. Develop a program that checks whether a character is a vowel or a consonant.\n",
    "\n",
    "9. Create a program to calculate the total cost of a shopping cart based on discounts.\n",
    "\n",
    "10. Write a program that checks if a given number is even or odd.\n",
    "\n"
   ]
  },
  {
   "cell_type": "code",
   "execution_count": 62,
   "id": "62aa2b08",
   "metadata": {},
   "outputs": [
    {
     "name": "stdout",
     "output_type": "stream",
     "text": [
      "Enter a number: 30\n",
      "30.0  the number entered by you is Positive\n"
     ]
    }
   ],
   "source": [
    "# 1. Write a Python program that checks if a given number is positive, negative, or zero.\n",
    "\n",
    "n=float(input(\"Enter a number: \"))\n",
    "\n",
    "if n==0:\n",
    "    print(n,\" the number entered by you is Zero\")\n",
    "elif n<0:\n",
    "    print(n,\" the number entered by you is Negative\")\n",
    "else:\n",
    "    print(n,\" the number entered by you is Positive\")"
   ]
  },
  {
   "cell_type": "code",
   "execution_count": 66,
   "id": "2d7559c9",
   "metadata": {},
   "outputs": [
    {
     "name": "stdout",
     "output_type": "stream",
     "text": [
      "Enter your age: 36\n",
      "You are eligible to vote\n"
     ]
    }
   ],
   "source": [
    "# 2. Create a program to determine if a person is eligible to vote based on their age.\n",
    "n=float(input(\"Enter your age: \"))\n",
    "\n",
    "if n<=0:\n",
    "    print(\"Enter valid age\")\n",
    "elif n>0 and n<18:\n",
    "    print(\"You are not eligible to vote\")\n",
    "else:\n",
    "    print(\"You are eligible to vote\")\n",
    "\n"
   ]
  },
  {
   "cell_type": "code",
   "execution_count": 72,
   "id": "70251809",
   "metadata": {},
   "outputs": [
    {
     "data": {
      "text/plain": [
       "5"
      ]
     },
     "execution_count": 72,
     "metadata": {},
     "output_type": "execute_result"
    }
   ],
   "source": [
    "# 3. Write a program to find the maximum of two given numbers using conditional statements.\n",
    "\n",
    "def max_two(num1,num2):\n",
    "    if num1==num2:\n",
    "        return \"Both numbers are same\"\n",
    "    elif num1>num2:\n",
    "        return num1 \n",
    "    else:\n",
    "        return num2 \n",
    "    \n",
    "max_two(3,5)"
   ]
  },
  {
   "cell_type": "code",
   "execution_count": 75,
   "id": "6f40bb47",
   "metadata": {},
   "outputs": [
    {
     "name": "stdout",
     "output_type": "stream",
     "text": [
      "Enter your score (0-100): 84\n",
      "Your grade is A\n"
     ]
    }
   ],
   "source": [
    "# 4. Develop a program that calculates the grade of a student based on their exam score.\n",
    "\n",
    "n=float(input(\"Enter your score (0-100): \"))\n",
    "\n",
    "if n>=90:\n",
    "    print(\"Your grade is A+\")\n",
    "elif n>=80 and n<90:\n",
    "    print(\"Your grade is A\")\n",
    "elif n>=70 and n<80:\n",
    "    print(\"Your grade is B\")\n",
    "elif n>=60 and n<70:\n",
    "    print(\"Your grade is C\")\n",
    "elif n>=50 and n<60:\n",
    "    print(\"Your grade is D\")\n",
    "elif n>=40 and n<50:\n",
    "    print(\"Your grade is E\")    \n",
    "else:\n",
    "    print(\"Your grade is F\")\n",
    "\n"
   ]
  },
  {
   "cell_type": "code",
   "execution_count": 76,
   "id": "0777771e",
   "metadata": {},
   "outputs": [
    {
     "name": "stdout",
     "output_type": "stream",
     "text": [
      "Enter a year (YYYY): 2005\n",
      "2005  The year entered by you is not a leap year\n"
     ]
    }
   ],
   "source": [
    "# 5. Create a program that checks if a year is a leap year or not.\n",
    "\n",
    "n=int(input(\"Enter a year (YYYY): \"))\n",
    "\n",
    "if n%4==0:\n",
    "    print(n, \" The year entered by you is a leap year\")\n",
    "else:\n",
    "    print(n, \" The year entered by you is not a leap year\")\n",
    "    "
   ]
  },
  {
   "cell_type": "code",
   "execution_count": 86,
   "id": "ada1d255",
   "metadata": {},
   "outputs": [
    {
     "data": {
      "text/plain": [
       "'the triangle is scalene  triangle'"
      ]
     },
     "execution_count": 86,
     "metadata": {},
     "output_type": "execute_result"
    }
   ],
   "source": [
    "# 6. Write a program to classify a triangle based on its sides' lengths.\n",
    "\n",
    "def triangle_by_side(a,b,c):\n",
    "    \n",
    "    if a==b and b==c:\n",
    "        return \"The triangle is equilatoral triangle\"\n",
    "\n",
    "    elif (a!=b and b==c) or (c!=a and b==a) or (c==a and b!=a):\n",
    "        return \"the triangle is isoceles triangle\"\n",
    "    else:\n",
    "        return \"the triangle is scalene  triangle\"\n",
    "\n",
    "triangle_by_side(9,10,11)   "
   ]
  },
  {
   "cell_type": "code",
   "execution_count": null,
   "id": "ef28bc8a",
   "metadata": {},
   "outputs": [],
   "source": [
    "# 7. Build a program that determines the largest of three given numbers.\n",
    "\n",
    "def largest_three(num1,num2,num3):\n",
    "    \n",
    "    if num1==num2 and num2==num3 :\n",
    "        return \"All numbers are same\"\n",
    "    elif num1>num2:\n",
    "        return num1 \n",
    "    else:\n",
    "        return num2 \n",
    "    \n",
    "max_two(3,5)"
   ]
  },
  {
   "cell_type": "code",
   "execution_count": 87,
   "id": "214be400",
   "metadata": {},
   "outputs": [
    {
     "name": "stdout",
     "output_type": "stream",
     "text": [
      "Enter a character: l\n",
      "the character is consonant\n"
     ]
    }
   ],
   "source": [
    "# 8. Develop a program that checks whether a character is a vowel or a consonant.\n",
    "\n",
    "vowel=\"aeiou\"\n",
    "\n",
    "n=str(input(\"Enter a character: \"))\n",
    "if n in vowel:\n",
    "    print(\"the character is vowel\")\n",
    "else:\n",
    "     print(\"the character is consonant\")\n"
   ]
  },
  {
   "cell_type": "code",
   "execution_count": 88,
   "id": "541acfb4",
   "metadata": {},
   "outputs": [
    {
     "data": {
      "text/plain": [
       "450.0"
      ]
     },
     "execution_count": 88,
     "metadata": {},
     "output_type": "execute_result"
    }
   ],
   "source": [
    "# 9. Create a program to calculate the total cost of a shopping cart based on discounts.\n",
    "\n",
    "def shopping_cart(product_price):\n",
    "    if product_price <0:\n",
    "        return \"Invalid Price\"\n",
    "    elif product_price ==0:\n",
    "        return \"Its free shopping\"\n",
    "    elif product_price >0 and product_price <=100:\n",
    "        return product_price-product_price*0.05\n",
    "    elif product_price >100 and product_price <=1000:\n",
    "        return product_price-product_price*0.1\n",
    "    elif product_price >1000 and product_price <=10000:\n",
    "        return product_price-product_price*0.15\n",
    "    elif product_price >10000:\n",
    "        return product_price-product_price*0.2\n",
    "    \n",
    "shopping_cart(500) \n",
    "    \n",
    "    "
   ]
  },
  {
   "cell_type": "code",
   "execution_count": 89,
   "id": "bd3ef5f8",
   "metadata": {},
   "outputs": [
    {
     "name": "stdout",
     "output_type": "stream",
     "text": [
      "Enter the number: 5\n",
      "5 The given number is odd\n"
     ]
    }
   ],
   "source": [
    "# 10. Write a program that checks if a given number is even or odd.\n",
    "\n",
    "\n",
    "n=int(input(\"Enter the number: \"))\n",
    "\n",
    "if n %2==0:\n",
    "    print(n,\"The given number is even\")\n",
    "else:\n",
    "    print(n,\"The given number is odd\")"
   ]
  },
  {
   "cell_type": "markdown",
   "id": "1fd44362",
   "metadata": {},
   "source": [
    "Intermediate Level:\n",
    "\n",
    "11. Write a program that calculates the roots of a quadratic equation .\n",
    "\n",
    "12. Create a program that determines the day of the week based on the day number (1-7).\n",
    "\n",
    "13. Develop a program that calculates the factorial of a given number using recursion.\n",
    "\n",
    "14. Write a program to find the largest among three numbers without using the `max()` function.\n",
    "\n",
    "15. Create a program that simulates a basic ATM transaction menu.\n",
    "\n",
    "16. Build a program that checks if a given string is a palindrome or not.\n",
    "\n",
    "17. Write a program that calculates the average of a list of numbers, excluding the smallest and largest values.\n",
    "\n",
    "18. Develop a program that converts a given temperature from Celsius to Fahrenheit.\n",
    "\n",
    "19. Create a program that simulates a basic calculator for addition, subtraction, multiplication, and division.\n",
    "\n",
    "20. Write a program that determines the roots of a cubic equation using the Cardano formula.\n",
    "\n"
   ]
  },
  {
   "cell_type": "code",
   "execution_count": 90,
   "id": "ce1317e9",
   "metadata": {},
   "outputs": [
    {
     "name": "stdout",
     "output_type": "stream",
     "text": [
      "real and different roots\n",
      "2.0\n",
      "-12.0\n"
     ]
    }
   ],
   "source": [
    "# 11. Write a program that calculates the roots of a quadratic equation .\n",
    "import math \n",
    "\n",
    "def root_quadatic(a,b,c):\n",
    "\n",
    "    # calculating discriminant using formula\n",
    "    dis = b * b - 4 * a * c \n",
    "    sqrt_val = math.sqrt(abs(dis)) \n",
    "     \n",
    "    # checking condition for discriminant\n",
    "    if dis > 0: \n",
    "        print(\"real and different roots\") \n",
    "        print((-b + sqrt_val)/(2 * a)) \n",
    "        print((-b - sqrt_val)/(2 * a)) \n",
    "     \n",
    "    elif dis == 0: \n",
    "        print(\"real and same roots\") \n",
    "        print(-b / (2 * a)) \n",
    "     \n",
    "    # when discriminant is less than 0\n",
    "    else:\n",
    "        print(\"Complex Roots\") \n",
    "        print(- b / (2 * a), + i, sqrt_val) \n",
    "        print(- b / (2 * a), - i, sqrt_val) \n",
    "\n",
    "# Driver Program \n",
    "a = 1\n",
    "b = 10\n",
    "c = -24\n",
    " \n",
    "if a == 0: \n",
    "    print(\"Input correct quadratic equation\") \n",
    "else:\n",
    "    root_quadatic(a, b, c)\n",
    "\n"
   ]
  },
  {
   "cell_type": "code",
   "execution_count": 93,
   "id": "4c10cab5",
   "metadata": {},
   "outputs": [
    {
     "name": "stdout",
     "output_type": "stream",
     "text": [
      "Tuesday\n"
     ]
    }
   ],
   "source": [
    "# 12. Create a program that determines the day of the week based on the day number (1-7).\n",
    "\n",
    "def week_num(n):\n",
    "    if n==1:\n",
    "        print(\"Monday\")\n",
    "    elif n==2:\n",
    "        print(\"Tuesday\")\n",
    "    elif n==3:\n",
    "        print(\"Wednesday\")\n",
    "    elif n==4:\n",
    "        print(\"Thrusday\")\n",
    "    elif n==5:\n",
    "        print(\"Friday\")\n",
    "    elif n==6:\n",
    "        print(\"Saturday\")\n",
    "    elif n==7:\n",
    "        print(\"Sunday\")\n",
    "    else:\n",
    "        print(\"Invalid entry\")\n",
    "\n",
    "week_num(2)   "
   ]
  },
  {
   "cell_type": "code",
   "execution_count": 105,
   "id": "1728625c",
   "metadata": {},
   "outputs": [
    {
     "data": {
      "text/plain": [
       "720"
      ]
     },
     "execution_count": 105,
     "metadata": {},
     "output_type": "execute_result"
    }
   ],
   "source": [
    "# 13. Develop a program that calculates the factorial of a given number using recursion.\n",
    "\n",
    "def fact(num):\n",
    "    if num ==1 or num==0:\n",
    "        return 1\n",
    "    else: \n",
    "        return num * fact(num-1)\n",
    "fact(6)\n"
   ]
  },
  {
   "cell_type": "code",
   "execution_count": 106,
   "id": "08379860",
   "metadata": {},
   "outputs": [
    {
     "name": "stdout",
     "output_type": "stream",
     "text": [
      "Enter the First Number: 5\n",
      "Enter the Second Number: 6\n",
      "Enter the Third Number: 6\n",
      "6.0 6.0 Both Third & second numbers are largest\n"
     ]
    }
   ],
   "source": [
    "# 14. Write a program to find the largest among three numbers without using the `max()` function.\n",
    "\n",
    "n1=float(input(\"Enter the First Number: \"))\n",
    "n2=float(input(\"Enter the Second Number: \"))\n",
    "n3=float(input(\"Enter the Third Number: \"))\n",
    "\n",
    "if n1>n2 and n1>n3:\n",
    "    print(n1,\" First Number is largest of the three number entered by you\")\n",
    "elif n2>n1 and n2>n3:\n",
    "    print(n2,\" Second number is largest of the three number entered by you\")\n",
    "elif n3>n1 and n3>n2:\n",
    "    print(n3,\" Third number is largest of the three number entered by you\")\n",
    "\n",
    "elif n1==n2 and n1==n3:\n",
    "    print(n1,n2,n3,\" all numbers entered by you are equal\")\n",
    "    \n",
    "elif n1==n2 and n1>n3:\n",
    "    print(n1,n2,\"Both First & second numbers are largest\")\n",
    "elif n2==n3 and n1<n3:\n",
    "    print(n2,n3,\"Both Third & second numbers are largest\")\n",
    "elif n1==n3 and n1>n2:\n",
    "    print(n1,n3,\"Both First & Third numbers are largest\")\n",
    "    \n"
   ]
  },
  {
   "cell_type": "code",
   "execution_count": 17,
   "id": "06d594ab",
   "metadata": {},
   "outputs": [
    {
     "name": "stdout",
     "output_type": "stream",
     "text": [
      "\n",
      "=== ATM Menu ===\n",
      "1. Check Balance\n",
      "2. Withdraw Money\n",
      "3. Deposit Money\n",
      "4. Exit\n",
      "\n",
      "Enter your choice (1-4): 1\n",
      "\n",
      "Your current balance is $1000\n",
      "\n",
      "=== ATM Menu ===\n",
      "1. Check Balance\n",
      "2. Withdraw Money\n",
      "3. Deposit Money\n",
      "4. Exit\n",
      "\n",
      "Enter your choice (1-4): 2\n",
      "\n",
      "Enter the amount to withdraw: $5000\n",
      "\n",
      "Invalid amount or insufficient funds. Withdrawal failed.\n",
      "\n",
      "=== ATM Menu ===\n",
      "1. Check Balance\n",
      "2. Withdraw Money\n",
      "3. Deposit Money\n",
      "4. Exit\n",
      "\n",
      "Enter your choice (1-4): 4\n",
      "\n",
      "Thank you for using the ATM. Goodbye!\n"
     ]
    }
   ],
   "source": [
    "# 15. Create a program that simulates a basic ATM transaction menu.\n",
    "\n",
    "class ATM:\n",
    "    def __init__(self, balance=1000):\n",
    "        self.balance = balance\n",
    "\n",
    "    def display_menu(self):\n",
    "        print(\"\\n=== ATM Menu ===\")\n",
    "        print(\"1. Check Balance\")\n",
    "        print(\"2. Withdraw Money\")\n",
    "        print(\"3. Deposit Money\")\n",
    "        print(\"4. Exit\")\n",
    "\n",
    "    def check_balance(self):\n",
    "        print(f\"\\nYour current balance is ${self.balance}\")\n",
    "\n",
    "    def withdraw_money(self):\n",
    "        amount = float(input(\"\\nEnter the amount to withdraw: $\"))\n",
    "        if amount > 0 and amount <= self.balance:\n",
    "            self.balance -= amount\n",
    "            print(f\"\\nWithdrawal successful! Remaining balance: ${self.balance}\")\n",
    "        else:\n",
    "            print(\"\\nInvalid amount or insufficient funds. Withdrawal failed.\")\n",
    "\n",
    "    def deposit_money(self):\n",
    "        amount = float(input(\"\\nEnter the amount to deposit: $\"))\n",
    "        if amount > 0:\n",
    "            self.balance += amount\n",
    "            print(f\"\\nDeposit successful! Updated balance: ${self.balance}\")\n",
    "        else:\n",
    "            print(\"\\nInvalid amount. Deposit failed.\")\n",
    "\n",
    "    def run(self):\n",
    "        while True:\n",
    "            self.display_menu()\n",
    "            choice = input(\"\\nEnter your choice (1-4): \")\n",
    "\n",
    "            if choice == '1':\n",
    "                self.check_balance()\n",
    "            elif choice == '2':\n",
    "                self.withdraw_money()\n",
    "            elif choice == '3':\n",
    "                self.deposit_money()\n",
    "            elif choice == '4':\n",
    "                print(\"\\nThank you for using the ATM. Goodbye!\")\n",
    "                break\n",
    "            else:\n",
    "                print(\"\\nInvalid choice. Please enter a number between 1 and 4.\")\n",
    "\n",
    "\n",
    "# Create an instance of the ATM class\n",
    "atm = ATM()\n",
    "\n",
    "# Run the ATM simulation\n",
    "atm.run()\n"
   ]
  },
  {
   "cell_type": "code",
   "execution_count": 108,
   "id": "f4707da5",
   "metadata": {},
   "outputs": [
    {
     "data": {
      "text/plain": [
       "'The string entered by you is palindrome'"
      ]
     },
     "execution_count": 108,
     "metadata": {},
     "output_type": "execute_result"
    }
   ],
   "source": [
    "# 16. Build a program that checks if a given string is a palindrome or not.\n",
    "\n",
    "def string_palindrome(string):\n",
    "    if string==string[::-1]:\n",
    "        return \"The string entered by you is palindrome\"\n",
    "    else:\n",
    "        return \"The string entered by you is not a palindrome\"\n",
    "    \n",
    "string_palindrome(\"mam ogo mam\")"
   ]
  },
  {
   "cell_type": "code",
   "execution_count": 27,
   "id": "c0b10909",
   "metadata": {},
   "outputs": [
    {
     "data": {
      "text/plain": [
       "3.5"
      ]
     },
     "execution_count": 27,
     "metadata": {},
     "output_type": "execute_result"
    }
   ],
   "source": [
    "# 17. Write a program that calculates the average of a list of numbers, excluding the smallest and largest values.\n",
    "\n",
    "def excl_avg(ls):\n",
    "    \n",
    "    if type(ls)==list:\n",
    "        sum_list=0\n",
    "        for i in range(0,len(ls)):\n",
    "            if (ls[i]!=max(ls) and ls[i]!=min(ls)):\n",
    "                sum_list=sum_list+ls[i]\n",
    "        \n",
    "        avg_list=sum_list/(len(ls)-2)\n",
    "        return avg_list\n",
    "    else:\n",
    "        return \"Please enter list of numbers\"\n",
    "\n",
    "excl_avg([2,1,4,3,6,5])\n"
   ]
  },
  {
   "cell_type": "code",
   "execution_count": 32,
   "id": "0a356584",
   "metadata": {},
   "outputs": [
    {
     "data": {
      "text/plain": [
       "15.555555555555557"
      ]
     },
     "execution_count": 32,
     "metadata": {},
     "output_type": "execute_result"
    }
   ],
   "source": [
    "# 18. Develop a program that converts a given temperature from Celsius to Fahrenheit.\n",
    "\n",
    "def faren_to_cel(faren):\n",
    "    celcius=(faren - 32) * (5/9)\n",
    "    return celcius\n",
    "\n",
    "faren_to_cel(60)"
   ]
  },
  {
   "cell_type": "code",
   "execution_count": 61,
   "id": "f0084840",
   "metadata": {},
   "outputs": [
    {
     "data": {
      "text/plain": [
       "-35"
      ]
     },
     "execution_count": 61,
     "metadata": {},
     "output_type": "execute_result"
    }
   ],
   "source": [
    "# 19. Create a program that simulates a basic calculator for addition, subtraction, multiplication, and division.\n",
    "\n",
    "def calc(ops,*args):\n",
    "    num=[]\n",
    "    for arg in args:\n",
    "        num.append(arg)\n",
    "    \n",
    "    if len(num)==0 or len(num)==0:\n",
    "        return \"please enter 2 or more than 2 numbers\"\n",
    "    \n",
    "    \n",
    "    elif ops==\"add\":\n",
    "        addition=0\n",
    "        for i in num:\n",
    "            addition=addition+i\n",
    "        return addition\n",
    "            \n",
    "    elif ops==\"sub\":\n",
    "        subtraction=0\n",
    "        for i in num:\n",
    "            subtraction-=i\n",
    "        return subtraction\n",
    "            \n",
    "    elif ops==\"mul\":\n",
    "        multiplication=1\n",
    "        for i in num:\n",
    "            multiplication*=i\n",
    "        return multiplication\n",
    "\n",
    "    elif ops==\"div\":\n",
    "        division=num[0]\n",
    "        for i in num:\n",
    "            if i!=num[0]:\n",
    "                division/=i\n",
    "        return division\n",
    "# add for addition, sub for subtraction, mul for multiplication, and div for division.\n",
    "\n",
    "calc(\"sub\",5,10,20)"
   ]
  },
  {
   "cell_type": "code",
   "execution_count": 62,
   "id": "6d8a64ef",
   "metadata": {},
   "outputs": [
    {
     "name": "stdout",
     "output_type": "stream",
     "text": [
      "Enter coefficient a: 10\n",
      "Enter coefficient b: 20\n",
      "Enter coefficient c: 30\n",
      "Enter coefficient d: 40\n",
      "Roots: ((0.42697045480630835+1.199502715028224j), (-0.17468540428030588-0.8521365428250519j), (-2.252285050526002-0.3473661722031721j))\n"
     ]
    }
   ],
   "source": [
    "# 20. Write a program that determines the roots of a cubic equation using the Cardano formula.\n",
    "\n",
    "import cmath  # Complex math module for handling complex roots\n",
    "\n",
    "def cubic_roots(a, b, c, d):\n",
    "    # Calculate coefficients for Cardano's formula\n",
    "    p = (3 * a * c - b**2) / (3 * a**2)\n",
    "    q = (2 * b**3 - 9 * a * b * c + 27 * a**2 * d) / (27 * a**3)\n",
    "\n",
    "    # Calculate discriminant for Cardano's formula\n",
    "    delta = (q**2 / 4) + (p**3 / 27)\n",
    "\n",
    "    # Check if the discriminant is positive or negative\n",
    "    if delta >= 0:\n",
    "        # Case for real roots\n",
    "        r = -q / 2 + cmath.sqrt(delta)\n",
    "        s = -q / 2 - cmath.sqrt(delta)\n",
    "\n",
    "        # Cube roots of r and s\n",
    "        u = r**(1/3)\n",
    "        v = s**(1/3)\n",
    "\n",
    "        # Calculate roots using Cardano's formula\n",
    "        root1 = u + v - b / (3 * a)\n",
    "        root2 = -(u + v) / 2 - b / (3 * a) + (u - v) * cmath.sqrt(3) * 1j / 2\n",
    "        root3 = -(u + v) / 2 - b / (3 * a) - (u - v) * cmath.sqrt(3) * 1j / 2\n",
    "\n",
    "    else:\n",
    "        # Case for complex roots\n",
    "        rho = cmath.sqrt(-(p**3 / 27))\n",
    "        theta = cmath.acos(-q / (2 * rho))\n",
    "\n",
    "        # Cube root of rho\n",
    "        croot = rho**(1/3)\n",
    "\n",
    "        # Calculate roots using Cardano's formula\n",
    "        root1 = 2 * croot * cmath.cos(theta / 3) - b / (3 * a)\n",
    "        root2 = 2 * croot * cmath.cos((theta + 2 * cmath.pi) / 3) - b / (3 * a)\n",
    "        root3 = 2 * croot * cmath.cos((theta + 4 * cmath.pi) / 3) - b / (3 * a)\n",
    "\n",
    "    return root1, root2, root3\n",
    "\n",
    "# Example usage\n",
    "a = float(input(\"Enter coefficient a: \"))\n",
    "b = float(input(\"Enter coefficient b: \"))\n",
    "c = float(input(\"Enter coefficient c: \"))\n",
    "d = float(input(\"Enter coefficient d: \"))\n",
    "\n",
    "roots = cubic_roots(a, b, c, d)\n",
    "print(\"Roots:\", roots)\n"
   ]
  },
  {
   "cell_type": "markdown",
   "id": "c1bb0e20",
   "metadata": {},
   "source": [
    "Advanced Level:\n",
    "\n",
    "21. Create a program that calculates the income tax based on the user's income and tax brackets.\n",
    "\n",
    "22. Write a program that simulates a rock-paper-scissors game against the computer.\n",
    "\n",
    "23. Develop a program that generates a random password based on user preferences (length, complexity).\n",
    "\n",
    "24. Create a program that implements a simple text-based adventure game with branching scenarios.\n",
    "\n",
    "25. Build a program that solves a linear equation for x, considering different cases.\n",
    "\n",
    "26. Write a program that simulates a basic quiz game with multiple-choice questions and scoring.\n",
    "\n",
    "27. Develop a program that determines whether a given year is a prime number or not.\n",
    "\n",
    "28. Create a program that sorts three numbers in ascending order using conditional statements.\n",
    "\n",
    "29. Build a program that determines the roots of a quartic equation using numerical methods.\n",
    "\n",
    "30. Write a program that calculates the BMI (Body Mass Index) and provides health recommendations based on the user's input.\n",
    "\n"
   ]
  },
  {
   "cell_type": "code",
   "execution_count": 64,
   "id": "90cc96eb",
   "metadata": {},
   "outputs": [
    {
     "data": {
      "text/plain": [
       "600000.0"
      ]
     },
     "execution_count": 64,
     "metadata": {},
     "output_type": "execute_result"
    }
   ],
   "source": [
    "# 21. Create a program that calculates the income tax based on the user's income and tax brackets.\n",
    "\n",
    "def income_tax(income):\n",
    "    \n",
    "    if income <=300000:\n",
    "        return \"Enjoy Tax free\"\n",
    "    elif income > 300000 and income<= 600000:\n",
    "        return (income-300000) * 0.05\n",
    "    elif income > 600000 and income<= 900000:\n",
    "        return (income-600000 ) * 0.1 + 15000\n",
    "    elif income > 900000 and income<= 1200000:\n",
    "        return (income-900000 ) * 0.15 + 15000 + 30000\n",
    "    elif income > 1200000 and income<= 1500000:\n",
    "        return (income-1200000 ) * 0.2 + 15000 + 30000 + 45000\n",
    "    elif income > 1500000:\n",
    "        return (income-1500000 ) * 0.3 + 15000 + 30000 + 45000 + 90000\n",
    "    \n",
    "\n",
    "#enter meter start reading & end reading    \n",
    "income_tax(2900000) "
   ]
  },
  {
   "cell_type": "code",
   "execution_count": 66,
   "id": "4cc2962d",
   "metadata": {},
   "outputs": [
    {
     "name": "stdout",
     "output_type": "stream",
     "text": [
      "Welcome to Rock-Paper-Scissors!\n",
      "Enter your choice: Rock, Paper, or Scissors\n",
      "rock\n",
      "You chose Rock. Computer chose Paper.\n",
      "You lose!\n",
      "Do you want to play again? (yes/no)\n",
      "sissor\n",
      "Thanks for playing! Goodbye.\n"
     ]
    }
   ],
   "source": [
    "# 22. Write a program that simulates a rock-paper-scissors game against the computer.\n",
    "\n",
    "import random\n",
    "\n",
    "def get_user_choice():\n",
    "    print(\"Enter your choice: Rock, Paper, or Scissors\")\n",
    "    user_choice = input().capitalize()\n",
    "    while user_choice not in [\"Rock\", \"Paper\", \"Scissors\"]:\n",
    "        print(\"Invalid choice. Please enter Rock, Paper, or Scissors.\")\n",
    "        user_choice = input().capitalize()\n",
    "    return user_choice\n",
    "\n",
    "def get_computer_choice():\n",
    "    return random.choice([\"Rock\", \"Paper\", \"Scissors\"])\n",
    "\n",
    "def determine_winner(user_choice, computer_choice):\n",
    "    print(f\"You chose {user_choice}. Computer chose {computer_choice}.\")\n",
    "\n",
    "    if user_choice == computer_choice:\n",
    "        return \"It's a tie!\"\n",
    "    elif (\n",
    "        (user_choice == \"Rock\" and computer_choice == \"Scissors\") or\n",
    "        (user_choice == \"Paper\" and computer_choice == \"Rock\") or\n",
    "        (user_choice == \"Scissors\" and computer_choice == \"Paper\")\n",
    "    ):\n",
    "        return \"You win!\"\n",
    "    else:\n",
    "        return \"You lose!\"\n",
    "\n",
    "def play_game():\n",
    "    print(\"Welcome to Rock-Paper-Scissors!\")\n",
    "    \n",
    "    while True:\n",
    "        user_choice = get_user_choice()\n",
    "        computer_choice = get_computer_choice()\n",
    "        result = determine_winner(user_choice, computer_choice)\n",
    "        \n",
    "        print(result)\n",
    "\n",
    "        print(\"Do you want to play again? (yes/no)\")\n",
    "        play_again = input().lower()\n",
    "        if play_again != \"yes\":\n",
    "            print(\"Thanks for playing! Goodbye.\")\n",
    "            break\n",
    "\n",
    "# Run the game\n",
    "\n",
    "play_game()\n"
   ]
  },
  {
   "cell_type": "code",
   "execution_count": 13,
   "id": "15464a1a",
   "metadata": {},
   "outputs": [
    {
     "name": "stdout",
     "output_type": "stream",
     "text": [
      "Enter the desired password length: 50\n",
      "Include uppercase letters? (y/n): y\n",
      "Include lowercase letters? (y/n): y\n",
      "Include numbers? (y/n): y\n",
      "Include special characters? (y/n): y\n",
      "Your randomly generated password is: UA5}P46Y*O~SEX;VW_9JQWT|-#dJzy[>\"Z}u'zAi)'(yH:X2VJ\n"
     ]
    }
   ],
   "source": [
    "# 23. Develop a program that generates a random password based on user preferences (length, complexity).\n",
    "\n",
    "import random\n",
    "import string\n",
    "\n",
    "def pass_gen(length,uppercase=True, lowercase=True, numbers=True, special_chars=True):\n",
    "    characters = \"\"\n",
    "    if uppercase:\n",
    "        characters += string.ascii_uppercase\n",
    "    if lowercase:\n",
    "        characters += string.ascii_lowercase\n",
    "    if numbers:\n",
    "        characters += string.digits\n",
    "    if special_chars:\n",
    "        characters += string.punctuation\n",
    "\n",
    "    if not characters:\n",
    "        print(\"Error: Please choose at least one character type.\")\n",
    "        return None\n",
    "\n",
    "    password = ''.join(random.choice(characters) for _ in range(length))\n",
    "    return password\n",
    "\n",
    "\n",
    "def main():\n",
    "    \n",
    "    length = int(input(\"Enter the desired password length: \"))\n",
    "    \n",
    "    uppercase = input(\"Include uppercase letters? (y/n): \").lower() == 'y'\n",
    "    lowercase = input(\"Include lowercase letters? (y/n): \").lower() == 'y'\n",
    "    numbers = input(\"Include numbers? (y/n): \").lower() == 'y'\n",
    "    special_chars = input(\"Include special characters? (y/n): \").lower() == 'y'\n",
    "\n",
    "    password = pass_gen(length, uppercase, lowercase, numbers, special_chars)\n",
    "    if password:\n",
    "        print(\"Your randomly generated password is:\", password)\n",
    "main()"
   ]
  },
  {
   "cell_type": "code",
   "execution_count": 19,
   "id": "fa628a71",
   "metadata": {},
   "outputs": [
    {
     "name": "stdout",
     "output_type": "stream",
     "text": [
      "Welcome to the Adventure Game!\n",
      "You find yourself standing at a crossroads.\n",
      "Each path leads to a different adventure.\n",
      "Choose wisely!\n",
      "\n",
      "1. Enter the dark forest.\n",
      "2. Enter the mysterious cave.\n",
      "Enter the number of your choice: 3\n",
      "Invalid choice. Please enter a valid number.\n",
      "Enter the number of your choice: 5\n",
      "Invalid choice. Please enter a valid number.\n",
      "Enter the number of your choice: 1\n",
      "You chose the path through the dark forest.\n",
      "As you walk deeper, you hear strange sounds around you.\n",
      "You come across a fork in the path.\n",
      "1. Follow the mysterious light.\n",
      "2. Take the narrow path to the left.\n",
      "3. Go right towards the sound of water.\n",
      "Enter the number of your choice: 3\n",
      "You find a beautiful waterfall and decide to rest by it.\n",
      "\n",
      "Thanks for playing the Adventure Game!\n"
     ]
    }
   ],
   "source": [
    "# 24. Create a program that implements a simple text-based adventure game with branching scenarios.\n",
    "\n",
    "import time\n",
    "\n",
    "def introduction():\n",
    "    print(\"Welcome to the Adventure Game!\")\n",
    "    time.sleep(1)\n",
    "    print(\"You find yourself standing at a crossroads.\")\n",
    "    time.sleep(1)\n",
    "    print(\"Each path leads to a different adventure.\")\n",
    "    time.sleep(1)\n",
    "    print(\"Choose wisely!\\n\")\n",
    "\n",
    "def make_choice(choices):\n",
    "    for index, option in enumerate(choices, start=1):\n",
    "        print(f\"{index}. {option}\")\n",
    "\n",
    "    while True:\n",
    "        try:\n",
    "            choice = int(input(\"Enter the number of your choice: \"))\n",
    "            if 1 <= choice <= len(choices):\n",
    "                return choice\n",
    "            else:\n",
    "                print(\"Invalid choice. Please enter a valid number.\")\n",
    "        except ValueError:\n",
    "            print(\"Invalid input. Please enter a number.\")\n",
    "\n",
    "def forest_adventure():\n",
    "    print(\"You chose the path through the dark forest.\")\n",
    "    time.sleep(1)\n",
    "    print(\"As you walk deeper, you hear strange sounds around you.\")\n",
    "    time.sleep(1)\n",
    "    print(\"You come across a fork in the path.\")\n",
    "    time.sleep(1)\n",
    "\n",
    "    choices = [\"Follow the mysterious light.\", \"Take the narrow path to the left.\", \"Go right towards the sound of water.\"]\n",
    "    choice = make_choice(choices)\n",
    "\n",
    "    if choice == 1:\n",
    "        print(\"You follow the mysterious light and find a hidden treasure!\")\n",
    "    elif choice == 2:\n",
    "        print(\"The narrow path leads you to a friendly village.\")\n",
    "    elif choice == 3:\n",
    "        print(\"You find a beautiful waterfall and decide to rest by it.\")\n",
    "\n",
    "def cave_adventure():\n",
    "    print(\"You chose the path leading to a dark cave.\")\n",
    "    time.sleep(1)\n",
    "    print(\"As you enter, you notice two tunnels.\")\n",
    "    time.sleep(1)\n",
    "\n",
    "    choices = [\"Enter the left tunnel.\", \"Enter the right tunnel.\"]\n",
    "    choice = make_choice(choices)\n",
    "\n",
    "    if choice == 1:\n",
    "        print(\"You encounter a dragon and narrowly escape!\")\n",
    "    elif choice == 2:\n",
    "        print(\"The tunnel leads to a hidden treasure chest!\")\n",
    "\n",
    "def main():\n",
    "    introduction()\n",
    "\n",
    "    choices = [\"Enter the dark forest.\", \"Enter the mysterious cave.\"]\n",
    "    choice = make_choice(choices)\n",
    "\n",
    "    if choice == 1:\n",
    "        forest_adventure()\n",
    "    elif choice == 2:\n",
    "        cave_adventure()\n",
    "\n",
    "    print(\"\\nThanks for playing the Adventure Game!\")\n",
    "\n",
    "if __name__ == \"__main__\":\n",
    "    main()\n"
   ]
  },
  {
   "cell_type": "code",
   "execution_count": 17,
   "id": "98dff75f",
   "metadata": {},
   "outputs": [
    {
     "name": "stdout",
     "output_type": "stream",
     "text": [
      "Please enter the value of y (y=mx+c): 8\n",
      "Please enter the value of m (y=mx+c): 9\n",
      "Please enter the value of c (y=mx+c): 3\n"
     ]
    },
    {
     "data": {
      "text/plain": [
       "0.5555555555555556"
      ]
     },
     "execution_count": 17,
     "metadata": {},
     "output_type": "execute_result"
    }
   ],
   "source": [
    "# 25. Build a program that solves a linear equation for x, considering different cases.\n",
    "def linear_eq():\n",
    "    y=float(input(\"Please enter the value of y (y=mx+c): \"))\n",
    "    m=float(input(\"Please enter the value of m (y=mx+c): \"))\n",
    "    c=float(input(\"Please enter the value of c (y=mx+c): \"))\n",
    "    \n",
    "    x=(y-c)/m\n",
    "    return x\n",
    "linear_eq()"
   ]
  },
  {
   "cell_type": "code",
   "execution_count": 30,
   "id": "95288b5e",
   "metadata": {},
   "outputs": [
    {
     "name": "stdout",
     "output_type": "stream",
     "text": [
      "Welcome to quiz. Please enter your choices from four available options\n",
      "\n",
      "please enter numbers from 1 to 4\n",
      "who is the current PM of India? choices : 1) Modi 2) Godi 3) Saha 4) Rahul: 1\n",
      "what is the capital of India? choices : 1) Delhi 2) Mumbai 3) Bangalore 4) Hydrabad: 2\n",
      "who is the captain of Indian Cricket Team? choices : 1) Rohit 2) Kholi 3) gill 4) Sami: 3\n",
      "what is the national animal of India? choices : 1) Tiger 2) Deer 3) Cow 4) Buffalo: 4\n",
      "what is the national bird of India? choices : 1) Peacock 2) peigon 3) hen 4) sparrow: 1\n",
      "\n",
      " you scored 2  points is your score out of 5 in the quiz\n"
     ]
    }
   ],
   "source": [
    "# 26. Write a program that simulates a basic quiz game with multiple-choice questions and scoring.\n",
    "\n",
    "def mcq():\n",
    "    print(\"Welcome to quiz. Please enter your choices from four available options\")\n",
    "    print(\"\\nplease enter numbers from 1 to 4\")\n",
    "    \n",
    "    q1=int(input(\"who is the current PM of India? choices : 1) Modi 2) Godi 3) Saha 4) Rahul: \"))\n",
    "    q2=int(input(\"what is the capital of India? choices : 1) Delhi 2) Mumbai 3) Bangalore 4) Hydrabad: \"))\n",
    "    q3=int(input(\"who is the captain of Indian Cricket Team? choices : 1) Rohit 2) Kholi 3) gill 4) Sami: \"))\n",
    "    q4=int(input(\"what is the national animal of India? choices : 1) Tiger 2) Deer 3) Cow 4) Buffalo: \"))\n",
    "    q5=int(input(\"what is the national bird of India? choices : 1) Peacock 2) peigon 3) hen 4) sparrow: \"))\n",
    "    \n",
    "    x=0\n",
    "    if q1==1:\n",
    "        x=x+1\n",
    "    if q2==1:\n",
    "        x=x+1\n",
    "    if q3==1:\n",
    "        x=x+1\n",
    "    if q4==1:\n",
    "        x=x+1\n",
    "    if q5==1:\n",
    "        x=x+1\n",
    "    \n",
    "    print(\"\\n you scored\", x,\" points is your score out of 5 in the quiz\")\n",
    "mcq()\n",
    "        \n",
    "        "
   ]
  },
  {
   "cell_type": "code",
   "execution_count": 34,
   "id": "c035d59a",
   "metadata": {},
   "outputs": [
    {
     "name": "stdout",
     "output_type": "stream",
     "text": [
      "Enter the year: 2017\n",
      "2017 : The year entered by you is prime\n"
     ]
    }
   ],
   "source": [
    "# 27. Develop a program that determines whether a given year is a prime number or not.\n",
    "\n",
    "n=int(input(\"Enter the year: \"))\n",
    "\n",
    "if n<=1:\n",
    "    print(\"Please input year\")\n",
    "elif n==2:\n",
    "    print(n,\": The year entered by you is prime\")\n",
    "\n",
    "else:\n",
    "    temp=0\n",
    "    for i in range(2,n-1):        \n",
    "        if n%i==0:\n",
    "            temp=+1\n",
    "    if temp>0:\n",
    "        print(n,\": The year entered by you is not prime\")\n",
    "    else:\n",
    "        print(n,\": The year entered by you is prime\")     \n"
   ]
  },
  {
   "cell_type": "code",
   "execution_count": 52,
   "id": "4ea14a9c",
   "metadata": {},
   "outputs": [
    {
     "name": "stdout",
     "output_type": "stream",
     "text": [
      "Enter the first number: 6\n",
      "Enter the second number: 9\n",
      "Enter the third number: 1\n",
      "1.0\n",
      "6.0\n",
      "9.0\n"
     ]
    }
   ],
   "source": [
    "# 28. Create a program that sorts three numbers in ascending order using conditional statements.\n",
    "\n",
    "def sort_asc_3():\n",
    "    n1=float(input(\"Enter the first number: \"))\n",
    "    n2=float(input(\"Enter the second number: \"))\n",
    "    n3=float(input(\"Enter the third number: \"))\n",
    "    \n",
    "    l=[]\n",
    "    if n1<n2 and n1<n3:\n",
    "        l.append(n1)\n",
    "        if n2<=n3:\n",
    "            l.append(n2)\n",
    "            l.append(n3)\n",
    "        else:\n",
    "            l.append(n3)\n",
    "            l.append(n2)\n",
    "            \n",
    "    elif n2<n1 and n2<n3:\n",
    "        l.append(n2)\n",
    "        if n1<=n3:\n",
    "            l.append(n1)\n",
    "            l.append(n3)\n",
    "        else:\n",
    "            l.append(n3)\n",
    "            l.append(n1)                \n",
    "    \n",
    "    elif n3<n1 and n3<n2:\n",
    "        l.append(n3)\n",
    "        if n1<=n2:\n",
    "            l.append(n1)\n",
    "            l.append(n2)\n",
    "        else:\n",
    "            l.append(n2)\n",
    "            l.append(n1)                \n",
    "    elif n1==n2 and n1==n3:\n",
    "        l.append(n1)\n",
    "        l.append(n2)\n",
    "        l.append(n3)     \n",
    "    elif n1==n2 and n1>n3:\n",
    "        l.append(n3)\n",
    "        l.append(n2)\n",
    "        l.append(n1)      \n",
    "    elif n1==n2 and n1<n3:\n",
    "        l.append(n1)\n",
    "        l.append(n2)\n",
    "        l.append(n3)      \n",
    "\n",
    "        \n",
    "    elif n2==n3 and n1<n3:\n",
    "        l.append(n1)\n",
    "        l.append(n2)\n",
    "        l.append(n3)\n",
    "    elif n2==n3 and n1>n3:\n",
    "        l.append(n3)\n",
    "        l.append(n2)\n",
    "        l.append(n1)\n",
    "\n",
    "        \n",
    "    elif n1==n3 and n1>n2:\n",
    "        l.append(n2)\n",
    "        l.append(n3)\n",
    "        l.append(n1)\n",
    "    elif n1==n3 and n1<n2:\n",
    "        l.append(n1)\n",
    "        l.append(n2)\n",
    "        l.append(n3)\n",
    "\n",
    "        \n",
    "    for i in l:\n",
    "        print(i)\n",
    "sort_asc_3()\n"
   ]
  },
  {
   "cell_type": "code",
   "execution_count": 53,
   "id": "224a824b",
   "metadata": {},
   "outputs": [
    {
     "name": "stdout",
     "output_type": "stream",
     "text": [
      "real and different roots\n",
      "2.0\n",
      "-12.0\n"
     ]
    }
   ],
   "source": [
    "# 29. Build a program that determines the roots of a quartic equation using numerical methods.\n",
    "\n",
    "import math \n",
    "\n",
    "def root_quadatic(a,b,c):\n",
    "\n",
    "    # calculating discriminant using formula\n",
    "    dis = b * b - 4 * a * c \n",
    "    sqrt_val = math.sqrt(abs(dis)) \n",
    "     \n",
    "    # checking condition for discriminant\n",
    "    if dis > 0: \n",
    "        print(\"real and different roots\") \n",
    "        print((-b + sqrt_val)/(2 * a)) \n",
    "        print((-b - sqrt_val)/(2 * a)) \n",
    "     \n",
    "    elif dis == 0: \n",
    "        print(\"real and same roots\") \n",
    "        print(-b / (2 * a)) \n",
    "     \n",
    "    # when discriminant is less than 0\n",
    "    else:\n",
    "        print(\"Complex Roots\") \n",
    "        print(- b / (2 * a), + i, sqrt_val) \n",
    "        print(- b / (2 * a), - i, sqrt_val) \n",
    "\n",
    "# Driver Program \n",
    "a = 1\n",
    "b = 10\n",
    "c = -24\n",
    " \n",
    "if a == 0: \n",
    "    print(\"Input correct quadratic equation\") \n",
    "else:\n",
    "    root_quadatic(a, b, c)\n",
    "\n",
    "\n"
   ]
  },
  {
   "cell_type": "code",
   "execution_count": 62,
   "id": "6d12daaa",
   "metadata": {},
   "outputs": [
    {
     "name": "stdout",
     "output_type": "stream",
     "text": [
      "Please enter your weight in Kgs: 85\n",
      "Please enter your height in meters: 1.77\n",
      "\n",
      " your bmi index is  27.13141179099237 And you are Overweight\n",
      "Go to gym and stop Junk food\n"
     ]
    }
   ],
   "source": [
    "# 30. Write a program that calculates the BMI (Body Mass Index) and provides health recommendations based on the user's input.\n",
    "\n",
    "weight=float(input(\"Please enter your weight in Kgs: \"))\n",
    "height=float(input(\"Please enter your height in meters: \"))\n",
    "\n",
    "bmi= weight/(height**2)\n",
    "\n",
    "if bmi<18.5:\n",
    "    print(\"\\n your bmi index is \",bmi,\"And you are Underweight\")\n",
    "    print(\"Eat as much as u can\")\n",
    "elif bmi>=18.5 and bmi<25:\n",
    "    print(\"\\n your bmi index is \",bmi,\"And you are Normal\")\n",
    "    print(\"Continue what are you doing\")\n",
    "elif bmi>=25 and bmi<30:\n",
    "    print(\"\\n your bmi index is \",bmi,\"And you are Overweight\")\n",
    "    print(\"Go to gym and stop Junk food\")\n",
    "else:\n",
    "    print(\"\\n your bmi index is \",bmi,\"And you are Obesse\")\n",
    "    print(\"Consult doctor\")\n"
   ]
  },
  {
   "cell_type": "markdown",
   "id": "b56ec15b",
   "metadata": {},
   "source": [
    "Challenge Level:\n",
    "\n",
    "31. Create a program that validates a password based on complexity rules (length, characters, etc.).\n",
    "\n",
    "32. Develop a program that performs matrix addition and subtraction based on user input.\n",
    "\n",
    "33. Write a program that calculates the greatest common divisor (GCD) of two numbers using the Euclidean algorithm.\n",
    "\n",
    "34. Build a program that performs matrix multiplication using nested loops and conditional statements.\n",
    "\n",
    "35. Create a program that simulates a basic text-based tic-tac-toe game against the computer.\n",
    "\n",
    "36. Write a program that generates Fibonacci numbers up to a specified term using iterative methods.\n",
    "\n",
    "37. Develop a program that calculates the nth term of the Fibonacci sequence using memoization.\n",
    "\n",
    "38. Create a program that generates a calendar for a given month and year using conditional statements.\n",
    "\n",
    "39. Build a program that simulates a basic text-based blackjack game against the computer.\n",
    "\n",
    "40. Write a program that generates the prime factors of a given number using trial division.\n",
    "\n"
   ]
  },
  {
   "cell_type": "code",
   "execution_count": 25,
   "id": "4f688573",
   "metadata": {},
   "outputs": [
    {
     "name": "stdout",
     "output_type": "stream",
     "text": [
      "Enter a password with minium 10 Charecter with atleast one upper, one lower, one number ane one special character\n",
      "Enter the password: Str____55666769wdjikov s\n"
     ]
    },
    {
     "data": {
      "text/plain": [
       "'Congrats! Your password is perfect'"
      ]
     },
     "execution_count": 25,
     "metadata": {},
     "output_type": "execute_result"
    }
   ],
   "source": [
    "# 31. Create a program that validates a password based on complexity rules (length, characters, etc.).\n",
    "\n",
    "def enter_pass():\n",
    "    print(\"Enter a password with minium 10 Charecter with atleast one upper, one lower, one number ane one special character\")\n",
    "    p=str(input(\"Enter the password: \"))\n",
    "    \n",
    "    #check the length\n",
    "    if len(p)<10:\n",
    "        print(\"Please re-enter a password with alteast 10 characters\")\n",
    "        return \"Invalid Password\"\n",
    "    num=['0','1','2','3','4','5','6','7','8','9']\n",
    "    lower='abcdefghijklmnopqrstuvwxyz'\n",
    "    upper='ABCDEFGHIJKLMNOPQRSTUVWXYZ'\n",
    "    special='~}| {`_^]\\[@?>=<;:/.‐,+*)(&%$#\"!'\n",
    "    \n",
    "    n=[]\n",
    "    for i in list(p):\n",
    "        if i not in num:\n",
    "            n.append(i)\n",
    "    if len(n)==len(p):\n",
    "        print(\"Please re-enter a password with alteast 1 number\")\n",
    "        return \"Invalid Password\"\n",
    "        \n",
    "    l=[]\n",
    "    for i in list(p):\n",
    "        if i not in lower:\n",
    "            l.append(i)\n",
    "    if len(l)==len(p):\n",
    "        print(\"Please re-enter a password with alteast 1 lower case\")\n",
    "        return l\n",
    "        #return \"Invalid Password\"\n",
    "\n",
    "    u=[]\n",
    "    for i in list(p):\n",
    "        if i not in upper:\n",
    "            u.append(i)\n",
    "    if len(u)==len(p):\n",
    "        print(\"Please re-enter a password with alteast 1 upper case\")\n",
    "        return \"Invalid Password\"\n",
    "    \n",
    "    s=[]\n",
    "    for i in list(p):\n",
    "        if i not in special:\n",
    "            s.append(i)\n",
    "    if len(s)==len(p):\n",
    "        print(\"Please re-enter a password with alteast 1 special character\")\n",
    "        return \"Invalid Password\"\n",
    "    \n",
    "    return \"Congrats! Your password is perfect\"\n",
    "\n",
    "\n",
    "\n",
    "enter_pass()"
   ]
  },
  {
   "cell_type": "code",
   "execution_count": 26,
   "id": "e1b31afa",
   "metadata": {},
   "outputs": [
    {
     "name": "stdout",
     "output_type": "stream",
     "text": [
      "Enter the number of rows: 3\n",
      "Enter the number of columns: 3\n",
      "\n",
      "Enter elements for the first matrix:\n",
      "Enter element at position (1,1): 1\n",
      "Enter element at position (1,2): 2\n",
      "Enter element at position (1,3): 3\n",
      "Enter element at position (2,1): 4\n",
      "Enter element at position (2,2): 5\n",
      "Enter element at position (2,3): 6\n",
      "Enter element at position (3,1): 7\n",
      "Enter element at position (3,2): 8\n",
      "Enter element at position (3,3): 9\n",
      "\n",
      "Enter elements for the second matrix:\n",
      "Enter element at position (1,1): 9\n",
      "Enter element at position (1,2): 8\n",
      "Enter element at position (1,3): 7\n",
      "Enter element at position (2,1): 6\n",
      "Enter element at position (2,2): 5\n",
      "Enter element at position (2,3): 4\n",
      "Enter element at position (3,1): 3\n",
      "Enter element at position (3,2): 2\n",
      "Enter element at position (3,3): 1\n",
      "\n",
      "Matrix 1:\n",
      "[1.0, 2.0, 3.0]\n",
      "[4.0, 5.0, 6.0]\n",
      "[7.0, 8.0, 9.0]\n",
      "\n",
      "Matrix 2:\n",
      "[9.0, 8.0, 7.0]\n",
      "[6.0, 5.0, 4.0]\n",
      "[3.0, 2.0, 1.0]\n",
      "\n",
      "Sum of matrices:\n",
      "[10.0, 10.0, 10.0]\n",
      "[10.0, 10.0, 10.0]\n",
      "[10.0, 10.0, 10.0]\n",
      "\n",
      "Difference of matrices:\n",
      "[-8.0, -6.0, -4.0]\n",
      "[-2.0, 0.0, 2.0]\n",
      "[4.0, 6.0, 8.0]\n"
     ]
    }
   ],
   "source": [
    "# 32. Develop a program that performs matrix addition and subtraction based on user input.\n",
    "\n",
    "def input_matrix(rows, cols):\n",
    "    matrix = []\n",
    "    for i in range(rows):\n",
    "        row = []\n",
    "        for j in range(cols):\n",
    "            element = float(input(f\"Enter element at position ({i + 1},{j + 1}): \"))\n",
    "            row.append(element)\n",
    "        matrix.append(row)\n",
    "    return matrix\n",
    "\n",
    "def add_matrices(matrix1, matrix2):\n",
    "    result = [[matrix1[i][j] + matrix2[i][j] for j in range(len(matrix1[0]))] for i in range(len(matrix1))]\n",
    "    return result\n",
    "\n",
    "def subtract_matrices(matrix1, matrix2):\n",
    "    result = [[matrix1[i][j] - matrix2[i][j] for j in range(len(matrix1[0]))] for i in range(len(matrix1))]\n",
    "    return result\n",
    "\n",
    "def display_matrix(matrix):\n",
    "    for row in matrix:\n",
    "        print(row)\n",
    "\n",
    "def main():\n",
    "    try:\n",
    "        rows = int(input(\"Enter the number of rows: \"))\n",
    "        cols = int(input(\"Enter the number of columns: \"))\n",
    "\n",
    "        print(\"\\nEnter elements for the first matrix:\")\n",
    "        matrix1 = input_matrix(rows, cols)\n",
    "\n",
    "        print(\"\\nEnter elements for the second matrix:\")\n",
    "        matrix2 = input_matrix(rows, cols)\n",
    "\n",
    "        print(\"\\nMatrix 1:\")\n",
    "        display_matrix(matrix1)\n",
    "\n",
    "        print(\"\\nMatrix 2:\")\n",
    "        display_matrix(matrix2)\n",
    "\n",
    "        sum_matrix = add_matrices(matrix1, matrix2)\n",
    "        print(\"\\nSum of matrices:\")\n",
    "        display_matrix(sum_matrix)\n",
    "\n",
    "        diff_matrix = subtract_matrices(matrix1, matrix2)\n",
    "        print(\"\\nDifference of matrices:\")\n",
    "        display_matrix(diff_matrix)\n",
    "\n",
    "    except ValueError as e:\n",
    "        print(f\"Error: {e}. Please enter valid numeric values.\")\n",
    "\n",
    "if __name__ == \"__main__\":\n",
    "    main()\n"
   ]
  },
  {
   "cell_type": "code",
   "execution_count": 41,
   "id": "40f2cc8b",
   "metadata": {},
   "outputs": [
    {
     "data": {
      "text/plain": [
       "10"
      ]
     },
     "execution_count": 41,
     "metadata": {},
     "output_type": "execute_result"
    }
   ],
   "source": [
    "# 33. Write a program that calculates the greatest common divisor (GCD) of two numbers using the Euclidean algorithm.\n",
    "\n",
    "def gcd(a, b):\n",
    "    if a == 0:\n",
    "        return b\n",
    "\n",
    "    return gcd(b % a, a)\n",
    "\n",
    "gcd(90,70)"
   ]
  },
  {
   "cell_type": "code",
   "execution_count": 44,
   "id": "d64323b8",
   "metadata": {},
   "outputs": [
    {
     "name": "stdout",
     "output_type": "stream",
     "text": [
      "Enter the number of rows for matrix 1: 3\n",
      "Enter the number of columns for matrix 1: 2\n",
      "\n",
      "Enter elements for matrix 1:\n",
      "Enter element at position (1,1): 1\n",
      "Enter element at position (1,2): 2\n",
      "Enter element at position (2,1): 3\n",
      "Enter element at position (2,2): -4\n",
      "Enter element at position (3,1): -5\n",
      "Enter element at position (3,2): -6\n",
      "\n",
      "Enter the number of rows for matrix 2: 2\n",
      "Enter the number of columns for matrix 2: 3\n",
      "\n",
      "Enter elements for matrix 2:\n",
      "Enter element at position (1,1): 0\n",
      "Enter element at position (1,2): 1\n",
      "Enter element at position (1,3): -3\n",
      "Enter element at position (2,1): -7\n",
      "Enter element at position (2,2): 6\n",
      "Enter element at position (2,3): 341\n",
      "\n",
      "Matrix 1:\n",
      "[1.0, 2.0]\n",
      "[3.0, -4.0]\n",
      "[-5.0, -6.0]\n",
      "\n",
      "Matrix 2:\n",
      "[0.0, 1.0, -3.0]\n",
      "[-7.0, 6.0, 341.0]\n",
      "\n",
      "Product of matrices:\n",
      "[-14.0, 13.0, 679.0]\n",
      "[28.0, -21.0, -1373.0]\n",
      "[42.0, -41.0, -2031.0]\n"
     ]
    }
   ],
   "source": [
    "# 34. Build a program that performs matrix multiplication using nested loops and conditional statements.\n",
    "\n",
    "def input_matrix(rows, cols):\n",
    "    matrix = []\n",
    "    for i in range(rows):\n",
    "        row = []\n",
    "        for j in range(cols):\n",
    "            element = float(input(f\"Enter element at position ({i + 1},{j + 1}): \"))\n",
    "            row.append(element)\n",
    "        matrix.append(row)\n",
    "    return matrix\n",
    "\n",
    "def multiply_matrices(matrix1, matrix2):\n",
    "    result = []\n",
    "    rows1, cols1 = len(matrix1), len(matrix1[0])\n",
    "    rows2, cols2 = len(matrix2), len(matrix2[0])\n",
    "\n",
    "    if cols1 != rows2:\n",
    "        raise ValueError(\"Number of columns in the first matrix must be equal to the number of rows in the second matrix for multiplication.\")\n",
    "\n",
    "    for i in range(rows1):\n",
    "        row_result = []\n",
    "        for j in range(cols2):\n",
    "            sum_val = 0\n",
    "            for k in range(cols1):\n",
    "                sum_val += matrix1[i][k] * matrix2[k][j]\n",
    "            row_result.append(sum_val)\n",
    "        result.append(row_result)\n",
    "\n",
    "    return result\n",
    "\n",
    "def display_matrix(matrix):\n",
    "    for row in matrix:\n",
    "        print(row)\n",
    "\n",
    "def main():\n",
    "    try:\n",
    "        rows1 = int(input(\"Enter the number of rows for matrix 1: \"))\n",
    "        cols1 = int(input(\"Enter the number of columns for matrix 1: \"))\n",
    "\n",
    "        print(\"\\nEnter elements for matrix 1:\")\n",
    "        matrix1 = input_matrix(rows1, cols1)\n",
    "\n",
    "        rows2 = int(input(\"\\nEnter the number of rows for matrix 2: \"))\n",
    "        cols2 = int(input(\"Enter the number of columns for matrix 2: \"))\n",
    "\n",
    "        print(\"\\nEnter elements for matrix 2:\")\n",
    "        matrix2 = input_matrix(rows2, cols2)\n",
    "\n",
    "        print(\"\\nMatrix 1:\")\n",
    "        display_matrix(matrix1)\n",
    "\n",
    "        print(\"\\nMatrix 2:\")\n",
    "        display_matrix(matrix2)\n",
    "\n",
    "        product_matrix = multiply_matrices(matrix1, matrix2)\n",
    "        print(\"\\nProduct of matrices:\")\n",
    "        display_matrix(product_matrix)\n",
    "\n",
    "    except ValueError as e:\n",
    "        print(f\"Error: {e}. Please enter valid numeric values.\")\n",
    "\n",
    "if __name__ == \"__main__\":\n",
    "    main()\n",
    "\n"
   ]
  },
  {
   "cell_type": "code",
   "execution_count": 46,
   "id": "6c53e779",
   "metadata": {},
   "outputs": [],
   "source": [
    "# 35. Create a program that simulates a basic text-based tic-tac-toe game against the computer.\n",
    "\n",
    "# Dont know"
   ]
  },
  {
   "cell_type": "code",
   "execution_count": 51,
   "id": "f934360a",
   "metadata": {},
   "outputs": [
    {
     "data": {
      "text/plain": [
       "[0, 1, 1, 2, 3, 5, 8, 13, 21, 34, 55, 89, 144, 233, 377]"
      ]
     },
     "execution_count": 51,
     "metadata": {},
     "output_type": "execute_result"
    }
   ],
   "source": [
    "# 36. Write a program that generates Fibonacci numbers up to a specified term using iterative methods.\n",
    "\n",
    "def fab_series(n):\n",
    "    if n <=0:\n",
    "        return \" Please enter the positive number\"   \n",
    "    start=[0,1]\n",
    "    \n",
    "    for i in range(0,n-2):\n",
    "        c=start[i]+start[i+1]\n",
    "        start.append(c)\n",
    "    return start\n",
    "\n",
    "fab_series(15)       "
   ]
  },
  {
   "cell_type": "code",
   "execution_count": 54,
   "id": "bd93e44f",
   "metadata": {},
   "outputs": [
    {
     "data": {
      "text/plain": [
       "8"
      ]
     },
     "execution_count": 54,
     "metadata": {},
     "output_type": "execute_result"
    }
   ],
   "source": [
    "# 37. Develop a program that calculates the nth term of the Fibonacci sequence using memoization.\n",
    "\n",
    "def fibonacci_memo(n, memo={}):\n",
    "    if n <= 1:\n",
    "        return n\n",
    "\n",
    "    if n not in memo:\n",
    "        memo[n] = fibonacci_memo(n - 1, memo) + fibonacci_memo(n - 2, memo)\n",
    "\n",
    "    return memo[n]\n",
    "\n",
    "fibonacci_memo(6)"
   ]
  },
  {
   "cell_type": "code",
   "execution_count": 55,
   "id": "ee273a26",
   "metadata": {},
   "outputs": [
    {
     "name": "stdout",
     "output_type": "stream",
     "text": [
      "Enter the year (e.g., 2023): 2021\n",
      "Enter the month (1-12): 3\n",
      "\n",
      "Calendar:\n",
      "Mo Tu We Th Fr Sa Su\n",
      " 1   2   3   4   5   6   7  \n",
      " 8   9  10  11  12  13  14  \n",
      "15  16  17  18  19  20  21  \n",
      "22  23  24  25  26  27  28  \n",
      "29  30  31                  \n"
     ]
    }
   ],
   "source": [
    "# 38. Create a program that generates a calendar for a given month and year using conditional statements.\n",
    "\n",
    "import calendar\n",
    "\n",
    "def generate_calendar(year, month):\n",
    "    cal = calendar.monthcalendar(year, month)\n",
    "    return cal\n",
    "\n",
    "def main():\n",
    "    try:\n",
    "        year = int(input(\"Enter the year (e.g., 2023): \"))\n",
    "        month = int(input(\"Enter the month (1-12): \"))\n",
    "\n",
    "        if 1 <= month <= 12:\n",
    "            cal = generate_calendar(year, month)\n",
    "            print(\"\\nCalendar:\")\n",
    "            print(\"Mo Tu We Th Fr Sa Su\")\n",
    "            for week in cal:\n",
    "                for day in week:\n",
    "                    if day == 0:\n",
    "                        print(\"   \", end=\" \")\n",
    "                    else:\n",
    "                        print(f\"{day:2} \", end=\" \")\n",
    "                print()\n",
    "        else:\n",
    "            print(\"Invalid month. Please enter a number between 1 and 12.\")\n",
    "\n",
    "    except ValueError:\n",
    "        print(\"Invalid input. Please enter valid integers.\")\n",
    "\n",
    "if __name__ == \"__main__\":\n",
    "    main()\n",
    "\n"
   ]
  },
  {
   "cell_type": "code",
   "execution_count": 56,
   "id": "80b3472d",
   "metadata": {},
   "outputs": [],
   "source": [
    "# 39. Build a program that simulates a basic text-based blackjack game against the computer.\n",
    "#dont know\n"
   ]
  },
  {
   "cell_type": "code",
   "execution_count": 59,
   "id": "934fdeaa",
   "metadata": {},
   "outputs": [
    {
     "data": {
      "text/plain": [
       "[2, 2, 3, 5]"
      ]
     },
     "execution_count": 59,
     "metadata": {},
     "output_type": "execute_result"
    }
   ],
   "source": [
    "# 40. Write a program that generates the prime factors of a given number using trial division.\n",
    "\n",
    "def generate_prime_factors(number):\n",
    "    prime_factors = []\n",
    "    divisor = 2\n",
    "\n",
    "    while number > 1:\n",
    "        while number % divisor == 0:\n",
    "            prime_factors.append(divisor)\n",
    "            number //= divisor\n",
    "        divisor += 1\n",
    "\n",
    "    return prime_factors\n",
    "\n",
    "generate_prime_factors(60)"
   ]
  }
 ],
 "metadata": {
  "kernelspec": {
   "display_name": "Python 3 (ipykernel)",
   "language": "python",
   "name": "python3"
  },
  "language_info": {
   "codemirror_mode": {
    "name": "ipython",
    "version": 3
   },
   "file_extension": ".py",
   "mimetype": "text/x-python",
   "name": "python",
   "nbconvert_exporter": "python",
   "pygments_lexer": "ipython3",
   "version": "3.8.13"
  }
 },
 "nbformat": 4,
 "nbformat_minor": 5
}
