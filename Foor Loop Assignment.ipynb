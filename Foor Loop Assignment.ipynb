{
 "cells": [
  {
   "cell_type": "markdown",
   "id": "6ac9d6f7",
   "metadata": {},
   "source": [
    "Basic Level:\n",
    "\n",
    "1. Write a Python program to print the numbers from 1 to 10 using a `for` loop.\n",
    "\n",
    "2. Create a program that calculates the sum of all numbers in a list using a `for` loop.\n",
    "\n",
    "3. Write a program to print the characters of a string in reverse order using a `for` loop.\n",
    "\n",
    "4. Develop a program that finds the factorial of a given number using a `for` loop.\n",
    "\n",
    "5. Create a program to print the multiplication table of a given number using a `for` loop.\n",
    "\n",
    "6. Write a program that counts the number of even and odd numbers in a list using a `for` loop.\n",
    "\n",
    "7. Develop a program that prints the squares of numbers from 1 to 5 using a `for` loop.\n",
    "\n",
    "8. Create a program to find the length of a string without using the `len()` function.\n",
    "\n",
    "9. Write a program that calculates the average of a list of numbers using a `for` loop.\n",
    "\n",
    "10. Develop a program that prints the first `n` Fibonacci numbers using a `for` loop.\n"
   ]
  },
  {
   "cell_type": "code",
   "execution_count": 1,
   "id": "815d932c",
   "metadata": {},
   "outputs": [
    {
     "name": "stdout",
     "output_type": "stream",
     "text": [
      "1\n",
      "2\n",
      "3\n",
      "4\n",
      "5\n",
      "6\n",
      "7\n",
      "8\n",
      "9\n",
      "10\n"
     ]
    }
   ],
   "source": [
    "# 1. Write a Python program to print the numbers from 1 to 10 using a `for` loop.\n",
    "\n",
    "for i in range(1,11):\n",
    "    print(i)\n"
   ]
  },
  {
   "cell_type": "code",
   "execution_count": 2,
   "id": "3e58791c",
   "metadata": {},
   "outputs": [
    {
     "data": {
      "text/plain": [
       "64"
      ]
     },
     "execution_count": 2,
     "metadata": {},
     "output_type": "execute_result"
    }
   ],
   "source": [
    "# 2. Create a program that calculates the sum of all numbers in a list using a `for` loop.\n",
    "l=[1,3,6,9,12,15,18]\n",
    "s=0\n",
    "for i in l:\n",
    "    s=s+i\n",
    "s"
   ]
  },
  {
   "cell_type": "code",
   "execution_count": 3,
   "id": "55bf0f4e",
   "metadata": {},
   "outputs": [
    {
     "data": {
      "text/plain": [
       "'sinnet elbat & llabtoof'"
      ]
     },
     "execution_count": 3,
     "metadata": {},
     "output_type": "execute_result"
    }
   ],
   "source": [
    "# 3. Write a program to print the characters of a string in reverse order using a `for` loop.\n",
    "s=\"football & table tennis\"\n",
    "reverse=\"\"\n",
    "for i in s[::-1]:\n",
    "    reverse=reverse + i\n",
    "reverse   \n"
   ]
  },
  {
   "cell_type": "code",
   "execution_count": 4,
   "id": "30eef9db",
   "metadata": {},
   "outputs": [
    {
     "data": {
      "text/plain": [
       "120"
      ]
     },
     "execution_count": 4,
     "metadata": {},
     "output_type": "execute_result"
    }
   ],
   "source": [
    "# 4. Develop a program that finds the factorial of a given number using a `for` loop.\n",
    "n=5\n",
    "k=1\n",
    "for i in range(1,n+1):\n",
    "    s=k*i\n",
    "    k=s\n",
    "k"
   ]
  },
  {
   "cell_type": "code",
   "execution_count": 5,
   "id": "7b4f5462",
   "metadata": {},
   "outputs": [
    {
     "name": "stdout",
     "output_type": "stream",
     "text": [
      "7 * 1 = 7\n",
      "7 * 2 = 14\n",
      "7 * 3 = 21\n",
      "7 * 4 = 28\n",
      "7 * 5 = 35\n",
      "7 * 6 = 42\n",
      "7 * 7 = 49\n",
      "7 * 8 = 56\n",
      "7 * 9 = 63\n",
      "7 * 10 = 70\n"
     ]
    }
   ],
   "source": [
    "# 5. Create a program to print the multiplication table of a given number using a `for` loop.\n",
    "mul_num=7\n",
    "\n",
    "for i in range(1,11):\n",
    "    print(mul_num,'*', i,'=' ,mul_num*i)\n"
   ]
  },
  {
   "cell_type": "code",
   "execution_count": 6,
   "id": "f130cf36",
   "metadata": {},
   "outputs": [
    {
     "name": "stdout",
     "output_type": "stream",
     "text": [
      "even_count:  10 odd_count:  9\n"
     ]
    }
   ],
   "source": [
    "# 6. Write a program that counts the number of even and odd numbers in a list using a `for` loop.\n",
    "l=[1,2,3,4,5,6,7,8,9,10,11,12,13,14,15,16,17,18,19]\n",
    "odd_count=0\n",
    "even_count=0\n",
    "\n",
    "for i in l:\n",
    "    if i%2==0:\n",
    "        odd_count=odd_count+1\n",
    "    else:\n",
    "        even_count=even_count+1\n",
    "print(\"even_count: \",even_count,'odd_count: ',odd_count)        \n"
   ]
  },
  {
   "cell_type": "code",
   "execution_count": 7,
   "id": "0471bfac",
   "metadata": {},
   "outputs": [
    {
     "name": "stdout",
     "output_type": "stream",
     "text": [
      "1\n",
      "4\n",
      "9\n",
      "16\n",
      "25\n"
     ]
    }
   ],
   "source": [
    "# 7. Develop a program that prints the squares of numbers from 1 to 5 using a `for` loop.\n",
    "\n",
    "for i in range(1,6):\n",
    "    print(i*i)"
   ]
  },
  {
   "cell_type": "code",
   "execution_count": 8,
   "id": "bfd058f6",
   "metadata": {},
   "outputs": [
    {
     "data": {
      "text/plain": [
       "82"
      ]
     },
     "execution_count": 8,
     "metadata": {},
     "output_type": "execute_result"
    }
   ],
   "source": [
    "# 8. Create a program to find the length of a string without using the `len()` function.\n",
    "st=\"Create a program to find the length of a string without using the `len()` function\"\n",
    "length=0\n",
    "for i in st:\n",
    "    length=length+1\n",
    "length"
   ]
  },
  {
   "cell_type": "code",
   "execution_count": 9,
   "id": "dd4c9c71",
   "metadata": {},
   "outputs": [
    {
     "data": {
      "text/plain": [
       "10.0"
      ]
     },
     "execution_count": 9,
     "metadata": {},
     "output_type": "execute_result"
    }
   ],
   "source": [
    "# 9. Write a program that calculates the average of a list of numbers using a `for` loop.\n",
    "l=[1,2,3,4,5,6,7,8,9,10,11,12,13,14,15,16,17,18,19]\n",
    "summ=0\n",
    "count=0\n",
    "\n",
    "for i in l:\n",
    "    summ=summ+i\n",
    "    count=count+1\n",
    "summ/count\n"
   ]
  },
  {
   "cell_type": "code",
   "execution_count": 10,
   "id": "7833aa61",
   "metadata": {},
   "outputs": [
    {
     "name": "stdout",
     "output_type": "stream",
     "text": [
      "0\n",
      "1\n",
      "1\n",
      "2\n",
      "3\n",
      "5\n",
      "8\n",
      "13\n",
      "21\n",
      "34\n"
     ]
    }
   ],
   "source": [
    "# 10. Develop a program that prints the first `n` Fibonacci numbers using a `for` loop.\n",
    "a=0\n",
    "b=1\n",
    "n=10\n",
    "\n",
    "for i in range(n):\n",
    "    print(a)\n",
    "    a,b=b,a+b\n"
   ]
  },
  {
   "cell_type": "markdown",
   "id": "6618d7b4",
   "metadata": {},
   "source": [
    "Intermediate Level:\n",
    "\n",
    "11. Write a program to check if a given list contains any duplicates using a `for` loop.\n",
    "\n",
    "12. Create a program that prints the prime numbers in a given range using a `for` loop.\n",
    "\n",
    "13. Develop a program that counts the number of vowels in a string using a `for` loop.\n",
    "\n",
    "14. Write a program to find the maximum element in a 2D list using a nested `for` loop.\n",
    "\n",
    "15. Create a program that removes all occurrences of a specific element from a list using a `for` loop.\n",
    "\n",
    "16. Develop a program that generates a multiplication table for numbers from 1 to 5 using a nested `for` loop.\n",
    "\n",
    "17. Write a program that converts a list of Fahrenheit temperatures to Celsius using a `for` loop.\n",
    "\n",
    "18. Create a program to print the common elements from two lists using a `for` loop.\n",
    "\n",
    "19. Develop a program that prints the pattern of right-angled triangles using a `for` loop. Use ‘*’ to draw the\n",
    "pattern\n",
    "\n",
    "20. Write a program to find the greatest common divisor (GCD) of two numbers using a `for` loo"
   ]
  },
  {
   "cell_type": "code",
   "execution_count": 11,
   "id": "a383fde1",
   "metadata": {},
   "outputs": [
    {
     "name": "stdout",
     "output_type": "stream",
     "text": [
      "list contains duplicates\n"
     ]
    }
   ],
   "source": [
    "# 11. Write a program to check if a given list contains any duplicates using a `for` loop.\n",
    "l=[1,2,3,4,5,6,1,2,3,4,5,12,13,14,15,16,17,18,19]\n",
    "temp=[]\n",
    "for i in l:\n",
    "    if i not in temp:\n",
    "        temp.append(i)\n",
    "if len(l)!= len(temp):\n",
    "    print(\"list contains duplicates\")\n",
    "else:\n",
    "    print(\"list doesnot contains any duplicates\")"
   ]
  },
  {
   "cell_type": "code",
   "execution_count": 12,
   "id": "c55962d2",
   "metadata": {},
   "outputs": [
    {
     "name": "stdout",
     "output_type": "stream",
     "text": [
      "Enter the lower value of the range: 1\n",
      "Enter the upper value of the range: 20\n",
      "1\n",
      "2\n",
      "3\n",
      "5\n",
      "7\n",
      "11\n",
      "13\n",
      "17\n",
      "19\n"
     ]
    }
   ],
   "source": [
    "# 12. Create a program that prints the prime numbers in a given range using a `for` loop.\n",
    "lr=int(input(\"Enter the lower value of the range: \"))\n",
    "ur=int(input(\"Enter the upper value of the range: \"))\n",
    "\n",
    "for i in range(lr,ur+1):\n",
    "    temp=[]\n",
    "    for j in range(2,i-1):\n",
    "        r=i%j\n",
    "        temp.append(r)\n",
    "    a=1\n",
    "    for k in temp:\n",
    "        a=a*k\n",
    "    if a!=0:\n",
    "        print(i)\n"
   ]
  },
  {
   "cell_type": "code",
   "execution_count": 13,
   "id": "59a18c6c",
   "metadata": {},
   "outputs": [
    {
     "data": {
      "text/plain": [
       "24"
      ]
     },
     "execution_count": 13,
     "metadata": {},
     "output_type": "execute_result"
    }
   ],
   "source": [
    "# 13. Develop a program that counts the number of vowels in a string using a `for` loop.\n",
    "vowels='aeiou'\n",
    "string='Develop a program that counts the number of vowels in a string using a `for` loop.'\n",
    "\n",
    "vowel_count=0\n",
    "for i in string.lower():\n",
    "    if i in vowels:\n",
    "        vowel_count=vowel_count+1\n",
    "vowel_count       \n"
   ]
  },
  {
   "cell_type": "code",
   "execution_count": 14,
   "id": "ea02fc01",
   "metadata": {},
   "outputs": [
    {
     "data": {
      "text/plain": [
       "504"
      ]
     },
     "execution_count": 14,
     "metadata": {},
     "output_type": "execute_result"
    }
   ],
   "source": [
    "# 14. Write a program to find the maximum element in a 2D list using a nested `for` loop.\n",
    "l = [[1, 2, 3], [4, 5, 6], [7, 8, 9]]\n",
    "m = 0\n",
    "for x in l:\n",
    "    p = 1\n",
    "    for i in x:\n",
    "        p = p * i\n",
    "        m = max(p, m)\n",
    "m\n"
   ]
  },
  {
   "cell_type": "code",
   "execution_count": 15,
   "id": "139b8568",
   "metadata": {},
   "outputs": [
    {
     "data": {
      "text/plain": [
       "[1, 3, 4, 5, 6, 1, 3, 4, 5, 12, 13, 14, 15, 16, 17, 18, 19]"
      ]
     },
     "execution_count": 15,
     "metadata": {},
     "output_type": "execute_result"
    }
   ],
   "source": [
    "# 15. Create a program that removes all occurrences of a specific element from a list using a `for` loop.\n",
    "l=[1,2,3,4,5,6,1,2,3,4,5,12,13,14,15,16,17,18,19]\n",
    "n=2\n",
    "\n",
    "for i in l:\n",
    "    if i==n:\n",
    "        l.remove(i)\n",
    "l        \n",
    "        \n"
   ]
  },
  {
   "cell_type": "code",
   "execution_count": 16,
   "id": "18e6f180",
   "metadata": {},
   "outputs": [
    {
     "name": "stdout",
     "output_type": "stream",
     "text": [
      "1 * 1 = 1\n",
      "1 * 2 = 2\n",
      "1 * 3 = 3\n",
      "1 * 4 = 4\n",
      "1 * 5 = 5\n",
      "1 * 6 = 6\n",
      "1 * 7 = 7\n",
      "1 * 8 = 8\n",
      "1 * 9 = 9\n",
      "1 * 10 = 10\n",
      "2 * 1 = 2\n",
      "2 * 2 = 4\n",
      "2 * 3 = 6\n",
      "2 * 4 = 8\n",
      "2 * 5 = 10\n",
      "2 * 6 = 12\n",
      "2 * 7 = 14\n",
      "2 * 8 = 16\n",
      "2 * 9 = 18\n",
      "2 * 10 = 20\n",
      "3 * 1 = 3\n",
      "3 * 2 = 6\n",
      "3 * 3 = 9\n",
      "3 * 4 = 12\n",
      "3 * 5 = 15\n",
      "3 * 6 = 18\n",
      "3 * 7 = 21\n",
      "3 * 8 = 24\n",
      "3 * 9 = 27\n",
      "3 * 10 = 30\n",
      "4 * 1 = 4\n",
      "4 * 2 = 8\n",
      "4 * 3 = 12\n",
      "4 * 4 = 16\n",
      "4 * 5 = 20\n",
      "4 * 6 = 24\n",
      "4 * 7 = 28\n",
      "4 * 8 = 32\n",
      "4 * 9 = 36\n",
      "4 * 10 = 40\n",
      "5 * 1 = 5\n",
      "5 * 2 = 10\n",
      "5 * 3 = 15\n",
      "5 * 4 = 20\n",
      "5 * 5 = 25\n",
      "5 * 6 = 30\n",
      "5 * 7 = 35\n",
      "5 * 8 = 40\n",
      "5 * 9 = 45\n",
      "5 * 10 = 50\n"
     ]
    }
   ],
   "source": [
    "# 16. Develop a program that generates a multiplication table for numbers from 1 to 5 using a nested `for` loop.\n",
    "for i in range(1,6):\n",
    "    for j in range(1,11):\n",
    "        print(i,'*',j,'=',j*i)\n",
    "    "
   ]
  },
  {
   "cell_type": "code",
   "execution_count": 17,
   "id": "4112e6d5",
   "metadata": {},
   "outputs": [
    {
     "data": {
      "text/plain": [
       "[25.8, 26.4, 30.0, 35.0, 31.1, 36.7, 38.9, 10.2]"
      ]
     },
     "execution_count": 17,
     "metadata": {},
     "output_type": "execute_result"
    }
   ],
   "source": [
    "# 17. Write a program that converts a list of Fahrenheit temperatures to Celsius using a `for` loop.\n",
    "Fahrenheit=[78.5,79.5,86,95,88,98,102,50.3]\n",
    "Celsius=[]\n",
    "for i in Fahrenheit:\n",
    "    r=round((i-32)*5/9,1)\n",
    "    Celsius.append(r)\n",
    "Celsius"
   ]
  },
  {
   "cell_type": "code",
   "execution_count": 18,
   "id": "1cb546fd",
   "metadata": {},
   "outputs": [
    {
     "name": "stdout",
     "output_type": "stream",
     "text": [
      "5\n",
      "7\n",
      "8\n",
      "9\n",
      "10\n"
     ]
    }
   ],
   "source": [
    "# 18. Create a program to print the common elements from two lists using a `for` loop.\n",
    "\n",
    "l1=[1,2,3,4,5,5,56,7,8,9,10]\n",
    "l2=[5,5,6,7,8,9,0,10,12,11,13,14]\n",
    "\n",
    "ce=[]\n",
    "for i in l1:\n",
    "    if i in l2 and i not in ce:\n",
    "        ce.append(i)\n",
    "for j in l2:\n",
    "    if j in l1 and j not in ce:\n",
    "        ce.append(j)\n",
    "for k in ce:\n",
    "    print(k)\n",
    "        "
   ]
  },
  {
   "cell_type": "code",
   "execution_count": 19,
   "id": "00a49cf9",
   "metadata": {},
   "outputs": [
    {
     "name": "stdout",
     "output_type": "stream",
     "text": [
      "\n",
      "*\n",
      "**\n",
      "***\n",
      "****\n",
      "*****\n",
      "******\n",
      "*******\n",
      "********\n",
      "*********\n"
     ]
    }
   ],
   "source": [
    "# 19. Develop a program that prints the pattern of right-angled triangles using a `for` loop. Use ‘*’ to draw the pattern\n",
    "\n",
    "n=10\n",
    "\n",
    "for i in range(n):\n",
    "    for j in range(i):\n",
    "        print(\"*\", end='')\n",
    "    print()"
   ]
  },
  {
   "cell_type": "code",
   "execution_count": 20,
   "id": "28fba962",
   "metadata": {},
   "outputs": [
    {
     "name": "stdout",
     "output_type": "stream",
     "text": [
      "Enter the first number: 20\n",
      "Enter the second number: 90\n",
      "the GSD for 20 and 90 is 10\n"
     ]
    }
   ],
   "source": [
    "# 20. Write a program to find the greatest common divisor (GCD) of two numbers using a `for` loop\n",
    "\n",
    "n1,n2=int(input(\"Enter the first number: \")),int(input(\"Enter the second number: \"))\n",
    "\n",
    "f1=[]\n",
    "f2=[]\n",
    "\n",
    "c=[]\n",
    "\n",
    "for i in range(1,n1+1):\n",
    "    if n1%i==0:\n",
    "        f1.append(i)\n",
    "\n",
    "for j in range(1,n2+1):\n",
    "    if n2%j==0:\n",
    "        f2.append(j)\n",
    "\n",
    "for k in f1:\n",
    "    if k in f2:\n",
    "        c.append(k)\n",
    "\n",
    "for l in f2:\n",
    "    if l in f1:\n",
    "        c.append(l)\n",
    "        \n",
    "print(\"the GSD for\",n1, \"and\",n2, \"is\", max(c))"
   ]
  },
  {
   "cell_type": "markdown",
   "id": "19f8e8ea",
   "metadata": {},
   "source": [
    "Advanced Level:\n",
    "\n",
    "21. Create a program that calculates the sum of the digits of numbers in a list using a list comprehension.\n",
    "\n",
    "22. Write a program to find the prime factors of a given number using a `for` loop and list comprehension.\n",
    "\n",
    "23. Develop a program that extracts unique elements from a list and stores them in a new list using a list\n",
    "comprehension.\n",
    "\n",
    "24. Create a program that generates a list of all palindromic numbers up to a specified limit using a list\n",
    "comprehension.\n",
    "\n",
    "25. Write a program to flatten a nested list using list comprehension.\n",
    "\n",
    "26. Develop a program that computes the sum of even and odd numbers in a list separately using list\n",
    "comprehension.\n",
    "\n",
    "27. Create a program that generates a list of squares of odd numbers between 1 and 10 using list\n",
    "comprehension.\n",
    "\n",
    "28. Write a program that combines two lists into a dictionary using list comprehension.\n",
    "\n",
    "29. Develop a program that extracts the vowels from a string and stores them in a list using list comprehension.\n",
    "\n",
    "30. Create a program that removes all non-numeric characters from a list of strings using list comprehension.\n"
   ]
  },
  {
   "cell_type": "code",
   "execution_count": 22,
   "id": "ed683ca8",
   "metadata": {},
   "outputs": [
    {
     "data": {
      "text/plain": [
       "[45]"
      ]
     },
     "execution_count": 22,
     "metadata": {},
     "output_type": "execute_result"
    }
   ],
   "source": [
    "# 21. Create a program that calculates the sum of the digits of numbers in a list using a list comprehension.\n",
    "\n",
    "from functools import reduce\n",
    "\n",
    "l=[1,2,3,4,5,6,7,8,9]\n",
    "s=[sum(x for x in l )]\n",
    "s"
   ]
  },
  {
   "cell_type": "code",
   "execution_count": 23,
   "id": "30c158ac",
   "metadata": {},
   "outputs": [
    {
     "data": {
      "text/plain": [
       "[1, 2, 5]"
      ]
     },
     "execution_count": 23,
     "metadata": {},
     "output_type": "execute_result"
    }
   ],
   "source": [
    "# 22. Write a program to find the prime factors of a given number using a `for` loop and list comprehension.\n",
    "\n",
    "n=10\n",
    "\n",
    "f=[x for x in range(1,n) if n%x==0]\n",
    "f"
   ]
  },
  {
   "cell_type": "code",
   "execution_count": 24,
   "id": "d69d8c5b",
   "metadata": {},
   "outputs": [
    {
     "data": {
      "text/plain": [
       "[1, 2, 3, 4, 5, 6, 7, 8, 9]"
      ]
     },
     "execution_count": 24,
     "metadata": {},
     "output_type": "execute_result"
    }
   ],
   "source": [
    "# 23. Develop a program that extracts unique elements from a list and stores them in a new list using a list comprehension.\n",
    "\n",
    "l=[1,2,2,3,3,3,4,5,6,7,7,7,8,8,9]\n",
    "\n",
    "nw_l=[]\n",
    "[nw_l.append(i) for i in l if i not in nw_l]\n",
    "nw_l"
   ]
  },
  {
   "cell_type": "code",
   "execution_count": 25,
   "id": "94d1aa03",
   "metadata": {},
   "outputs": [
    {
     "data": {
      "text/plain": [
       "[0, 1, 2, 3, 4, 5, 6, 7, 8, 9, 11, 22, 33, 44, 55, 66, 77, 88, 99]"
      ]
     },
     "execution_count": 25,
     "metadata": {},
     "output_type": "execute_result"
    }
   ],
   "source": [
    "# 24. Create a program that generates a list of all palindromic numbers up to a specified limit using a list comprehension.\n",
    "limit=100\n",
    "l=[]\n",
    "\n",
    "[l.append(i) for i in range(0,limit) if str(i)==str(i)[::-1]]\n",
    "l"
   ]
  },
  {
   "cell_type": "code",
   "execution_count": 30,
   "id": "8a2c9d4c",
   "metadata": {},
   "outputs": [
    {
     "data": {
      "text/plain": [
       "[5, 1, 2, 'Satya', 5, 'Rohit', 6, 7, 'WC']"
      ]
     },
     "execution_count": 30,
     "metadata": {},
     "output_type": "execute_result"
    }
   ],
   "source": [
    "# 25. Write a program to flatten a nested list using list comprehension.\n",
    "\n",
    "l = [5, 1, [2, \"Satya\", [5],['Rohit']], [6, [[[7, 'WC']]]]]\n",
    "\n",
    "\n",
    "def fl_list(nested_list):\n",
    "    flattened = [item for sublist in nested_list for item in (fl_list(sublist) if isinstance(sublist, list) else [sublist])]\n",
    "    return flattened\n",
    "\n",
    "k=fl_list(l)\n",
    "k"
   ]
  },
  {
   "cell_type": "code",
   "execution_count": 31,
   "id": "d47b6655",
   "metadata": {},
   "outputs": [
    {
     "name": "stdout",
     "output_type": "stream",
     "text": [
      "Flattened List: [1, 2, 3, 4, 5, 6, 7, 8, 9]\n"
     ]
    }
   ],
   "source": [
    "# Function to flatten a nested list\n",
    "def flatten_list(nested_list):\n",
    "    flattened = [item for sublist in nested_list for item in (flatten_list(sublist) if isinstance(sublist, list) else [sublist])]\n",
    "    return flattened\n",
    "\n",
    "# Input multi-level nested list\n",
    "nested_list = [1, [2, 3, [4, 5]], 6, [7, [8, 9]]]\n",
    "\n",
    "# Flatten the nested list\n",
    "flattened_list = flatten_list(nested_list)\n",
    "\n",
    "# Print the flattened list\n",
    "print(\"Flattened List:\", flattened_list)\n"
   ]
  },
  {
   "cell_type": "code",
   "execution_count": 32,
   "id": "0ff56abf",
   "metadata": {},
   "outputs": [
    {
     "name": "stdout",
     "output_type": "stream",
     "text": [
      "Sum of even numberes is  12 and  Sum of odd numberes is  16\n"
     ]
    }
   ],
   "source": [
    "# 26. Develop a program that computes the sum of even and odd numbers in a list separately using list comprehension.\n",
    "\n",
    "l=[1,2,3,4,5,6,7]\n",
    "even=[]\n",
    "odd=[]\n",
    "\n",
    "[even.append(i) if i%2==0 else odd.append(i) for i in l]\n",
    "print (\"Sum of even numberes is \",sum(even),\"and \", \"Sum of odd numberes is \",sum(odd))\n",
    "\n",
    "       "
   ]
  },
  {
   "cell_type": "code",
   "execution_count": 34,
   "id": "36e07ba9",
   "metadata": {},
   "outputs": [
    {
     "data": {
      "text/plain": [
       "[1, 9, 25, 49, 81]"
      ]
     },
     "execution_count": 34,
     "metadata": {},
     "output_type": "execute_result"
    }
   ],
   "source": [
    "# 27. Create a program that generates a list of squares of odd numbers between 1 and 10 using list comprehension.\n",
    "\n",
    "[x**2 for x in range(1,10) if x%2!=0]"
   ]
  },
  {
   "cell_type": "code",
   "execution_count": 33,
   "id": "f4a2ab7b",
   "metadata": {},
   "outputs": [
    {
     "data": {
      "text/plain": [
       "{0: 'a', 1: 'b', 2: 'c', 3: 'd'}"
      ]
     },
     "execution_count": 33,
     "metadata": {},
     "output_type": "execute_result"
    }
   ],
   "source": [
    "# 28. Write a program that combines two lists into a dictionary using list comprehension.\n",
    "\n",
    "keys=[0,1,2,3]\n",
    "values=[\"a\",\"b\",\"c\",\"d\"]\n",
    "\n",
    "{keys[i]: values[i] for i in range(len(keys))}\n"
   ]
  },
  {
   "cell_type": "code",
   "execution_count": 35,
   "id": "4faa9653",
   "metadata": {},
   "outputs": [
    {
     "data": {
      "text/plain": [
       "['i',\n",
       " 'i',\n",
       " 'a',\n",
       " 'e',\n",
       " 'a',\n",
       " 'e',\n",
       " 'o',\n",
       " 'i',\n",
       " 'a',\n",
       " 'e',\n",
       " 'a',\n",
       " 'e',\n",
       " 'o',\n",
       " 'e',\n",
       " 'o',\n",
       " 'a',\n",
       " 'i']"
      ]
     },
     "execution_count": 35,
     "metadata": {},
     "output_type": "execute_result"
    }
   ],
   "source": [
    "# 29. Develop a program that extracts the vowels from a string and stores them in a list using list comprehension.\n",
    "vowels=\"aeiouAEIOU\"\n",
    "strings=\"This is a example of string that extracts the vowels from a string \"\n",
    "\n",
    "l=[]\n",
    "[l.append(i) for i in strings if i in vowels]\n",
    "l"
   ]
  },
  {
   "cell_type": "code",
   "execution_count": 36,
   "id": "19ead279",
   "metadata": {},
   "outputs": [
    {
     "data": {
      "text/plain": [
       "['10', '11', '', '10', '155', '0000']"
      ]
     },
     "execution_count": 36,
     "metadata": {},
     "output_type": "execute_result"
    }
   ],
   "source": [
    "# 30. Create a program that removes all non-numeric characters from a list of strings using list comprehension.\n",
    "num_char=['0','1','2','3','4','5','6','7','8','9']\n",
    "str_mix=['satya10',11,\"ram\",\"Shyam1-0\",155,'00ee00']\n",
    "#------------------------------\n",
    "nw_l=[]\n",
    "\n",
    "for i in str_mix:\n",
    "    temp=[]\n",
    "    for j in str(i):\n",
    "        if j in num_char:\n",
    "            temp.append(j)\n",
    "        k=''.join(temp)\n",
    "    nw_l.append(k)\n",
    "nw_l\n",
    "#-----------------------\n",
    "\n",
    "\n",
    "# using list comprehension\n",
    "\n",
    "[''.join(j for j in str(i) if j in num_char) for i in str_mix]"
   ]
  },
  {
   "cell_type": "markdown",
   "id": "3d001b4b",
   "metadata": {},
   "source": [
    "Challenge Level:\n",
    "\n",
    "31. Write a program to generate a list of prime numbers using the Sieve of Eratosthenes algorithm and list\n",
    "comprehension.\n",
    "\n",
    "32. Create a program that generates a list of all Pythagorean triplets up to a specified limit using list\n",
    "comprehension.\n",
    "33. Develop a program that generates a list of all possible combinations of two lists using list comprehension.\n",
    "\n",
    "34. Write a program that calculates the mean, median, and mode of a list of numbers using list\n",
    "comprehension.\n",
    "\n",
    "35. Create a program that generates Pascal's triangle up to a specified number of rows using list\n",
    "comprehension.\n",
    "\n",
    "36. Develop a program that calculates the sum of the digits of a factorial of numbers from 1 to 5 using list\n",
    "comprehension.\n",
    "\n",
    "37. Write a program that finds the longest word in a sentence using list comprehension.\n",
    "\n",
    "38. Create a program that filters a list of strings to include only those with more than three vowels using list\n",
    "comprehension.\n",
    "\n",
    "39. Develop a program that calculates the sum of the digits of numbers from 1 to 1000 using list\n",
    "comprehension.\n",
    "\n",
    "40. Write a program that generates a list of prime palindromic numbers using list comprehension\n"
   ]
  },
  {
   "cell_type": "code",
   "execution_count": 37,
   "id": "cb23f43e",
   "metadata": {},
   "outputs": [
    {
     "data": {
      "text/plain": [
       "[1, 2, 3, 5, 7, 11, 13, 17, 19, 23, 29, 31, 37, 41, 43, 47, 49, 53, 59]"
      ]
     },
     "execution_count": 37,
     "metadata": {},
     "output_type": "execute_result"
    }
   ],
   "source": [
    "# 31. Write a program to generate a list of prime numbers using the Sieve of Eratosthenes algorithm and list comprehension.\n",
    "\n",
    "n=60\n",
    "pn=list(range(1,n))\n",
    "\n",
    "# for i in range(1,n):\n",
    "#     if (i%2==0 and i-2!=0) or (i%3==0 and i-3!=0) or (i%5==0 and i-5!=0):\n",
    "#         pn.remove(i)\n",
    "# pn        \n",
    "\n",
    "[pn.remove(i)for i in range(1,n) if (i%2==0 and i-2!=0) or (i%3==0 and i-3!=0) or (i%5==0 and i-5!=0)]\n",
    "pn"
   ]
  },
  {
   "cell_type": "code",
   "execution_count": 100,
   "id": "dc952150",
   "metadata": {},
   "outputs": [
    {
     "name": "stdout",
     "output_type": "stream",
     "text": [
      "Enter the limit for Pythagorean triplets: 20\n"
     ]
    },
    {
     "data": {
      "text/plain": [
       "{(3, 4, 5), (5, 12, 13), (6, 8, 10), (8, 15, 17), (9, 12, 15), (12, 16, 20)}"
      ]
     },
     "execution_count": 100,
     "metadata": {},
     "output_type": "execute_result"
    }
   ],
   "source": [
    "# 32. Create a program that generates a list of all Pythagorean triplets up to a specified limit using list comprehension.\n",
    "\n",
    "limit = int(input(\"Enter the limit for Pythagorean triplets: \"))\n",
    "\n",
    "triplets = [(a, b, c) for a in range(1, limit + 1)\n",
    "                       for b in range(a, limit + 1)\n",
    "                       for c in range(b, limit + 1)\n",
    "                       if a**2 + b**2 == c**2]\n",
    "\n",
    "unique_triplets = set(tuple(sorted(triplet)) for triplet in triplets)\n",
    "unique_triplets\n"
   ]
  },
  {
   "cell_type": "code",
   "execution_count": 99,
   "id": "11e51fa8",
   "metadata": {},
   "outputs": [
    {
     "data": {
      "text/plain": [
       "[(1, 'a'),\n",
       " (1, 'b'),\n",
       " (1, 'c'),\n",
       " (2, 'a'),\n",
       " (2, 'b'),\n",
       " (2, 'c'),\n",
       " (3, 'a'),\n",
       " (3, 'b'),\n",
       " (3, 'c')]"
      ]
     },
     "execution_count": 99,
     "metadata": {},
     "output_type": "execute_result"
    }
   ],
   "source": [
    "# 33. Develop a program that generates a list of all possible combinations of two lists using list comprehension.\n",
    "\n",
    "\n",
    "l1 = [1, 2, 3]\n",
    "l2 = ['a', 'b', 'c']\n",
    "\n",
    "\n",
    "combinations = [(x, y) for x in l1 for y in l2]\n",
    "combinations\n"
   ]
  },
  {
   "cell_type": "code",
   "execution_count": 38,
   "id": "beae7284",
   "metadata": {},
   "outputs": [
    {
     "name": "stdout",
     "output_type": "stream",
     "text": [
      "Mean: 5.0\n",
      "Median: 5.0\n",
      "Mode: [3, 7]\n"
     ]
    }
   ],
   "source": [
    "# 34. Write a program that calculates the mean, median, and mode of a list of numbers using list comprehension.\n",
    "\n",
    "l=[1,2,2,3,3,3,4,5,6,7,7,7,8,8,9]\n",
    "\n",
    "mean = sum(l) / len(l)\n",
    "\n",
    "# Median\n",
    "sorted_l = sorted(l)\n",
    "n = len(l)\n",
    "median = (sorted_l[n // 2] + sorted_l[(n - 1) // 2]) / 2\n",
    "\n",
    "# Mode\n",
    "from collections import Counter\n",
    "count = Counter(l)\n",
    "mode = [k for k, v in count.items() if v == max(count.values())]\n",
    "\n",
    "\n",
    "# Print the results\n",
    "print(\"Mean:\", mean)\n",
    "print(\"Median:\", median)\n",
    "print(\"Mode:\", mode)\n"
   ]
  },
  {
   "cell_type": "code",
   "execution_count": null,
   "id": "25434bbf",
   "metadata": {},
   "outputs": [],
   "source": [
    "# 35. Create a program that generates Pascal's triangle up to a specified number of rows using list comprehension.\n",
    "\n",
    "Dont know"
   ]
  },
  {
   "cell_type": "code",
   "execution_count": 103,
   "id": "257ffda8",
   "metadata": {},
   "outputs": [
    {
     "name": "stdout",
     "output_type": "stream",
     "text": [
      "The factorial of 1 is 1, and the sum of its digits is 1\n",
      "The factorial of 2 is 2, and the sum of its digits is 2\n",
      "The factorial of 3 is 6, and the sum of its digits is 6\n",
      "The factorial of 4 is 24, and the sum of its digits is 6\n",
      "The factorial of 5 is 120, and the sum of its digits is 3\n"
     ]
    }
   ],
   "source": [
    "# 36. Develop a program that calculates the sum of the digits of a factorial of numbers from 1 to 5 using list comprehension.\n",
    "\n",
    "\n",
    "def fact(n):\n",
    "    if n == 0:\n",
    "        return 1\n",
    "    else:\n",
    "        return n * fact(n - 1)\n",
    "\n",
    "# List comprehension to calculate factorials for numbers 1 to 5\n",
    "factorials = [fact(n) for n in range(1, 6)]\n",
    "\n",
    "# List comprehension to calculate the sum of digits for each factorial\n",
    "digit_sums = [sum(int(digit) for digit in str(factorial)) for factorial in factorials]\n",
    "\n",
    "# Print the results\n",
    "for n, factorial, digit_sum in zip(range(1, 6), factorials, digit_sums):\n",
    "    print(f\"The factorial of {n} is {factorial}, and the sum of its digits is {digit_sum}\")\n"
   ]
  },
  {
   "cell_type": "code",
   "execution_count": 61,
   "id": "2b89fffa",
   "metadata": {},
   "outputs": [
    {
     "data": {
      "text/plain": [
       "'comprehension'"
      ]
     },
     "execution_count": 61,
     "metadata": {},
     "output_type": "execute_result"
    }
   ],
   "source": [
    "# 37. Write a program that finds the longest word in a sentence using list comprehension.\n",
    "sentence=' Write a program that finds the longest word in a sentence using list comprehension'\n",
    "\n",
    "# ist way\n",
    "l=[]\n",
    "    \n",
    "[l.append(len(i)) for i in sentence.split() ]    \n",
    "sentence.split()[l.index(max(l))]\n",
    "\n",
    "# 2nd way\n",
    "[i for i in sentence.split() if len(i) == max(len(j) for j in sentence.split())]\n"
   ]
  },
  {
   "cell_type": "code",
   "execution_count": 69,
   "id": "ea98f221",
   "metadata": {},
   "outputs": [
    {
     "data": {
      "text/plain": [
       "['aeio', 'teeesta', 'comprehension']"
      ]
     },
     "execution_count": 69,
     "metadata": {},
     "output_type": "execute_result"
    }
   ],
   "source": [
    "# 38. Create a program that filters a list of strings to include only those with more than three vowels using list comprehension.\n",
    "\n",
    "k=['Create','aeio','program','that','filters','a','list','of','teeesta', 'strings', 'to', 'include', 'only', 'those', 'with', 'more', 'than','three', 'vowels', 'using','list', 'comprehension']\n",
    "l=[]\n",
    "\n",
    "vowels='aeiouAEIOU'\n",
    "\n",
    "for i in k:\n",
    "    temp=[]\n",
    "    for j in i:\n",
    "        if j in vowels:\n",
    "            temp.append(j)\n",
    "    if len(temp)>3:\n",
    "        l.append(i)\n",
    "            \n",
    "#list comprehinsion   \n",
    "[l.append(i) for i in k if len([j for j in i if j in vowels])>3]\n",
    "\n",
    "l        \n",
    "        \n"
   ]
  },
  {
   "cell_type": "code",
   "execution_count": 90,
   "id": "ded68014",
   "metadata": {},
   "outputs": [
    {
     "data": {
      "text/plain": [
       "13501"
      ]
     },
     "execution_count": 90,
     "metadata": {},
     "output_type": "execute_result"
    }
   ],
   "source": [
    "# 39. Develop a program that calculates the sum of the digits of numbers from 1 to 1000 using list comprehension.\n",
    "\n",
    "s=0\n",
    "for i in range(1,1001):\n",
    "    for j in str(i):\n",
    "        s=s+int(j)\n",
    "s\n",
    "\n",
    "#by list comprehension\n",
    "\n",
    "k=[sum(int(j) for j in str(i))for i in range(1,1001)]\n",
    "sum(k)"
   ]
  },
  {
   "cell_type": "code",
   "execution_count": 109,
   "id": "83aeb9c6",
   "metadata": {},
   "outputs": [
    {
     "data": {
      "text/plain": [
       "[2,\n",
       " 3,\n",
       " 5,\n",
       " 7,\n",
       " 11,\n",
       " 101,\n",
       " 131,\n",
       " 151,\n",
       " 181,\n",
       " 191,\n",
       " 313,\n",
       " 353,\n",
       " 373,\n",
       " 383,\n",
       " 727,\n",
       " 757,\n",
       " 787,\n",
       " 797,\n",
       " 919,\n",
       " 929]"
      ]
     },
     "execution_count": 109,
     "metadata": {},
     "output_type": "execute_result"
    }
   ],
   "source": [
    "# 40. Write a program that generates a list of prime palindromic numbers using list comprehension\n",
    "\n",
    "\n",
    "def is_prime(num):\n",
    "    if num < 2:\n",
    "        return False\n",
    "    for i in range(2, int(num**0.5) + 1):\n",
    "        if num % i == 0:\n",
    "            return False\n",
    "    return True\n",
    "\n",
    "def is_palindrome(num):\n",
    "    return str(num) == str(num)[::-1]\n",
    "\n",
    "n = 1000  \n",
    "[i for i in range(2, n) if is_prime(i) and is_palindrome(i)]\n",
    "\n"
   ]
  }
 ],
 "metadata": {
  "kernelspec": {
   "display_name": "Python 3 (ipykernel)",
   "language": "python",
   "name": "python3"
  },
  "language_info": {
   "codemirror_mode": {
    "name": "ipython",
    "version": 3
   },
   "file_extension": ".py",
   "mimetype": "text/x-python",
   "name": "python",
   "nbconvert_exporter": "python",
   "pygments_lexer": "ipython3",
   "version": "3.8.13"
  }
 },
 "nbformat": 4,
 "nbformat_minor": 5
}
